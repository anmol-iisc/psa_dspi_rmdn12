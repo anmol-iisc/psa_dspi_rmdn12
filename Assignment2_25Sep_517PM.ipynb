{
  "cells": [
    {
      "cell_type": "markdown",
      "metadata": {
        "id": "sP-478pjr9qa"
      },
      "source": [
        "# Coding Assignment 2: Exploratory Data Analysis on Diabetes Dataset\n",
        "\n",
        "## Background\n",
        "Diabetes is one of the most prevalent chronic diseases and creates significant burdens on healthcare systems. The **Diabetes 130-US hospitals dataset** contains over **100,000 records** of hospital admissions for diabetic patients across **130 U.S. hospitals (1999–2008)**. It includes more than **50 attributes**, covering demographics, admission details, diagnoses, lab results, medications, and hospital outcomes.  \n",
        "\n",
        "Like many real-world healthcare datasets, it presents challenges such as missing values, categorical codes (ICD-9 diagnoses, drug prescriptions), imbalances in outcome variables (e.g., readmission), and inconsistent data formats. Conducting an in-depth **Exploratory Data Analysis (EDA)** will help uncover insights into patient demographics, treatment outcomes, and factors influencing readmission rates.  \n",
        "\n",
        "---\n",
        "\n",
        "## Objectives\n",
        "The goal of this assignment is to conduct a comprehensive **qualitative and quantitative EDA** of the Diabetes dataset. You will:  \n",
        "\n",
        "- **Understand** the dataset structure, including variables, data types, and overall composition.  \n",
        "- **Detect and address** data quality issues, such as missing values, duplicates, and inconsistent categories.  \n",
        "- **Conduct univariate, bivariate, and multivariate analysis** using both qualitative and quantitative EDA, supported by visualization techniques (bar charts, count plots, stacked charts, heatmaps) and statistical methods (descriptive statistics, distribution analysis, and exploration of variable relationships).  \n",
        "- **Visualize** patterns and correlations to uncover key insights and trends.  \n",
        "\n",
        "---\n",
        "\n",
        "## Submission Instructions\n",
        "- This is an **individual assignment** and carries **5% of the total marks** of this course.\n",
        "- You should not discuss your progress or solutions with anyone else.  \n",
        "- Use this **template Jupyter Notebook and dataset** for your work.  \n",
        "\n",
        "At the beginning of the notebook, clearly state:  \n",
        "1. **Your Name and Roll Number**  \n",
        "2. **Python environment details** (version, libraries used).  \n",
        "3. Whether you are running locally or on **Google Colab** (*preferred, to ensure all students work in a consistent environment*).  \n",
        "\n",
        "Additional guidelines:  \n",
        "- Ensure that your notebook is **fully reproducible**: every cell must run sequentially without errors to regenerate the results.  \n",
        "- Submit a **single completed notebook file (.ipynb)** before the deadline.  \n",
        "\n",
        "---\n"
      ],
      "id": "sP-478pjr9qa"
    },
    {
      "cell_type": "markdown",
      "metadata": {
        "id": "DP4Yp1dbr9qd"
      },
      "source": [
        "## Dataset Source\n",
        "- Source of Data : https://archive.ics.uci.edu/dataset/296/diabetes+130-us+hospitals+for+years+1999-2008\n",
        "- It represents **hospital admissions of diabetic patients** across 130 U.S. hospitals from 1999 to 2008.\n",
        "- Read the **Variables Table** in the link above, which provides details of individual variables such as type, role, and description."
      ],
      "id": "DP4Yp1dbr9qd"
    },
    {
      "cell_type": "markdown",
      "metadata": {
        "id": "UmIRAgJ0r9qe"
      },
      "source": [
        "##  Dataset Overview - \"Diabetes_dataset.csv\"\n",
        "- **Number of records:** ~101,766 hospital admissions  \n",
        "- **Number of features:** 53  \n",
        "- **Unit of analysis:** Each row represents **one hospital admission** for a patient (a patient can have multiple admissions).  \n",
        "- **Target variable (Goal):** Predict whether a patient is **readmitted within 30 days** of discharge.  \n",
        "\n",
        "###  Key Features with Mappings\n",
        "- **Admission Type**: `admission_type_id` → mapped to `admission_type_desc`  \n",
        "- **Discharge Disposition**: `discharge_disposition_id` → mapped to `discharge_desc`  \n",
        "- **Admission Source**: `admission_source_id` → mapped to `admission_source_desc`  \n",
        "\n",
        "---\n",
        "\n",
        "##  Important Notes\n",
        "- **Missing values:** Several features contain missing values, often recorded as `\"?\"` (not as `NaN`).   \n",
        "- **ID columns:** Both numeric IDs and their human-readable descriptions are included after merging. IDs may be useful for re-checking or remapping, while descriptions are helpful for analysis.  \n"
      ],
      "id": "UmIRAgJ0r9qe"
    },
    {
      "cell_type": "markdown",
      "metadata": {
        "id": "plwNVmQSr9qe"
      },
      "source": [
        "**Note:** Do not just run plots — write down **interpretations** of your findings.  \n",
        "The goal is to practice *thinking about the data*, not just generating charts.\n"
      ],
      "id": "plwNVmQSr9qe"
    },
    {
      "cell_type": "markdown",
      "metadata": {
        "id": "LeUg4BOBr9qe"
      },
      "source": [
        "# 📌 Preamble: Environment Details\n",
        "\n",
        "Before starting the assignment, please fill in the following:\n",
        "\n",
        "- **Name**: <Your Name>  \n",
        "- **Roll Number**: <Your Roll Number>  \n",
        "- **Environment**: Local Machine / Google Colab (choose one)  \n",
        "\n",
        "Run the code cell below to print your Python and library versions.\n"
      ],
      "id": "LeUg4BOBr9qe"
    },
    {
      "cell_type": "code",
      "execution_count": 6,
      "metadata": {
        "colab": {
          "base_uri": "https://localhost:8080/"
        },
        "id": "4sNVcnNBr9qf",
        "outputId": "b88f69d8-851e-4a29-b00c-6cf42b93c1b7"
      },
      "outputs": [
        {
          "output_type": "stream",
          "name": "stdout",
          "text": [
            "Python version: 3.12.11 (main, Jun  4 2025, 08:56:18) [GCC 11.4.0]\n",
            "Pandas version: 2.2.2\n",
            "NumPy version: 2.0.2\n",
            "Matplotlib version: 3.10.0\n",
            "Seaborn version: 0.13.2\n"
          ]
        }
      ],
      "source": [
        "# Preamble: Environment Check\n",
        "\n",
        "import sys\n",
        "import pandas as pd\n",
        "import numpy as np\n",
        "import matplotlib\n",
        "import seaborn as sns\n",
        "\n",
        "print(\"Python version:\", sys.version)\n",
        "print(\"Pandas version:\", pd.__version__)\n",
        "print(\"NumPy version:\", np.__version__)\n",
        "print(\"Matplotlib version:\", matplotlib.__version__)\n",
        "print(\"Seaborn version:\", sns.__version__)"
      ],
      "id": "4sNVcnNBr9qf"
    },
    {
      "cell_type": "markdown",
      "metadata": {
        "id": "Qr6DqSgDr9qg"
      },
      "source": [
        "## Load and Inspect the dataset structure"
      ],
      "id": "Qr6DqSgDr9qg"
    },
    {
      "cell_type": "code",
      "execution_count": 7,
      "metadata": {
        "id": "Dmd8ydIDr9qg"
      },
      "outputs": [],
      "source": [
        "df=pd.read_csv(\"Diabetes_dataset.csv\")"
      ],
      "id": "Dmd8ydIDr9qg"
    },
    {
      "cell_type": "code",
      "execution_count": 9,
      "metadata": {
        "colab": {
          "base_uri": "https://localhost:8080/",
          "height": 359
        },
        "id": "8p7iJ0ulr9qg",
        "outputId": "c9d85ff9-b7a5-4eac-d541-12b768857e82"
      },
      "outputs": [
        {
          "output_type": "execute_result",
          "data": {
            "text/plain": [
              "   encounter_id  patient_nbr             race  gender      age weight  \\\n",
              "0       2278392      8222157        Caucasian  Female   [0-10)      ?   \n",
              "1        149190     55629189        Caucasian  Female  [10-20)      ?   \n",
              "2         64410     86047875  AfricanAmerican  Female  [20-30)      ?   \n",
              "3        500364     82442376        Caucasian    Male  [30-40)      ?   \n",
              "4         16680     42519267        Caucasian    Male  [40-50)      ?   \n",
              "\n",
              "   admission_type_id  discharge_disposition_id  admission_source_id  \\\n",
              "0                  6                        25                    1   \n",
              "1                  1                         1                    7   \n",
              "2                  1                         1                    7   \n",
              "3                  1                         1                    7   \n",
              "4                  1                         1                    7   \n",
              "\n",
              "   time_in_hospital  ... glipizide-metformin glimepiride-pioglitazone  \\\n",
              "0                 1  ...                  No                       No   \n",
              "1                 3  ...                  No                       No   \n",
              "2                 2  ...                  No                       No   \n",
              "3                 2  ...                  No                       No   \n",
              "4                 1  ...                  No                       No   \n",
              "\n",
              "   metformin-rosiglitazone  metformin-pioglitazone  change  diabetesMed  \\\n",
              "0                       No                      No      No           No   \n",
              "1                       No                      No      Ch          Yes   \n",
              "2                       No                      No      No          Yes   \n",
              "3                       No                      No      Ch          Yes   \n",
              "4                       No                      No      Ch          Yes   \n",
              "\n",
              "   readmitted  admission_type_desc      discharge_desc admission_source_desc  \n",
              "0          NO                  NaN          Not Mapped    Physician Referral  \n",
              "1         >30            Emergency  Discharged to home        Emergency Room  \n",
              "2          NO            Emergency  Discharged to home        Emergency Room  \n",
              "3          NO            Emergency  Discharged to home        Emergency Room  \n",
              "4          NO            Emergency  Discharged to home        Emergency Room  \n",
              "\n",
              "[5 rows x 53 columns]"
            ],
            "text/html": [
              "\n",
              "  <div id=\"df-ec3d119b-c4ff-44c3-a6e9-0246c9986050\" class=\"colab-df-container\">\n",
              "    <div>\n",
              "<style scoped>\n",
              "    .dataframe tbody tr th:only-of-type {\n",
              "        vertical-align: middle;\n",
              "    }\n",
              "\n",
              "    .dataframe tbody tr th {\n",
              "        vertical-align: top;\n",
              "    }\n",
              "\n",
              "    .dataframe thead th {\n",
              "        text-align: right;\n",
              "    }\n",
              "</style>\n",
              "<table border=\"1\" class=\"dataframe\">\n",
              "  <thead>\n",
              "    <tr style=\"text-align: right;\">\n",
              "      <th></th>\n",
              "      <th>encounter_id</th>\n",
              "      <th>patient_nbr</th>\n",
              "      <th>race</th>\n",
              "      <th>gender</th>\n",
              "      <th>age</th>\n",
              "      <th>weight</th>\n",
              "      <th>admission_type_id</th>\n",
              "      <th>discharge_disposition_id</th>\n",
              "      <th>admission_source_id</th>\n",
              "      <th>time_in_hospital</th>\n",
              "      <th>...</th>\n",
              "      <th>glipizide-metformin</th>\n",
              "      <th>glimepiride-pioglitazone</th>\n",
              "      <th>metformin-rosiglitazone</th>\n",
              "      <th>metformin-pioglitazone</th>\n",
              "      <th>change</th>\n",
              "      <th>diabetesMed</th>\n",
              "      <th>readmitted</th>\n",
              "      <th>admission_type_desc</th>\n",
              "      <th>discharge_desc</th>\n",
              "      <th>admission_source_desc</th>\n",
              "    </tr>\n",
              "  </thead>\n",
              "  <tbody>\n",
              "    <tr>\n",
              "      <th>0</th>\n",
              "      <td>2278392</td>\n",
              "      <td>8222157</td>\n",
              "      <td>Caucasian</td>\n",
              "      <td>Female</td>\n",
              "      <td>[0-10)</td>\n",
              "      <td>?</td>\n",
              "      <td>6</td>\n",
              "      <td>25</td>\n",
              "      <td>1</td>\n",
              "      <td>1</td>\n",
              "      <td>...</td>\n",
              "      <td>No</td>\n",
              "      <td>No</td>\n",
              "      <td>No</td>\n",
              "      <td>No</td>\n",
              "      <td>No</td>\n",
              "      <td>No</td>\n",
              "      <td>NO</td>\n",
              "      <td>NaN</td>\n",
              "      <td>Not Mapped</td>\n",
              "      <td>Physician Referral</td>\n",
              "    </tr>\n",
              "    <tr>\n",
              "      <th>1</th>\n",
              "      <td>149190</td>\n",
              "      <td>55629189</td>\n",
              "      <td>Caucasian</td>\n",
              "      <td>Female</td>\n",
              "      <td>[10-20)</td>\n",
              "      <td>?</td>\n",
              "      <td>1</td>\n",
              "      <td>1</td>\n",
              "      <td>7</td>\n",
              "      <td>3</td>\n",
              "      <td>...</td>\n",
              "      <td>No</td>\n",
              "      <td>No</td>\n",
              "      <td>No</td>\n",
              "      <td>No</td>\n",
              "      <td>Ch</td>\n",
              "      <td>Yes</td>\n",
              "      <td>&gt;30</td>\n",
              "      <td>Emergency</td>\n",
              "      <td>Discharged to home</td>\n",
              "      <td>Emergency Room</td>\n",
              "    </tr>\n",
              "    <tr>\n",
              "      <th>2</th>\n",
              "      <td>64410</td>\n",
              "      <td>86047875</td>\n",
              "      <td>AfricanAmerican</td>\n",
              "      <td>Female</td>\n",
              "      <td>[20-30)</td>\n",
              "      <td>?</td>\n",
              "      <td>1</td>\n",
              "      <td>1</td>\n",
              "      <td>7</td>\n",
              "      <td>2</td>\n",
              "      <td>...</td>\n",
              "      <td>No</td>\n",
              "      <td>No</td>\n",
              "      <td>No</td>\n",
              "      <td>No</td>\n",
              "      <td>No</td>\n",
              "      <td>Yes</td>\n",
              "      <td>NO</td>\n",
              "      <td>Emergency</td>\n",
              "      <td>Discharged to home</td>\n",
              "      <td>Emergency Room</td>\n",
              "    </tr>\n",
              "    <tr>\n",
              "      <th>3</th>\n",
              "      <td>500364</td>\n",
              "      <td>82442376</td>\n",
              "      <td>Caucasian</td>\n",
              "      <td>Male</td>\n",
              "      <td>[30-40)</td>\n",
              "      <td>?</td>\n",
              "      <td>1</td>\n",
              "      <td>1</td>\n",
              "      <td>7</td>\n",
              "      <td>2</td>\n",
              "      <td>...</td>\n",
              "      <td>No</td>\n",
              "      <td>No</td>\n",
              "      <td>No</td>\n",
              "      <td>No</td>\n",
              "      <td>Ch</td>\n",
              "      <td>Yes</td>\n",
              "      <td>NO</td>\n",
              "      <td>Emergency</td>\n",
              "      <td>Discharged to home</td>\n",
              "      <td>Emergency Room</td>\n",
              "    </tr>\n",
              "    <tr>\n",
              "      <th>4</th>\n",
              "      <td>16680</td>\n",
              "      <td>42519267</td>\n",
              "      <td>Caucasian</td>\n",
              "      <td>Male</td>\n",
              "      <td>[40-50)</td>\n",
              "      <td>?</td>\n",
              "      <td>1</td>\n",
              "      <td>1</td>\n",
              "      <td>7</td>\n",
              "      <td>1</td>\n",
              "      <td>...</td>\n",
              "      <td>No</td>\n",
              "      <td>No</td>\n",
              "      <td>No</td>\n",
              "      <td>No</td>\n",
              "      <td>Ch</td>\n",
              "      <td>Yes</td>\n",
              "      <td>NO</td>\n",
              "      <td>Emergency</td>\n",
              "      <td>Discharged to home</td>\n",
              "      <td>Emergency Room</td>\n",
              "    </tr>\n",
              "  </tbody>\n",
              "</table>\n",
              "<p>5 rows × 53 columns</p>\n",
              "</div>\n",
              "    <div class=\"colab-df-buttons\">\n",
              "\n",
              "  <div class=\"colab-df-container\">\n",
              "    <button class=\"colab-df-convert\" onclick=\"convertToInteractive('df-ec3d119b-c4ff-44c3-a6e9-0246c9986050')\"\n",
              "            title=\"Convert this dataframe to an interactive table.\"\n",
              "            style=\"display:none;\">\n",
              "\n",
              "  <svg xmlns=\"http://www.w3.org/2000/svg\" height=\"24px\" viewBox=\"0 -960 960 960\">\n",
              "    <path d=\"M120-120v-720h720v720H120Zm60-500h600v-160H180v160Zm220 220h160v-160H400v160Zm0 220h160v-160H400v160ZM180-400h160v-160H180v160Zm440 0h160v-160H620v160ZM180-180h160v-160H180v160Zm440 0h160v-160H620v160Z\"/>\n",
              "  </svg>\n",
              "    </button>\n",
              "\n",
              "  <style>\n",
              "    .colab-df-container {\n",
              "      display:flex;\n",
              "      gap: 12px;\n",
              "    }\n",
              "\n",
              "    .colab-df-convert {\n",
              "      background-color: #E8F0FE;\n",
              "      border: none;\n",
              "      border-radius: 50%;\n",
              "      cursor: pointer;\n",
              "      display: none;\n",
              "      fill: #1967D2;\n",
              "      height: 32px;\n",
              "      padding: 0 0 0 0;\n",
              "      width: 32px;\n",
              "    }\n",
              "\n",
              "    .colab-df-convert:hover {\n",
              "      background-color: #E2EBFA;\n",
              "      box-shadow: 0px 1px 2px rgba(60, 64, 67, 0.3), 0px 1px 3px 1px rgba(60, 64, 67, 0.15);\n",
              "      fill: #174EA6;\n",
              "    }\n",
              "\n",
              "    .colab-df-buttons div {\n",
              "      margin-bottom: 4px;\n",
              "    }\n",
              "\n",
              "    [theme=dark] .colab-df-convert {\n",
              "      background-color: #3B4455;\n",
              "      fill: #D2E3FC;\n",
              "    }\n",
              "\n",
              "    [theme=dark] .colab-df-convert:hover {\n",
              "      background-color: #434B5C;\n",
              "      box-shadow: 0px 1px 3px 1px rgba(0, 0, 0, 0.15);\n",
              "      filter: drop-shadow(0px 1px 2px rgba(0, 0, 0, 0.3));\n",
              "      fill: #FFFFFF;\n",
              "    }\n",
              "  </style>\n",
              "\n",
              "    <script>\n",
              "      const buttonEl =\n",
              "        document.querySelector('#df-ec3d119b-c4ff-44c3-a6e9-0246c9986050 button.colab-df-convert');\n",
              "      buttonEl.style.display =\n",
              "        google.colab.kernel.accessAllowed ? 'block' : 'none';\n",
              "\n",
              "      async function convertToInteractive(key) {\n",
              "        const element = document.querySelector('#df-ec3d119b-c4ff-44c3-a6e9-0246c9986050');\n",
              "        const dataTable =\n",
              "          await google.colab.kernel.invokeFunction('convertToInteractive',\n",
              "                                                    [key], {});\n",
              "        if (!dataTable) return;\n",
              "\n",
              "        const docLinkHtml = 'Like what you see? Visit the ' +\n",
              "          '<a target=\"_blank\" href=https://colab.research.google.com/notebooks/data_table.ipynb>data table notebook</a>'\n",
              "          + ' to learn more about interactive tables.';\n",
              "        element.innerHTML = '';\n",
              "        dataTable['output_type'] = 'display_data';\n",
              "        await google.colab.output.renderOutput(dataTable, element);\n",
              "        const docLink = document.createElement('div');\n",
              "        docLink.innerHTML = docLinkHtml;\n",
              "        element.appendChild(docLink);\n",
              "      }\n",
              "    </script>\n",
              "  </div>\n",
              "\n",
              "\n",
              "    <div id=\"df-9ae0effa-cfac-4b68-9bfa-1b52fe4ee225\">\n",
              "      <button class=\"colab-df-quickchart\" onclick=\"quickchart('df-9ae0effa-cfac-4b68-9bfa-1b52fe4ee225')\"\n",
              "                title=\"Suggest charts\"\n",
              "                style=\"display:none;\">\n",
              "\n",
              "<svg xmlns=\"http://www.w3.org/2000/svg\" height=\"24px\"viewBox=\"0 0 24 24\"\n",
              "     width=\"24px\">\n",
              "    <g>\n",
              "        <path d=\"M19 3H5c-1.1 0-2 .9-2 2v14c0 1.1.9 2 2 2h14c1.1 0 2-.9 2-2V5c0-1.1-.9-2-2-2zM9 17H7v-7h2v7zm4 0h-2V7h2v10zm4 0h-2v-4h2v4z\"/>\n",
              "    </g>\n",
              "</svg>\n",
              "      </button>\n",
              "\n",
              "<style>\n",
              "  .colab-df-quickchart {\n",
              "      --bg-color: #E8F0FE;\n",
              "      --fill-color: #1967D2;\n",
              "      --hover-bg-color: #E2EBFA;\n",
              "      --hover-fill-color: #174EA6;\n",
              "      --disabled-fill-color: #AAA;\n",
              "      --disabled-bg-color: #DDD;\n",
              "  }\n",
              "\n",
              "  [theme=dark] .colab-df-quickchart {\n",
              "      --bg-color: #3B4455;\n",
              "      --fill-color: #D2E3FC;\n",
              "      --hover-bg-color: #434B5C;\n",
              "      --hover-fill-color: #FFFFFF;\n",
              "      --disabled-bg-color: #3B4455;\n",
              "      --disabled-fill-color: #666;\n",
              "  }\n",
              "\n",
              "  .colab-df-quickchart {\n",
              "    background-color: var(--bg-color);\n",
              "    border: none;\n",
              "    border-radius: 50%;\n",
              "    cursor: pointer;\n",
              "    display: none;\n",
              "    fill: var(--fill-color);\n",
              "    height: 32px;\n",
              "    padding: 0;\n",
              "    width: 32px;\n",
              "  }\n",
              "\n",
              "  .colab-df-quickchart:hover {\n",
              "    background-color: var(--hover-bg-color);\n",
              "    box-shadow: 0 1px 2px rgba(60, 64, 67, 0.3), 0 1px 3px 1px rgba(60, 64, 67, 0.15);\n",
              "    fill: var(--button-hover-fill-color);\n",
              "  }\n",
              "\n",
              "  .colab-df-quickchart-complete:disabled,\n",
              "  .colab-df-quickchart-complete:disabled:hover {\n",
              "    background-color: var(--disabled-bg-color);\n",
              "    fill: var(--disabled-fill-color);\n",
              "    box-shadow: none;\n",
              "  }\n",
              "\n",
              "  .colab-df-spinner {\n",
              "    border: 2px solid var(--fill-color);\n",
              "    border-color: transparent;\n",
              "    border-bottom-color: var(--fill-color);\n",
              "    animation:\n",
              "      spin 1s steps(1) infinite;\n",
              "  }\n",
              "\n",
              "  @keyframes spin {\n",
              "    0% {\n",
              "      border-color: transparent;\n",
              "      border-bottom-color: var(--fill-color);\n",
              "      border-left-color: var(--fill-color);\n",
              "    }\n",
              "    20% {\n",
              "      border-color: transparent;\n",
              "      border-left-color: var(--fill-color);\n",
              "      border-top-color: var(--fill-color);\n",
              "    }\n",
              "    30% {\n",
              "      border-color: transparent;\n",
              "      border-left-color: var(--fill-color);\n",
              "      border-top-color: var(--fill-color);\n",
              "      border-right-color: var(--fill-color);\n",
              "    }\n",
              "    40% {\n",
              "      border-color: transparent;\n",
              "      border-right-color: var(--fill-color);\n",
              "      border-top-color: var(--fill-color);\n",
              "    }\n",
              "    60% {\n",
              "      border-color: transparent;\n",
              "      border-right-color: var(--fill-color);\n",
              "    }\n",
              "    80% {\n",
              "      border-color: transparent;\n",
              "      border-right-color: var(--fill-color);\n",
              "      border-bottom-color: var(--fill-color);\n",
              "    }\n",
              "    90% {\n",
              "      border-color: transparent;\n",
              "      border-bottom-color: var(--fill-color);\n",
              "    }\n",
              "  }\n",
              "</style>\n",
              "\n",
              "      <script>\n",
              "        async function quickchart(key) {\n",
              "          const quickchartButtonEl =\n",
              "            document.querySelector('#' + key + ' button');\n",
              "          quickchartButtonEl.disabled = true;  // To prevent multiple clicks.\n",
              "          quickchartButtonEl.classList.add('colab-df-spinner');\n",
              "          try {\n",
              "            const charts = await google.colab.kernel.invokeFunction(\n",
              "                'suggestCharts', [key], {});\n",
              "          } catch (error) {\n",
              "            console.error('Error during call to suggestCharts:', error);\n",
              "          }\n",
              "          quickchartButtonEl.classList.remove('colab-df-spinner');\n",
              "          quickchartButtonEl.classList.add('colab-df-quickchart-complete');\n",
              "        }\n",
              "        (() => {\n",
              "          let quickchartButtonEl =\n",
              "            document.querySelector('#df-9ae0effa-cfac-4b68-9bfa-1b52fe4ee225 button');\n",
              "          quickchartButtonEl.style.display =\n",
              "            google.colab.kernel.accessAllowed ? 'block' : 'none';\n",
              "        })();\n",
              "      </script>\n",
              "    </div>\n",
              "\n",
              "    </div>\n",
              "  </div>\n"
            ],
            "application/vnd.google.colaboratory.intrinsic+json": {
              "type": "dataframe",
              "variable_name": "df"
            }
          },
          "metadata": {},
          "execution_count": 9
        }
      ],
      "source": [
        "df.head()"
      ],
      "id": "8p7iJ0ulr9qg"
    },
    {
      "cell_type": "code",
      "source": [
        "df.shape"
      ],
      "metadata": {
        "colab": {
          "base_uri": "https://localhost:8080/"
        },
        "id": "KLkejwk5shaq",
        "outputId": "4191d7cb-91f3-41c6-f068-2ce8ef401dbf"
      },
      "id": "KLkejwk5shaq",
      "execution_count": 11,
      "outputs": [
        {
          "output_type": "execute_result",
          "data": {
            "text/plain": [
              "(101766, 53)"
            ]
          },
          "metadata": {},
          "execution_count": 11
        }
      ]
    },
    {
      "cell_type": "code",
      "source": [
        "df.info()"
      ],
      "metadata": {
        "colab": {
          "base_uri": "https://localhost:8080/"
        },
        "id": "gDjKoFuIsb-1",
        "outputId": "fc45aa80-6005-4d52-b497-312ef5ff95ab"
      },
      "id": "gDjKoFuIsb-1",
      "execution_count": 10,
      "outputs": [
        {
          "output_type": "stream",
          "name": "stdout",
          "text": [
            "<class 'pandas.core.frame.DataFrame'>\n",
            "RangeIndex: 101766 entries, 0 to 101765\n",
            "Data columns (total 53 columns):\n",
            " #   Column                    Non-Null Count   Dtype \n",
            "---  ------                    --------------   ----- \n",
            " 0   encounter_id              101766 non-null  int64 \n",
            " 1   patient_nbr               101766 non-null  int64 \n",
            " 2   race                      101766 non-null  object\n",
            " 3   gender                    101766 non-null  object\n",
            " 4   age                       101766 non-null  object\n",
            " 5   weight                    101766 non-null  object\n",
            " 6   admission_type_id         101766 non-null  int64 \n",
            " 7   discharge_disposition_id  101766 non-null  int64 \n",
            " 8   admission_source_id       101766 non-null  int64 \n",
            " 9   time_in_hospital          101766 non-null  int64 \n",
            " 10  payer_code                101766 non-null  object\n",
            " 11  medical_specialty         101766 non-null  object\n",
            " 12  num_lab_procedures        101766 non-null  int64 \n",
            " 13  num_procedures            101766 non-null  int64 \n",
            " 14  num_medications           101766 non-null  int64 \n",
            " 15  number_outpatient         101766 non-null  int64 \n",
            " 16  number_emergency          101766 non-null  int64 \n",
            " 17  number_inpatient          101766 non-null  int64 \n",
            " 18  diag_1                    101766 non-null  object\n",
            " 19  diag_2                    101766 non-null  object\n",
            " 20  diag_3                    101766 non-null  object\n",
            " 21  number_diagnoses          101766 non-null  int64 \n",
            " 22  max_glu_serum             5346 non-null    object\n",
            " 23  A1Cresult                 17018 non-null   object\n",
            " 24  metformin                 101766 non-null  object\n",
            " 25  repaglinide               101766 non-null  object\n",
            " 26  nateglinide               101766 non-null  object\n",
            " 27  chlorpropamide            101766 non-null  object\n",
            " 28  glimepiride               101766 non-null  object\n",
            " 29  acetohexamide             101766 non-null  object\n",
            " 30  glipizide                 101766 non-null  object\n",
            " 31  glyburide                 101766 non-null  object\n",
            " 32  tolbutamide               101766 non-null  object\n",
            " 33  pioglitazone              101766 non-null  object\n",
            " 34  rosiglitazone             101766 non-null  object\n",
            " 35  acarbose                  101766 non-null  object\n",
            " 36  miglitol                  101766 non-null  object\n",
            " 37  troglitazone              101766 non-null  object\n",
            " 38  tolazamide                101766 non-null  object\n",
            " 39  examide                   101766 non-null  object\n",
            " 40  citoglipton               101766 non-null  object\n",
            " 41  insulin                   101766 non-null  object\n",
            " 42  glyburide-metformin       101766 non-null  object\n",
            " 43  glipizide-metformin       101766 non-null  object\n",
            " 44  glimepiride-pioglitazone  101766 non-null  object\n",
            " 45  metformin-rosiglitazone   101766 non-null  object\n",
            " 46  metformin-pioglitazone    101766 non-null  object\n",
            " 47  change                    101766 non-null  object\n",
            " 48  diabetesMed               101766 non-null  object\n",
            " 49  readmitted                101766 non-null  object\n",
            " 50  admission_type_desc       96475 non-null   object\n",
            " 51  discharge_desc            98075 non-null   object\n",
            " 52  admission_source_desc     94985 non-null   object\n",
            "dtypes: int64(13), object(40)\n",
            "memory usage: 41.2+ MB\n"
          ]
        }
      ]
    },
    {
      "cell_type": "code",
      "source": [],
      "metadata": {
        "id": "By6l0WN5sc0V"
      },
      "id": "By6l0WN5sc0V",
      "execution_count": null,
      "outputs": []
    },
    {
      "cell_type": "code",
      "source": [],
      "metadata": {
        "id": "7BA7VvFWsdGP"
      },
      "id": "7BA7VvFWsdGP",
      "execution_count": null,
      "outputs": []
    },
    {
      "cell_type": "code",
      "source": [],
      "metadata": {
        "id": "G6PfJklCsdQN"
      },
      "id": "G6PfJklCsdQN",
      "execution_count": null,
      "outputs": []
    },
    {
      "cell_type": "markdown",
      "metadata": {
        "id": "9x3jdrEir9qg"
      },
      "source": [
        "## Data Pre-processing (cleaning, transformation, handling missing values, etc.)"
      ],
      "id": "9x3jdrEir9qg"
    },
    {
      "cell_type": "code",
      "execution_count": 7,
      "metadata": {
        "id": "BUkjUVWjr9qh"
      },
      "outputs": [],
      "source": [],
      "id": "BUkjUVWjr9qh"
    },
    {
      "cell_type": "code",
      "execution_count": 7,
      "metadata": {
        "id": "SfZOYSAlr9qh"
      },
      "outputs": [],
      "source": [],
      "id": "SfZOYSAlr9qh"
    },
    {
      "cell_type": "markdown",
      "metadata": {
        "id": "YLORRoU8r9qh"
      },
      "source": [
        "## Univariate Analysis"
      ],
      "id": "YLORRoU8r9qh"
    },
    {
      "cell_type": "code",
      "execution_count": 7,
      "metadata": {
        "id": "B5LcM2j5r9qh"
      },
      "outputs": [],
      "source": [],
      "id": "B5LcM2j5r9qh"
    },
    {
      "cell_type": "code",
      "execution_count": 7,
      "metadata": {
        "id": "YxaAo7B3r9qh"
      },
      "outputs": [],
      "source": [],
      "id": "YxaAo7B3r9qh"
    },
    {
      "cell_type": "markdown",
      "metadata": {
        "id": "O_sB4prur9qh"
      },
      "source": [
        "## Bivariate Analysis"
      ],
      "id": "O_sB4prur9qh"
    },
    {
      "cell_type": "code",
      "execution_count": 7,
      "metadata": {
        "id": "-lVkGY2_r9qh"
      },
      "outputs": [],
      "source": [],
      "id": "-lVkGY2_r9qh"
    },
    {
      "cell_type": "code",
      "execution_count": 7,
      "metadata": {
        "id": "YZGLkFVVr9qh"
      },
      "outputs": [],
      "source": [],
      "id": "YZGLkFVVr9qh"
    },
    {
      "cell_type": "code",
      "execution_count": 7,
      "metadata": {
        "id": "zOPyRAqRr9qh"
      },
      "outputs": [],
      "source": [],
      "id": "zOPyRAqRr9qh"
    },
    {
      "cell_type": "markdown",
      "metadata": {
        "id": "CrWga23-r9qh"
      },
      "source": [
        "## Multivariate Analysis"
      ],
      "id": "CrWga23-r9qh"
    },
    {
      "cell_type": "code",
      "execution_count": 7,
      "metadata": {
        "id": "eVaiGngur9qh"
      },
      "outputs": [],
      "source": [],
      "id": "eVaiGngur9qh"
    },
    {
      "cell_type": "code",
      "execution_count": 7,
      "metadata": {
        "id": "NB2X8uYMr9qh"
      },
      "outputs": [],
      "source": [],
      "id": "NB2X8uYMr9qh"
    },
    {
      "cell_type": "code",
      "execution_count": 7,
      "metadata": {
        "id": "n-dAyl-hr9qh"
      },
      "outputs": [],
      "source": [],
      "id": "n-dAyl-hr9qh"
    },
    {
      "cell_type": "markdown",
      "metadata": {
        "id": "w-YaQQeSr9qh"
      },
      "source": [
        "## Summarize insights"
      ],
      "id": "w-YaQQeSr9qh"
    },
    {
      "cell_type": "markdown",
      "metadata": {
        "id": "4M58v96Zr9qh"
      },
      "source": [],
      "id": "4M58v96Zr9qh"
    }
  ],
  "metadata": {
    "kernelspec": {
      "display_name": "Python 3",
      "language": "python",
      "name": "python3"
    },
    "language_info": {
      "codemirror_mode": {
        "name": "ipython",
        "version": 3
      },
      "file_extension": ".py",
      "mimetype": "text/x-python",
      "name": "python",
      "nbconvert_exporter": "python",
      "pygments_lexer": "ipython3",
      "version": "3.7.4"
    },
    "colab": {
      "provenance": []
    }
  },
  "nbformat": 4,
  "nbformat_minor": 5
}