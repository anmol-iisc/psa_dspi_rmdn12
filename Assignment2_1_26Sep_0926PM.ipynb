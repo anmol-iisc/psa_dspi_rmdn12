{
  "cells": [
    {
      "cell_type": "markdown",
      "metadata": {
        "id": "view-in-github",
        "colab_type": "text"
      },
      "source": [
        "<a href=\"https://colab.research.google.com/github/anmol-iisc/psa_dspi_rmdn12/blob/main/Assignment2_1_26Sep_0926PM.ipynb\" target=\"_parent\"><img src=\"https://colab.research.google.com/assets/colab-badge.svg\" alt=\"Open In Colab\"/></a>"
      ]
    },
    {
      "cell_type": "markdown",
      "metadata": {
        "id": "sP-478pjr9qa"
      },
      "source": [
        "# Coding Assignment 2: Exploratory Data Analysis on Diabetes Dataset\n",
        "\n",
        "## Background\n",
        "Diabetes is one of the most prevalent chronic diseases and creates significant burdens on healthcare systems. The **Diabetes 130-US hospitals dataset** contains over **100,000 records** of hospital admissions for diabetic patients across **130 U.S. hospitals (1999–2008)**. It includes more than **50 attributes**, covering demographics, admission details, diagnoses, lab results, medications, and hospital outcomes.  \n",
        "\n",
        "Like many real-world healthcare datasets, it presents challenges such as missing values, categorical codes (ICD-9 diagnoses, drug prescriptions), imbalances in outcome variables (e.g., readmission), and inconsistent data formats. Conducting an in-depth **Exploratory Data Analysis (EDA)** will help uncover insights into patient demographics, treatment outcomes, and factors influencing readmission rates.  \n",
        "\n",
        "---\n",
        "\n",
        "## Objectives\n",
        "The goal of this assignment is to conduct a comprehensive **qualitative and quantitative EDA** of the Diabetes dataset. You will:  \n",
        "\n",
        "- **Understand** the dataset structure, including variables, data types, and overall composition.  \n",
        "- **Detect and address** data quality issues, such as missing values, duplicates, and inconsistent categories.  \n",
        "- **Conduct univariate, bivariate, and multivariate analysis** using both qualitative and quantitative EDA, supported by visualization techniques (bar charts, count plots, stacked charts, heatmaps) and statistical methods (descriptive statistics, distribution analysis, and exploration of variable relationships).  \n",
        "- **Visualize** patterns and correlations to uncover key insights and trends.  \n",
        "\n",
        "---\n",
        "\n",
        "## Submission Instructions\n",
        "- This is an **individual assignment** and carries **5% of the total marks** of this course.\n",
        "- You should not discuss your progress or solutions with anyone else.  \n",
        "- Use this **template Jupyter Notebook and dataset** for your work.  \n",
        "\n",
        "At the beginning of the notebook, clearly state:  \n",
        "1. **Your Name and Roll Number**  \n",
        "2. **Python environment details** (version, libraries used).  \n",
        "3. Whether you are running locally or on **Google Colab** (*preferred, to ensure all students work in a consistent environment*).  \n",
        "\n",
        "Additional guidelines:  \n",
        "- Ensure that your notebook is **fully reproducible**: every cell must run sequentially without errors to regenerate the results.  \n",
        "- Submit a **single completed notebook file (.ipynb)** before the deadline.  \n",
        "\n",
        "---\n"
      ],
      "id": "sP-478pjr9qa"
    },
    {
      "cell_type": "markdown",
      "metadata": {
        "id": "DP4Yp1dbr9qd"
      },
      "source": [
        "## Dataset Source\n",
        "- Source of Data : https://archive.ics.uci.edu/dataset/296/diabetes+130-us+hospitals+for+years+1999-2008\n",
        "- It represents **hospital admissions of diabetic patients** across 130 U.S. hospitals from 1999 to 2008.\n",
        "- Read the **Variables Table** in the link above, which provides details of individual variables such as type, role, and description."
      ],
      "id": "DP4Yp1dbr9qd"
    },
    {
      "cell_type": "markdown",
      "metadata": {
        "id": "UmIRAgJ0r9qe"
      },
      "source": [
        "##  Dataset Overview - \"Diabetes_dataset.csv\"\n",
        "- **Number of records:** ~101,766 hospital admissions  \n",
        "- **Number of features:** 53  \n",
        "- **Unit of analysis:** Each row represents **one hospital admission** for a patient (a patient can have multiple admissions).  \n",
        "- **Target variable (Goal):** Predict whether a patient is **readmitted within 30 days** of discharge.  \n",
        "\n",
        "###  Key Features with Mappings\n",
        "- **Admission Type**: `admission_type_id` → mapped to `admission_type_desc`  \n",
        "- **Discharge Disposition**: `discharge_disposition_id` → mapped to `discharge_desc`  \n",
        "- **Admission Source**: `admission_source_id` → mapped to `admission_source_desc`  \n",
        "\n",
        "---\n",
        "\n",
        "##  Important Notes\n",
        "- **Missing values:** Several features contain missing values, often recorded as `\"?\"` (not as `NaN`).   \n",
        "- **ID columns:** Both numeric IDs and their human-readable descriptions are included after merging. IDs may be useful for re-checking or remapping, while descriptions are helpful for analysis.  \n"
      ],
      "id": "UmIRAgJ0r9qe"
    },
    {
      "cell_type": "markdown",
      "metadata": {
        "id": "plwNVmQSr9qe"
      },
      "source": [
        "**Note:** Do not just run plots — write down **interpretations** of your findings.  \n",
        "The goal is to practice *thinking about the data*, not just generating charts.\n"
      ],
      "id": "plwNVmQSr9qe"
    },
    {
      "cell_type": "markdown",
      "metadata": {
        "id": "LeUg4BOBr9qe"
      },
      "source": [
        "# 📌 Preamble: Environment Details\n",
        "\n",
        "Before starting the assignment, please fill in the following:\n",
        "\n",
        "- **Name**: Anmol Gupta  \n",
        "- **Email**: anmolg@iisc.ac.in  \n",
        "- **Environment**: Google Colab  \n",
        "\n",
        "Run the code cell below to print your Python and library versions.\n"
      ],
      "id": "LeUg4BOBr9qe"
    },
    {
      "cell_type": "code",
      "execution_count": 931,
      "metadata": {
        "colab": {
          "base_uri": "https://localhost:8080/"
        },
        "id": "4sNVcnNBr9qf",
        "outputId": "ac96a817-2463-4108-fe9c-0fd522dc2280"
      },
      "outputs": [
        {
          "output_type": "stream",
          "name": "stdout",
          "text": [
            "Python version: 3.12.11 (main, Jun  4 2025, 08:56:18) [GCC 11.4.0]\n",
            "Pandas version: 2.2.2\n",
            "NumPy version: 2.0.2\n",
            "Matplotlib version: 3.10.0\n",
            "Seaborn version: 0.13.2\n"
          ]
        }
      ],
      "source": [
        "# Preamble: Environment Check\n",
        "\n",
        "import sys\n",
        "import pandas as pd\n",
        "import numpy as np\n",
        "import matplotlib\n",
        "import seaborn as sns\n",
        "\n",
        "print(\"Python version:\", sys.version)\n",
        "print(\"Pandas version:\", pd.__version__)\n",
        "print(\"NumPy version:\", np.__version__)\n",
        "print(\"Matplotlib version:\", matplotlib.__version__)\n",
        "print(\"Seaborn version:\", sns.__version__)"
      ],
      "id": "4sNVcnNBr9qf"
    },
    {
      "cell_type": "markdown",
      "metadata": {
        "id": "Qr6DqSgDr9qg"
      },
      "source": [
        "## Load and Inspect the dataset structure"
      ],
      "id": "Qr6DqSgDr9qg"
    },
    {
      "cell_type": "markdown",
      "source": [
        "#### Load the dataset"
      ],
      "metadata": {
        "id": "1rnesGGA_ga2"
      },
      "id": "1rnesGGA_ga2"
    },
    {
      "cell_type": "code",
      "execution_count": 932,
      "metadata": {
        "id": "Dmd8ydIDr9qg"
      },
      "outputs": [],
      "source": [
        "df=pd.read_csv(\"Diabetes_dataset.csv\")"
      ],
      "id": "Dmd8ydIDr9qg"
    },
    {
      "cell_type": "markdown",
      "source": [
        "#### Inspect the dataset"
      ],
      "metadata": {
        "id": "thOzuBLm_q4q"
      },
      "id": "thOzuBLm_q4q"
    },
    {
      "cell_type": "code",
      "source": [
        "df.shape"
      ],
      "metadata": {
        "colab": {
          "base_uri": "https://localhost:8080/"
        },
        "id": "KLkejwk5shaq",
        "outputId": "75e17fc3-1e6f-49c8-e354-26379f6247ff"
      },
      "id": "KLkejwk5shaq",
      "execution_count": 933,
      "outputs": [
        {
          "output_type": "execute_result",
          "data": {
            "text/plain": [
              "(101766, 53)"
            ]
          },
          "metadata": {},
          "execution_count": 933
        }
      ]
    },
    {
      "cell_type": "code",
      "execution_count": 934,
      "metadata": {
        "colab": {
          "base_uri": "https://localhost:8080/",
          "height": 359
        },
        "id": "8p7iJ0ulr9qg",
        "outputId": "63eaf51e-7a47-4d10-e8ed-416d79f28b06"
      },
      "outputs": [
        {
          "output_type": "execute_result",
          "data": {
            "text/plain": [
              "   encounter_id  patient_nbr             race  gender      age weight  \\\n",
              "0       2278392      8222157        Caucasian  Female   [0-10)      ?   \n",
              "1        149190     55629189        Caucasian  Female  [10-20)      ?   \n",
              "2         64410     86047875  AfricanAmerican  Female  [20-30)      ?   \n",
              "3        500364     82442376        Caucasian    Male  [30-40)      ?   \n",
              "4         16680     42519267        Caucasian    Male  [40-50)      ?   \n",
              "\n",
              "   admission_type_id  discharge_disposition_id  admission_source_id  \\\n",
              "0                  6                        25                    1   \n",
              "1                  1                         1                    7   \n",
              "2                  1                         1                    7   \n",
              "3                  1                         1                    7   \n",
              "4                  1                         1                    7   \n",
              "\n",
              "   time_in_hospital  ... glipizide-metformin glimepiride-pioglitazone  \\\n",
              "0                 1  ...                  No                       No   \n",
              "1                 3  ...                  No                       No   \n",
              "2                 2  ...                  No                       No   \n",
              "3                 2  ...                  No                       No   \n",
              "4                 1  ...                  No                       No   \n",
              "\n",
              "   metformin-rosiglitazone  metformin-pioglitazone  change  diabetesMed  \\\n",
              "0                       No                      No      No           No   \n",
              "1                       No                      No      Ch          Yes   \n",
              "2                       No                      No      No          Yes   \n",
              "3                       No                      No      Ch          Yes   \n",
              "4                       No                      No      Ch          Yes   \n",
              "\n",
              "   readmitted  admission_type_desc      discharge_desc admission_source_desc  \n",
              "0          NO                  NaN          Not Mapped    Physician Referral  \n",
              "1         >30            Emergency  Discharged to home        Emergency Room  \n",
              "2          NO            Emergency  Discharged to home        Emergency Room  \n",
              "3          NO            Emergency  Discharged to home        Emergency Room  \n",
              "4          NO            Emergency  Discharged to home        Emergency Room  \n",
              "\n",
              "[5 rows x 53 columns]"
            ],
            "text/html": [
              "\n",
              "  <div id=\"df-b7f0fda1-bd61-416f-a83a-0766073afd9d\" class=\"colab-df-container\">\n",
              "    <div>\n",
              "<style scoped>\n",
              "    .dataframe tbody tr th:only-of-type {\n",
              "        vertical-align: middle;\n",
              "    }\n",
              "\n",
              "    .dataframe tbody tr th {\n",
              "        vertical-align: top;\n",
              "    }\n",
              "\n",
              "    .dataframe thead th {\n",
              "        text-align: right;\n",
              "    }\n",
              "</style>\n",
              "<table border=\"1\" class=\"dataframe\">\n",
              "  <thead>\n",
              "    <tr style=\"text-align: right;\">\n",
              "      <th></th>\n",
              "      <th>encounter_id</th>\n",
              "      <th>patient_nbr</th>\n",
              "      <th>race</th>\n",
              "      <th>gender</th>\n",
              "      <th>age</th>\n",
              "      <th>weight</th>\n",
              "      <th>admission_type_id</th>\n",
              "      <th>discharge_disposition_id</th>\n",
              "      <th>admission_source_id</th>\n",
              "      <th>time_in_hospital</th>\n",
              "      <th>...</th>\n",
              "      <th>glipizide-metformin</th>\n",
              "      <th>glimepiride-pioglitazone</th>\n",
              "      <th>metformin-rosiglitazone</th>\n",
              "      <th>metformin-pioglitazone</th>\n",
              "      <th>change</th>\n",
              "      <th>diabetesMed</th>\n",
              "      <th>readmitted</th>\n",
              "      <th>admission_type_desc</th>\n",
              "      <th>discharge_desc</th>\n",
              "      <th>admission_source_desc</th>\n",
              "    </tr>\n",
              "  </thead>\n",
              "  <tbody>\n",
              "    <tr>\n",
              "      <th>0</th>\n",
              "      <td>2278392</td>\n",
              "      <td>8222157</td>\n",
              "      <td>Caucasian</td>\n",
              "      <td>Female</td>\n",
              "      <td>[0-10)</td>\n",
              "      <td>?</td>\n",
              "      <td>6</td>\n",
              "      <td>25</td>\n",
              "      <td>1</td>\n",
              "      <td>1</td>\n",
              "      <td>...</td>\n",
              "      <td>No</td>\n",
              "      <td>No</td>\n",
              "      <td>No</td>\n",
              "      <td>No</td>\n",
              "      <td>No</td>\n",
              "      <td>No</td>\n",
              "      <td>NO</td>\n",
              "      <td>NaN</td>\n",
              "      <td>Not Mapped</td>\n",
              "      <td>Physician Referral</td>\n",
              "    </tr>\n",
              "    <tr>\n",
              "      <th>1</th>\n",
              "      <td>149190</td>\n",
              "      <td>55629189</td>\n",
              "      <td>Caucasian</td>\n",
              "      <td>Female</td>\n",
              "      <td>[10-20)</td>\n",
              "      <td>?</td>\n",
              "      <td>1</td>\n",
              "      <td>1</td>\n",
              "      <td>7</td>\n",
              "      <td>3</td>\n",
              "      <td>...</td>\n",
              "      <td>No</td>\n",
              "      <td>No</td>\n",
              "      <td>No</td>\n",
              "      <td>No</td>\n",
              "      <td>Ch</td>\n",
              "      <td>Yes</td>\n",
              "      <td>&gt;30</td>\n",
              "      <td>Emergency</td>\n",
              "      <td>Discharged to home</td>\n",
              "      <td>Emergency Room</td>\n",
              "    </tr>\n",
              "    <tr>\n",
              "      <th>2</th>\n",
              "      <td>64410</td>\n",
              "      <td>86047875</td>\n",
              "      <td>AfricanAmerican</td>\n",
              "      <td>Female</td>\n",
              "      <td>[20-30)</td>\n",
              "      <td>?</td>\n",
              "      <td>1</td>\n",
              "      <td>1</td>\n",
              "      <td>7</td>\n",
              "      <td>2</td>\n",
              "      <td>...</td>\n",
              "      <td>No</td>\n",
              "      <td>No</td>\n",
              "      <td>No</td>\n",
              "      <td>No</td>\n",
              "      <td>No</td>\n",
              "      <td>Yes</td>\n",
              "      <td>NO</td>\n",
              "      <td>Emergency</td>\n",
              "      <td>Discharged to home</td>\n",
              "      <td>Emergency Room</td>\n",
              "    </tr>\n",
              "    <tr>\n",
              "      <th>3</th>\n",
              "      <td>500364</td>\n",
              "      <td>82442376</td>\n",
              "      <td>Caucasian</td>\n",
              "      <td>Male</td>\n",
              "      <td>[30-40)</td>\n",
              "      <td>?</td>\n",
              "      <td>1</td>\n",
              "      <td>1</td>\n",
              "      <td>7</td>\n",
              "      <td>2</td>\n",
              "      <td>...</td>\n",
              "      <td>No</td>\n",
              "      <td>No</td>\n",
              "      <td>No</td>\n",
              "      <td>No</td>\n",
              "      <td>Ch</td>\n",
              "      <td>Yes</td>\n",
              "      <td>NO</td>\n",
              "      <td>Emergency</td>\n",
              "      <td>Discharged to home</td>\n",
              "      <td>Emergency Room</td>\n",
              "    </tr>\n",
              "    <tr>\n",
              "      <th>4</th>\n",
              "      <td>16680</td>\n",
              "      <td>42519267</td>\n",
              "      <td>Caucasian</td>\n",
              "      <td>Male</td>\n",
              "      <td>[40-50)</td>\n",
              "      <td>?</td>\n",
              "      <td>1</td>\n",
              "      <td>1</td>\n",
              "      <td>7</td>\n",
              "      <td>1</td>\n",
              "      <td>...</td>\n",
              "      <td>No</td>\n",
              "      <td>No</td>\n",
              "      <td>No</td>\n",
              "      <td>No</td>\n",
              "      <td>Ch</td>\n",
              "      <td>Yes</td>\n",
              "      <td>NO</td>\n",
              "      <td>Emergency</td>\n",
              "      <td>Discharged to home</td>\n",
              "      <td>Emergency Room</td>\n",
              "    </tr>\n",
              "  </tbody>\n",
              "</table>\n",
              "<p>5 rows × 53 columns</p>\n",
              "</div>\n",
              "    <div class=\"colab-df-buttons\">\n",
              "\n",
              "  <div class=\"colab-df-container\">\n",
              "    <button class=\"colab-df-convert\" onclick=\"convertToInteractive('df-b7f0fda1-bd61-416f-a83a-0766073afd9d')\"\n",
              "            title=\"Convert this dataframe to an interactive table.\"\n",
              "            style=\"display:none;\">\n",
              "\n",
              "  <svg xmlns=\"http://www.w3.org/2000/svg\" height=\"24px\" viewBox=\"0 -960 960 960\">\n",
              "    <path d=\"M120-120v-720h720v720H120Zm60-500h600v-160H180v160Zm220 220h160v-160H400v160Zm0 220h160v-160H400v160ZM180-400h160v-160H180v160Zm440 0h160v-160H620v160ZM180-180h160v-160H180v160Zm440 0h160v-160H620v160Z\"/>\n",
              "  </svg>\n",
              "    </button>\n",
              "\n",
              "  <style>\n",
              "    .colab-df-container {\n",
              "      display:flex;\n",
              "      gap: 12px;\n",
              "    }\n",
              "\n",
              "    .colab-df-convert {\n",
              "      background-color: #E8F0FE;\n",
              "      border: none;\n",
              "      border-radius: 50%;\n",
              "      cursor: pointer;\n",
              "      display: none;\n",
              "      fill: #1967D2;\n",
              "      height: 32px;\n",
              "      padding: 0 0 0 0;\n",
              "      width: 32px;\n",
              "    }\n",
              "\n",
              "    .colab-df-convert:hover {\n",
              "      background-color: #E2EBFA;\n",
              "      box-shadow: 0px 1px 2px rgba(60, 64, 67, 0.3), 0px 1px 3px 1px rgba(60, 64, 67, 0.15);\n",
              "      fill: #174EA6;\n",
              "    }\n",
              "\n",
              "    .colab-df-buttons div {\n",
              "      margin-bottom: 4px;\n",
              "    }\n",
              "\n",
              "    [theme=dark] .colab-df-convert {\n",
              "      background-color: #3B4455;\n",
              "      fill: #D2E3FC;\n",
              "    }\n",
              "\n",
              "    [theme=dark] .colab-df-convert:hover {\n",
              "      background-color: #434B5C;\n",
              "      box-shadow: 0px 1px 3px 1px rgba(0, 0, 0, 0.15);\n",
              "      filter: drop-shadow(0px 1px 2px rgba(0, 0, 0, 0.3));\n",
              "      fill: #FFFFFF;\n",
              "    }\n",
              "  </style>\n",
              "\n",
              "    <script>\n",
              "      const buttonEl =\n",
              "        document.querySelector('#df-b7f0fda1-bd61-416f-a83a-0766073afd9d button.colab-df-convert');\n",
              "      buttonEl.style.display =\n",
              "        google.colab.kernel.accessAllowed ? 'block' : 'none';\n",
              "\n",
              "      async function convertToInteractive(key) {\n",
              "        const element = document.querySelector('#df-b7f0fda1-bd61-416f-a83a-0766073afd9d');\n",
              "        const dataTable =\n",
              "          await google.colab.kernel.invokeFunction('convertToInteractive',\n",
              "                                                    [key], {});\n",
              "        if (!dataTable) return;\n",
              "\n",
              "        const docLinkHtml = 'Like what you see? Visit the ' +\n",
              "          '<a target=\"_blank\" href=https://colab.research.google.com/notebooks/data_table.ipynb>data table notebook</a>'\n",
              "          + ' to learn more about interactive tables.';\n",
              "        element.innerHTML = '';\n",
              "        dataTable['output_type'] = 'display_data';\n",
              "        await google.colab.output.renderOutput(dataTable, element);\n",
              "        const docLink = document.createElement('div');\n",
              "        docLink.innerHTML = docLinkHtml;\n",
              "        element.appendChild(docLink);\n",
              "      }\n",
              "    </script>\n",
              "  </div>\n",
              "\n",
              "\n",
              "    <div id=\"df-a9248141-20a1-470d-8a19-abaaa1bc607d\">\n",
              "      <button class=\"colab-df-quickchart\" onclick=\"quickchart('df-a9248141-20a1-470d-8a19-abaaa1bc607d')\"\n",
              "                title=\"Suggest charts\"\n",
              "                style=\"display:none;\">\n",
              "\n",
              "<svg xmlns=\"http://www.w3.org/2000/svg\" height=\"24px\"viewBox=\"0 0 24 24\"\n",
              "     width=\"24px\">\n",
              "    <g>\n",
              "        <path d=\"M19 3H5c-1.1 0-2 .9-2 2v14c0 1.1.9 2 2 2h14c1.1 0 2-.9 2-2V5c0-1.1-.9-2-2-2zM9 17H7v-7h2v7zm4 0h-2V7h2v10zm4 0h-2v-4h2v4z\"/>\n",
              "    </g>\n",
              "</svg>\n",
              "      </button>\n",
              "\n",
              "<style>\n",
              "  .colab-df-quickchart {\n",
              "      --bg-color: #E8F0FE;\n",
              "      --fill-color: #1967D2;\n",
              "      --hover-bg-color: #E2EBFA;\n",
              "      --hover-fill-color: #174EA6;\n",
              "      --disabled-fill-color: #AAA;\n",
              "      --disabled-bg-color: #DDD;\n",
              "  }\n",
              "\n",
              "  [theme=dark] .colab-df-quickchart {\n",
              "      --bg-color: #3B4455;\n",
              "      --fill-color: #D2E3FC;\n",
              "      --hover-bg-color: #434B5C;\n",
              "      --hover-fill-color: #FFFFFF;\n",
              "      --disabled-bg-color: #3B4455;\n",
              "      --disabled-fill-color: #666;\n",
              "  }\n",
              "\n",
              "  .colab-df-quickchart {\n",
              "    background-color: var(--bg-color);\n",
              "    border: none;\n",
              "    border-radius: 50%;\n",
              "    cursor: pointer;\n",
              "    display: none;\n",
              "    fill: var(--fill-color);\n",
              "    height: 32px;\n",
              "    padding: 0;\n",
              "    width: 32px;\n",
              "  }\n",
              "\n",
              "  .colab-df-quickchart:hover {\n",
              "    background-color: var(--hover-bg-color);\n",
              "    box-shadow: 0 1px 2px rgba(60, 64, 67, 0.3), 0 1px 3px 1px rgba(60, 64, 67, 0.15);\n",
              "    fill: var(--button-hover-fill-color);\n",
              "  }\n",
              "\n",
              "  .colab-df-quickchart-complete:disabled,\n",
              "  .colab-df-quickchart-complete:disabled:hover {\n",
              "    background-color: var(--disabled-bg-color);\n",
              "    fill: var(--disabled-fill-color);\n",
              "    box-shadow: none;\n",
              "  }\n",
              "\n",
              "  .colab-df-spinner {\n",
              "    border: 2px solid var(--fill-color);\n",
              "    border-color: transparent;\n",
              "    border-bottom-color: var(--fill-color);\n",
              "    animation:\n",
              "      spin 1s steps(1) infinite;\n",
              "  }\n",
              "\n",
              "  @keyframes spin {\n",
              "    0% {\n",
              "      border-color: transparent;\n",
              "      border-bottom-color: var(--fill-color);\n",
              "      border-left-color: var(--fill-color);\n",
              "    }\n",
              "    20% {\n",
              "      border-color: transparent;\n",
              "      border-left-color: var(--fill-color);\n",
              "      border-top-color: var(--fill-color);\n",
              "    }\n",
              "    30% {\n",
              "      border-color: transparent;\n",
              "      border-left-color: var(--fill-color);\n",
              "      border-top-color: var(--fill-color);\n",
              "      border-right-color: var(--fill-color);\n",
              "    }\n",
              "    40% {\n",
              "      border-color: transparent;\n",
              "      border-right-color: var(--fill-color);\n",
              "      border-top-color: var(--fill-color);\n",
              "    }\n",
              "    60% {\n",
              "      border-color: transparent;\n",
              "      border-right-color: var(--fill-color);\n",
              "    }\n",
              "    80% {\n",
              "      border-color: transparent;\n",
              "      border-right-color: var(--fill-color);\n",
              "      border-bottom-color: var(--fill-color);\n",
              "    }\n",
              "    90% {\n",
              "      border-color: transparent;\n",
              "      border-bottom-color: var(--fill-color);\n",
              "    }\n",
              "  }\n",
              "</style>\n",
              "\n",
              "      <script>\n",
              "        async function quickchart(key) {\n",
              "          const quickchartButtonEl =\n",
              "            document.querySelector('#' + key + ' button');\n",
              "          quickchartButtonEl.disabled = true;  // To prevent multiple clicks.\n",
              "          quickchartButtonEl.classList.add('colab-df-spinner');\n",
              "          try {\n",
              "            const charts = await google.colab.kernel.invokeFunction(\n",
              "                'suggestCharts', [key], {});\n",
              "          } catch (error) {\n",
              "            console.error('Error during call to suggestCharts:', error);\n",
              "          }\n",
              "          quickchartButtonEl.classList.remove('colab-df-spinner');\n",
              "          quickchartButtonEl.classList.add('colab-df-quickchart-complete');\n",
              "        }\n",
              "        (() => {\n",
              "          let quickchartButtonEl =\n",
              "            document.querySelector('#df-a9248141-20a1-470d-8a19-abaaa1bc607d button');\n",
              "          quickchartButtonEl.style.display =\n",
              "            google.colab.kernel.accessAllowed ? 'block' : 'none';\n",
              "        })();\n",
              "      </script>\n",
              "    </div>\n",
              "\n",
              "    </div>\n",
              "  </div>\n"
            ],
            "application/vnd.google.colaboratory.intrinsic+json": {
              "type": "dataframe",
              "variable_name": "df"
            }
          },
          "metadata": {},
          "execution_count": 934
        }
      ],
      "source": [
        "df.head()"
      ],
      "id": "8p7iJ0ulr9qg"
    },
    {
      "cell_type": "code",
      "source": [
        "df.describe()"
      ],
      "metadata": {
        "id": "By6l0WN5sc0V",
        "colab": {
          "base_uri": "https://localhost:8080/",
          "height": 320
        },
        "outputId": "cddf5b48-bceb-4ac1-c8dd-a1b5977bd64a"
      },
      "id": "By6l0WN5sc0V",
      "execution_count": 935,
      "outputs": [
        {
          "output_type": "execute_result",
          "data": {
            "text/plain": [
              "       encounter_id   patient_nbr  admission_type_id  \\\n",
              "count  1.017660e+05  1.017660e+05      101766.000000   \n",
              "mean   1.652016e+08  5.433040e+07           2.024006   \n",
              "std    1.026403e+08  3.869636e+07           1.445403   \n",
              "min    1.252200e+04  1.350000e+02           1.000000   \n",
              "25%    8.496119e+07  2.341322e+07           1.000000   \n",
              "50%    1.523890e+08  4.550514e+07           1.000000   \n",
              "75%    2.302709e+08  8.754595e+07           3.000000   \n",
              "max    4.438672e+08  1.895026e+08           8.000000   \n",
              "\n",
              "       discharge_disposition_id  admission_source_id  time_in_hospital  \\\n",
              "count             101766.000000        101766.000000     101766.000000   \n",
              "mean                   3.715642             5.754437          4.395987   \n",
              "std                    5.280166             4.064081          2.985108   \n",
              "min                    1.000000             1.000000          1.000000   \n",
              "25%                    1.000000             1.000000          2.000000   \n",
              "50%                    1.000000             7.000000          4.000000   \n",
              "75%                    4.000000             7.000000          6.000000   \n",
              "max                   28.000000            25.000000         14.000000   \n",
              "\n",
              "       num_lab_procedures  num_procedures  num_medications  number_outpatient  \\\n",
              "count       101766.000000   101766.000000    101766.000000      101766.000000   \n",
              "mean            43.095641        1.339730        16.021844           0.369357   \n",
              "std             19.674362        1.705807         8.127566           1.267265   \n",
              "min              1.000000        0.000000         1.000000           0.000000   \n",
              "25%             31.000000        0.000000        10.000000           0.000000   \n",
              "50%             44.000000        1.000000        15.000000           0.000000   \n",
              "75%             57.000000        2.000000        20.000000           0.000000   \n",
              "max            132.000000        6.000000        81.000000          42.000000   \n",
              "\n",
              "       number_emergency  number_inpatient  number_diagnoses  \n",
              "count     101766.000000     101766.000000     101766.000000  \n",
              "mean           0.197836          0.635566          7.422607  \n",
              "std            0.930472          1.262863          1.933600  \n",
              "min            0.000000          0.000000          1.000000  \n",
              "25%            0.000000          0.000000          6.000000  \n",
              "50%            0.000000          0.000000          8.000000  \n",
              "75%            0.000000          1.000000          9.000000  \n",
              "max           76.000000         21.000000         16.000000  "
            ],
            "text/html": [
              "\n",
              "  <div id=\"df-2c6851f4-0cc5-48f8-a60c-ccc7f9378a4d\" class=\"colab-df-container\">\n",
              "    <div>\n",
              "<style scoped>\n",
              "    .dataframe tbody tr th:only-of-type {\n",
              "        vertical-align: middle;\n",
              "    }\n",
              "\n",
              "    .dataframe tbody tr th {\n",
              "        vertical-align: top;\n",
              "    }\n",
              "\n",
              "    .dataframe thead th {\n",
              "        text-align: right;\n",
              "    }\n",
              "</style>\n",
              "<table border=\"1\" class=\"dataframe\">\n",
              "  <thead>\n",
              "    <tr style=\"text-align: right;\">\n",
              "      <th></th>\n",
              "      <th>encounter_id</th>\n",
              "      <th>patient_nbr</th>\n",
              "      <th>admission_type_id</th>\n",
              "      <th>discharge_disposition_id</th>\n",
              "      <th>admission_source_id</th>\n",
              "      <th>time_in_hospital</th>\n",
              "      <th>num_lab_procedures</th>\n",
              "      <th>num_procedures</th>\n",
              "      <th>num_medications</th>\n",
              "      <th>number_outpatient</th>\n",
              "      <th>number_emergency</th>\n",
              "      <th>number_inpatient</th>\n",
              "      <th>number_diagnoses</th>\n",
              "    </tr>\n",
              "  </thead>\n",
              "  <tbody>\n",
              "    <tr>\n",
              "      <th>count</th>\n",
              "      <td>1.017660e+05</td>\n",
              "      <td>1.017660e+05</td>\n",
              "      <td>101766.000000</td>\n",
              "      <td>101766.000000</td>\n",
              "      <td>101766.000000</td>\n",
              "      <td>101766.000000</td>\n",
              "      <td>101766.000000</td>\n",
              "      <td>101766.000000</td>\n",
              "      <td>101766.000000</td>\n",
              "      <td>101766.000000</td>\n",
              "      <td>101766.000000</td>\n",
              "      <td>101766.000000</td>\n",
              "      <td>101766.000000</td>\n",
              "    </tr>\n",
              "    <tr>\n",
              "      <th>mean</th>\n",
              "      <td>1.652016e+08</td>\n",
              "      <td>5.433040e+07</td>\n",
              "      <td>2.024006</td>\n",
              "      <td>3.715642</td>\n",
              "      <td>5.754437</td>\n",
              "      <td>4.395987</td>\n",
              "      <td>43.095641</td>\n",
              "      <td>1.339730</td>\n",
              "      <td>16.021844</td>\n",
              "      <td>0.369357</td>\n",
              "      <td>0.197836</td>\n",
              "      <td>0.635566</td>\n",
              "      <td>7.422607</td>\n",
              "    </tr>\n",
              "    <tr>\n",
              "      <th>std</th>\n",
              "      <td>1.026403e+08</td>\n",
              "      <td>3.869636e+07</td>\n",
              "      <td>1.445403</td>\n",
              "      <td>5.280166</td>\n",
              "      <td>4.064081</td>\n",
              "      <td>2.985108</td>\n",
              "      <td>19.674362</td>\n",
              "      <td>1.705807</td>\n",
              "      <td>8.127566</td>\n",
              "      <td>1.267265</td>\n",
              "      <td>0.930472</td>\n",
              "      <td>1.262863</td>\n",
              "      <td>1.933600</td>\n",
              "    </tr>\n",
              "    <tr>\n",
              "      <th>min</th>\n",
              "      <td>1.252200e+04</td>\n",
              "      <td>1.350000e+02</td>\n",
              "      <td>1.000000</td>\n",
              "      <td>1.000000</td>\n",
              "      <td>1.000000</td>\n",
              "      <td>1.000000</td>\n",
              "      <td>1.000000</td>\n",
              "      <td>0.000000</td>\n",
              "      <td>1.000000</td>\n",
              "      <td>0.000000</td>\n",
              "      <td>0.000000</td>\n",
              "      <td>0.000000</td>\n",
              "      <td>1.000000</td>\n",
              "    </tr>\n",
              "    <tr>\n",
              "      <th>25%</th>\n",
              "      <td>8.496119e+07</td>\n",
              "      <td>2.341322e+07</td>\n",
              "      <td>1.000000</td>\n",
              "      <td>1.000000</td>\n",
              "      <td>1.000000</td>\n",
              "      <td>2.000000</td>\n",
              "      <td>31.000000</td>\n",
              "      <td>0.000000</td>\n",
              "      <td>10.000000</td>\n",
              "      <td>0.000000</td>\n",
              "      <td>0.000000</td>\n",
              "      <td>0.000000</td>\n",
              "      <td>6.000000</td>\n",
              "    </tr>\n",
              "    <tr>\n",
              "      <th>50%</th>\n",
              "      <td>1.523890e+08</td>\n",
              "      <td>4.550514e+07</td>\n",
              "      <td>1.000000</td>\n",
              "      <td>1.000000</td>\n",
              "      <td>7.000000</td>\n",
              "      <td>4.000000</td>\n",
              "      <td>44.000000</td>\n",
              "      <td>1.000000</td>\n",
              "      <td>15.000000</td>\n",
              "      <td>0.000000</td>\n",
              "      <td>0.000000</td>\n",
              "      <td>0.000000</td>\n",
              "      <td>8.000000</td>\n",
              "    </tr>\n",
              "    <tr>\n",
              "      <th>75%</th>\n",
              "      <td>2.302709e+08</td>\n",
              "      <td>8.754595e+07</td>\n",
              "      <td>3.000000</td>\n",
              "      <td>4.000000</td>\n",
              "      <td>7.000000</td>\n",
              "      <td>6.000000</td>\n",
              "      <td>57.000000</td>\n",
              "      <td>2.000000</td>\n",
              "      <td>20.000000</td>\n",
              "      <td>0.000000</td>\n",
              "      <td>0.000000</td>\n",
              "      <td>1.000000</td>\n",
              "      <td>9.000000</td>\n",
              "    </tr>\n",
              "    <tr>\n",
              "      <th>max</th>\n",
              "      <td>4.438672e+08</td>\n",
              "      <td>1.895026e+08</td>\n",
              "      <td>8.000000</td>\n",
              "      <td>28.000000</td>\n",
              "      <td>25.000000</td>\n",
              "      <td>14.000000</td>\n",
              "      <td>132.000000</td>\n",
              "      <td>6.000000</td>\n",
              "      <td>81.000000</td>\n",
              "      <td>42.000000</td>\n",
              "      <td>76.000000</td>\n",
              "      <td>21.000000</td>\n",
              "      <td>16.000000</td>\n",
              "    </tr>\n",
              "  </tbody>\n",
              "</table>\n",
              "</div>\n",
              "    <div class=\"colab-df-buttons\">\n",
              "\n",
              "  <div class=\"colab-df-container\">\n",
              "    <button class=\"colab-df-convert\" onclick=\"convertToInteractive('df-2c6851f4-0cc5-48f8-a60c-ccc7f9378a4d')\"\n",
              "            title=\"Convert this dataframe to an interactive table.\"\n",
              "            style=\"display:none;\">\n",
              "\n",
              "  <svg xmlns=\"http://www.w3.org/2000/svg\" height=\"24px\" viewBox=\"0 -960 960 960\">\n",
              "    <path d=\"M120-120v-720h720v720H120Zm60-500h600v-160H180v160Zm220 220h160v-160H400v160Zm0 220h160v-160H400v160ZM180-400h160v-160H180v160Zm440 0h160v-160H620v160ZM180-180h160v-160H180v160Zm440 0h160v-160H620v160Z\"/>\n",
              "  </svg>\n",
              "    </button>\n",
              "\n",
              "  <style>\n",
              "    .colab-df-container {\n",
              "      display:flex;\n",
              "      gap: 12px;\n",
              "    }\n",
              "\n",
              "    .colab-df-convert {\n",
              "      background-color: #E8F0FE;\n",
              "      border: none;\n",
              "      border-radius: 50%;\n",
              "      cursor: pointer;\n",
              "      display: none;\n",
              "      fill: #1967D2;\n",
              "      height: 32px;\n",
              "      padding: 0 0 0 0;\n",
              "      width: 32px;\n",
              "    }\n",
              "\n",
              "    .colab-df-convert:hover {\n",
              "      background-color: #E2EBFA;\n",
              "      box-shadow: 0px 1px 2px rgba(60, 64, 67, 0.3), 0px 1px 3px 1px rgba(60, 64, 67, 0.15);\n",
              "      fill: #174EA6;\n",
              "    }\n",
              "\n",
              "    .colab-df-buttons div {\n",
              "      margin-bottom: 4px;\n",
              "    }\n",
              "\n",
              "    [theme=dark] .colab-df-convert {\n",
              "      background-color: #3B4455;\n",
              "      fill: #D2E3FC;\n",
              "    }\n",
              "\n",
              "    [theme=dark] .colab-df-convert:hover {\n",
              "      background-color: #434B5C;\n",
              "      box-shadow: 0px 1px 3px 1px rgba(0, 0, 0, 0.15);\n",
              "      filter: drop-shadow(0px 1px 2px rgba(0, 0, 0, 0.3));\n",
              "      fill: #FFFFFF;\n",
              "    }\n",
              "  </style>\n",
              "\n",
              "    <script>\n",
              "      const buttonEl =\n",
              "        document.querySelector('#df-2c6851f4-0cc5-48f8-a60c-ccc7f9378a4d button.colab-df-convert');\n",
              "      buttonEl.style.display =\n",
              "        google.colab.kernel.accessAllowed ? 'block' : 'none';\n",
              "\n",
              "      async function convertToInteractive(key) {\n",
              "        const element = document.querySelector('#df-2c6851f4-0cc5-48f8-a60c-ccc7f9378a4d');\n",
              "        const dataTable =\n",
              "          await google.colab.kernel.invokeFunction('convertToInteractive',\n",
              "                                                    [key], {});\n",
              "        if (!dataTable) return;\n",
              "\n",
              "        const docLinkHtml = 'Like what you see? Visit the ' +\n",
              "          '<a target=\"_blank\" href=https://colab.research.google.com/notebooks/data_table.ipynb>data table notebook</a>'\n",
              "          + ' to learn more about interactive tables.';\n",
              "        element.innerHTML = '';\n",
              "        dataTable['output_type'] = 'display_data';\n",
              "        await google.colab.output.renderOutput(dataTable, element);\n",
              "        const docLink = document.createElement('div');\n",
              "        docLink.innerHTML = docLinkHtml;\n",
              "        element.appendChild(docLink);\n",
              "      }\n",
              "    </script>\n",
              "  </div>\n",
              "\n",
              "\n",
              "    <div id=\"df-3bc9cecd-3785-4b91-829a-83885a69880f\">\n",
              "      <button class=\"colab-df-quickchart\" onclick=\"quickchart('df-3bc9cecd-3785-4b91-829a-83885a69880f')\"\n",
              "                title=\"Suggest charts\"\n",
              "                style=\"display:none;\">\n",
              "\n",
              "<svg xmlns=\"http://www.w3.org/2000/svg\" height=\"24px\"viewBox=\"0 0 24 24\"\n",
              "     width=\"24px\">\n",
              "    <g>\n",
              "        <path d=\"M19 3H5c-1.1 0-2 .9-2 2v14c0 1.1.9 2 2 2h14c1.1 0 2-.9 2-2V5c0-1.1-.9-2-2-2zM9 17H7v-7h2v7zm4 0h-2V7h2v10zm4 0h-2v-4h2v4z\"/>\n",
              "    </g>\n",
              "</svg>\n",
              "      </button>\n",
              "\n",
              "<style>\n",
              "  .colab-df-quickchart {\n",
              "      --bg-color: #E8F0FE;\n",
              "      --fill-color: #1967D2;\n",
              "      --hover-bg-color: #E2EBFA;\n",
              "      --hover-fill-color: #174EA6;\n",
              "      --disabled-fill-color: #AAA;\n",
              "      --disabled-bg-color: #DDD;\n",
              "  }\n",
              "\n",
              "  [theme=dark] .colab-df-quickchart {\n",
              "      --bg-color: #3B4455;\n",
              "      --fill-color: #D2E3FC;\n",
              "      --hover-bg-color: #434B5C;\n",
              "      --hover-fill-color: #FFFFFF;\n",
              "      --disabled-bg-color: #3B4455;\n",
              "      --disabled-fill-color: #666;\n",
              "  }\n",
              "\n",
              "  .colab-df-quickchart {\n",
              "    background-color: var(--bg-color);\n",
              "    border: none;\n",
              "    border-radius: 50%;\n",
              "    cursor: pointer;\n",
              "    display: none;\n",
              "    fill: var(--fill-color);\n",
              "    height: 32px;\n",
              "    padding: 0;\n",
              "    width: 32px;\n",
              "  }\n",
              "\n",
              "  .colab-df-quickchart:hover {\n",
              "    background-color: var(--hover-bg-color);\n",
              "    box-shadow: 0 1px 2px rgba(60, 64, 67, 0.3), 0 1px 3px 1px rgba(60, 64, 67, 0.15);\n",
              "    fill: var(--button-hover-fill-color);\n",
              "  }\n",
              "\n",
              "  .colab-df-quickchart-complete:disabled,\n",
              "  .colab-df-quickchart-complete:disabled:hover {\n",
              "    background-color: var(--disabled-bg-color);\n",
              "    fill: var(--disabled-fill-color);\n",
              "    box-shadow: none;\n",
              "  }\n",
              "\n",
              "  .colab-df-spinner {\n",
              "    border: 2px solid var(--fill-color);\n",
              "    border-color: transparent;\n",
              "    border-bottom-color: var(--fill-color);\n",
              "    animation:\n",
              "      spin 1s steps(1) infinite;\n",
              "  }\n",
              "\n",
              "  @keyframes spin {\n",
              "    0% {\n",
              "      border-color: transparent;\n",
              "      border-bottom-color: var(--fill-color);\n",
              "      border-left-color: var(--fill-color);\n",
              "    }\n",
              "    20% {\n",
              "      border-color: transparent;\n",
              "      border-left-color: var(--fill-color);\n",
              "      border-top-color: var(--fill-color);\n",
              "    }\n",
              "    30% {\n",
              "      border-color: transparent;\n",
              "      border-left-color: var(--fill-color);\n",
              "      border-top-color: var(--fill-color);\n",
              "      border-right-color: var(--fill-color);\n",
              "    }\n",
              "    40% {\n",
              "      border-color: transparent;\n",
              "      border-right-color: var(--fill-color);\n",
              "      border-top-color: var(--fill-color);\n",
              "    }\n",
              "    60% {\n",
              "      border-color: transparent;\n",
              "      border-right-color: var(--fill-color);\n",
              "    }\n",
              "    80% {\n",
              "      border-color: transparent;\n",
              "      border-right-color: var(--fill-color);\n",
              "      border-bottom-color: var(--fill-color);\n",
              "    }\n",
              "    90% {\n",
              "      border-color: transparent;\n",
              "      border-bottom-color: var(--fill-color);\n",
              "    }\n",
              "  }\n",
              "</style>\n",
              "\n",
              "      <script>\n",
              "        async function quickchart(key) {\n",
              "          const quickchartButtonEl =\n",
              "            document.querySelector('#' + key + ' button');\n",
              "          quickchartButtonEl.disabled = true;  // To prevent multiple clicks.\n",
              "          quickchartButtonEl.classList.add('colab-df-spinner');\n",
              "          try {\n",
              "            const charts = await google.colab.kernel.invokeFunction(\n",
              "                'suggestCharts', [key], {});\n",
              "          } catch (error) {\n",
              "            console.error('Error during call to suggestCharts:', error);\n",
              "          }\n",
              "          quickchartButtonEl.classList.remove('colab-df-spinner');\n",
              "          quickchartButtonEl.classList.add('colab-df-quickchart-complete');\n",
              "        }\n",
              "        (() => {\n",
              "          let quickchartButtonEl =\n",
              "            document.querySelector('#df-3bc9cecd-3785-4b91-829a-83885a69880f button');\n",
              "          quickchartButtonEl.style.display =\n",
              "            google.colab.kernel.accessAllowed ? 'block' : 'none';\n",
              "        })();\n",
              "      </script>\n",
              "    </div>\n",
              "\n",
              "    </div>\n",
              "  </div>\n"
            ],
            "application/vnd.google.colaboratory.intrinsic+json": {
              "type": "dataframe",
              "summary": "{\n  \"name\": \"df\",\n  \"rows\": 8,\n  \"fields\": [\n    {\n      \"column\": \"encounter_id\",\n      \"properties\": {\n        \"dtype\": \"number\",\n        \"std\": 143638461.2385854,\n        \"min\": 12522.0,\n        \"max\": 443867222.0,\n        \"num_unique_values\": 8,\n        \"samples\": [\n          165201645.6229782,\n          152388987.0,\n          101766.0\n        ],\n        \"semantic_type\": \"\",\n        \"description\": \"\"\n      }\n    },\n    {\n      \"column\": \"patient_nbr\",\n      \"properties\": {\n        \"dtype\": \"number\",\n        \"std\": 61578087.87493657,\n        \"min\": 135.0,\n        \"max\": 189502619.0,\n        \"num_unique_values\": 8,\n        \"samples\": [\n          54330400.694947235,\n          45505143.0,\n          101766.0\n        ],\n        \"semantic_type\": \"\",\n        \"description\": \"\"\n      }\n    },\n    {\n      \"column\": \"admission_type_id\",\n      \"properties\": {\n        \"dtype\": \"number\",\n        \"std\": 35978.8320853331,\n        \"min\": 1.0,\n        \"max\": 101766.0,\n        \"num_unique_values\": 6,\n        \"samples\": [\n          101766.0,\n          2.024006053102215,\n          8.0\n        ],\n        \"semantic_type\": \"\",\n        \"description\": \"\"\n      }\n    },\n    {\n      \"column\": \"discharge_disposition_id\",\n      \"properties\": {\n        \"dtype\": \"number\",\n        \"std\": 35977.49335130319,\n        \"min\": 1.0,\n        \"max\": 101766.0,\n        \"num_unique_values\": 6,\n        \"samples\": [\n          101766.0,\n          3.7156417664052825,\n          28.0\n        ],\n        \"semantic_type\": \"\",\n        \"description\": \"\"\n      }\n    },\n    {\n      \"column\": \"admission_source_id\",\n      \"properties\": {\n        \"dtype\": \"number\",\n        \"std\": 35977.148429846675,\n        \"min\": 1.0,\n        \"max\": 101766.0,\n        \"num_unique_values\": 6,\n        \"samples\": [\n          101766.0,\n          5.754436648782501,\n          25.0\n        ],\n        \"semantic_type\": \"\",\n        \"description\": \"\"\n      }\n    },\n    {\n      \"column\": \"time_in_hospital\",\n      \"properties\": {\n        \"dtype\": \"number\",\n        \"std\": 35977.978062696006,\n        \"min\": 1.0,\n        \"max\": 101766.0,\n        \"num_unique_values\": 8,\n        \"samples\": [\n          4.395986871843248,\n          4.0,\n          101766.0\n        ],\n        \"semantic_type\": \"\",\n        \"description\": \"\"\n      }\n    },\n    {\n      \"column\": \"num_lab_procedures\",\n      \"properties\": {\n        \"dtype\": \"number\",\n        \"std\": 35963.18025252805,\n        \"min\": 1.0,\n        \"max\": 101766.0,\n        \"num_unique_values\": 8,\n        \"samples\": [\n          43.09564098028811,\n          44.0,\n          101766.0\n        ],\n        \"semantic_type\": \"\",\n        \"description\": \"\"\n      }\n    },\n    {\n      \"column\": \"num_procedures\",\n      \"properties\": {\n        \"dtype\": \"number\",\n        \"std\": 35979.10600519125,\n        \"min\": 0.0,\n        \"max\": 101766.0,\n        \"num_unique_values\": 7,\n        \"samples\": [\n          101766.0,\n          1.339730361810428,\n          2.0\n        ],\n        \"semantic_type\": \"\",\n        \"description\": \"\"\n      }\n    },\n    {\n      \"column\": \"num_medications\",\n      \"properties\": {\n        \"dtype\": \"number\",\n        \"std\": 35972.088778788086,\n        \"min\": 1.0,\n        \"max\": 101766.0,\n        \"num_unique_values\": 8,\n        \"samples\": [\n          16.021844230882614,\n          15.0,\n          101766.0\n        ],\n        \"semantic_type\": \"\",\n        \"description\": \"\"\n      }\n    },\n    {\n      \"column\": \"number_outpatient\",\n      \"properties\": {\n        \"dtype\": \"number\",\n        \"std\": 35977.513330448266,\n        \"min\": 0.0,\n        \"max\": 101766.0,\n        \"num_unique_values\": 5,\n        \"samples\": [\n          0.36935715268360747,\n          42.0,\n          1.2672650965325358\n        ],\n        \"semantic_type\": \"\",\n        \"description\": \"\"\n      }\n    },\n    {\n      \"column\": \"number_emergency\",\n      \"properties\": {\n        \"dtype\": \"number\",\n        \"std\": 35975.828561783186,\n        \"min\": 0.0,\n        \"max\": 101766.0,\n        \"num_unique_values\": 5,\n        \"samples\": [\n          0.19783621248747127,\n          76.0,\n          0.9304722684223071\n        ],\n        \"semantic_type\": \"\",\n        \"description\": \"\"\n      }\n    },\n    {\n      \"column\": \"number_inpatient\",\n      \"properties\": {\n        \"dtype\": \"number\",\n        \"std\": 35978.5080136551,\n        \"min\": 0.0,\n        \"max\": 101766.0,\n        \"num_unique_values\": 6,\n        \"samples\": [\n          101766.0,\n          0.635565906098304,\n          21.0\n        ],\n        \"semantic_type\": \"\",\n        \"description\": \"\"\n      }\n    },\n    {\n      \"column\": \"number_diagnoses\",\n      \"properties\": {\n        \"dtype\": \"number\",\n        \"std\": 35977.2217776975,\n        \"min\": 1.0,\n        \"max\": 101766.0,\n        \"num_unique_values\": 8,\n        \"samples\": [\n          7.422606764538254,\n          8.0,\n          101766.0\n        ],\n        \"semantic_type\": \"\",\n        \"description\": \"\"\n      }\n    }\n  ]\n}"
            }
          },
          "metadata": {},
          "execution_count": 935
        }
      ]
    },
    {
      "cell_type": "code",
      "source": [
        "df.describe().T"
      ],
      "metadata": {
        "colab": {
          "base_uri": "https://localhost:8080/",
          "height": 457
        },
        "id": "keZYV9JR_zAR",
        "outputId": "9d3da71a-5833-4dab-ce52-1f41ecd597f3"
      },
      "id": "keZYV9JR_zAR",
      "execution_count": 936,
      "outputs": [
        {
          "output_type": "execute_result",
          "data": {
            "text/plain": [
              "                             count          mean           std      min  \\\n",
              "encounter_id              101766.0  1.652016e+08  1.026403e+08  12522.0   \n",
              "patient_nbr               101766.0  5.433040e+07  3.869636e+07    135.0   \n",
              "admission_type_id         101766.0  2.024006e+00  1.445403e+00      1.0   \n",
              "discharge_disposition_id  101766.0  3.715642e+00  5.280166e+00      1.0   \n",
              "admission_source_id       101766.0  5.754437e+00  4.064081e+00      1.0   \n",
              "time_in_hospital          101766.0  4.395987e+00  2.985108e+00      1.0   \n",
              "num_lab_procedures        101766.0  4.309564e+01  1.967436e+01      1.0   \n",
              "num_procedures            101766.0  1.339730e+00  1.705807e+00      0.0   \n",
              "num_medications           101766.0  1.602184e+01  8.127566e+00      1.0   \n",
              "number_outpatient         101766.0  3.693572e-01  1.267265e+00      0.0   \n",
              "number_emergency          101766.0  1.978362e-01  9.304723e-01      0.0   \n",
              "number_inpatient          101766.0  6.355659e-01  1.262863e+00      0.0   \n",
              "number_diagnoses          101766.0  7.422607e+00  1.933600e+00      1.0   \n",
              "\n",
              "                                 25%          50%           75%          max  \n",
              "encounter_id              84961194.0  152388987.0  2.302709e+08  443867222.0  \n",
              "patient_nbr               23413221.0   45505143.0  8.754595e+07  189502619.0  \n",
              "admission_type_id                1.0          1.0  3.000000e+00          8.0  \n",
              "discharge_disposition_id         1.0          1.0  4.000000e+00         28.0  \n",
              "admission_source_id              1.0          7.0  7.000000e+00         25.0  \n",
              "time_in_hospital                 2.0          4.0  6.000000e+00         14.0  \n",
              "num_lab_procedures              31.0         44.0  5.700000e+01        132.0  \n",
              "num_procedures                   0.0          1.0  2.000000e+00          6.0  \n",
              "num_medications                 10.0         15.0  2.000000e+01         81.0  \n",
              "number_outpatient                0.0          0.0  0.000000e+00         42.0  \n",
              "number_emergency                 0.0          0.0  0.000000e+00         76.0  \n",
              "number_inpatient                 0.0          0.0  1.000000e+00         21.0  \n",
              "number_diagnoses                 6.0          8.0  9.000000e+00         16.0  "
            ],
            "text/html": [
              "\n",
              "  <div id=\"df-18993f90-fd6c-4731-a40c-816671a7013b\" class=\"colab-df-container\">\n",
              "    <div>\n",
              "<style scoped>\n",
              "    .dataframe tbody tr th:only-of-type {\n",
              "        vertical-align: middle;\n",
              "    }\n",
              "\n",
              "    .dataframe tbody tr th {\n",
              "        vertical-align: top;\n",
              "    }\n",
              "\n",
              "    .dataframe thead th {\n",
              "        text-align: right;\n",
              "    }\n",
              "</style>\n",
              "<table border=\"1\" class=\"dataframe\">\n",
              "  <thead>\n",
              "    <tr style=\"text-align: right;\">\n",
              "      <th></th>\n",
              "      <th>count</th>\n",
              "      <th>mean</th>\n",
              "      <th>std</th>\n",
              "      <th>min</th>\n",
              "      <th>25%</th>\n",
              "      <th>50%</th>\n",
              "      <th>75%</th>\n",
              "      <th>max</th>\n",
              "    </tr>\n",
              "  </thead>\n",
              "  <tbody>\n",
              "    <tr>\n",
              "      <th>encounter_id</th>\n",
              "      <td>101766.0</td>\n",
              "      <td>1.652016e+08</td>\n",
              "      <td>1.026403e+08</td>\n",
              "      <td>12522.0</td>\n",
              "      <td>84961194.0</td>\n",
              "      <td>152388987.0</td>\n",
              "      <td>2.302709e+08</td>\n",
              "      <td>443867222.0</td>\n",
              "    </tr>\n",
              "    <tr>\n",
              "      <th>patient_nbr</th>\n",
              "      <td>101766.0</td>\n",
              "      <td>5.433040e+07</td>\n",
              "      <td>3.869636e+07</td>\n",
              "      <td>135.0</td>\n",
              "      <td>23413221.0</td>\n",
              "      <td>45505143.0</td>\n",
              "      <td>8.754595e+07</td>\n",
              "      <td>189502619.0</td>\n",
              "    </tr>\n",
              "    <tr>\n",
              "      <th>admission_type_id</th>\n",
              "      <td>101766.0</td>\n",
              "      <td>2.024006e+00</td>\n",
              "      <td>1.445403e+00</td>\n",
              "      <td>1.0</td>\n",
              "      <td>1.0</td>\n",
              "      <td>1.0</td>\n",
              "      <td>3.000000e+00</td>\n",
              "      <td>8.0</td>\n",
              "    </tr>\n",
              "    <tr>\n",
              "      <th>discharge_disposition_id</th>\n",
              "      <td>101766.0</td>\n",
              "      <td>3.715642e+00</td>\n",
              "      <td>5.280166e+00</td>\n",
              "      <td>1.0</td>\n",
              "      <td>1.0</td>\n",
              "      <td>1.0</td>\n",
              "      <td>4.000000e+00</td>\n",
              "      <td>28.0</td>\n",
              "    </tr>\n",
              "    <tr>\n",
              "      <th>admission_source_id</th>\n",
              "      <td>101766.0</td>\n",
              "      <td>5.754437e+00</td>\n",
              "      <td>4.064081e+00</td>\n",
              "      <td>1.0</td>\n",
              "      <td>1.0</td>\n",
              "      <td>7.0</td>\n",
              "      <td>7.000000e+00</td>\n",
              "      <td>25.0</td>\n",
              "    </tr>\n",
              "    <tr>\n",
              "      <th>time_in_hospital</th>\n",
              "      <td>101766.0</td>\n",
              "      <td>4.395987e+00</td>\n",
              "      <td>2.985108e+00</td>\n",
              "      <td>1.0</td>\n",
              "      <td>2.0</td>\n",
              "      <td>4.0</td>\n",
              "      <td>6.000000e+00</td>\n",
              "      <td>14.0</td>\n",
              "    </tr>\n",
              "    <tr>\n",
              "      <th>num_lab_procedures</th>\n",
              "      <td>101766.0</td>\n",
              "      <td>4.309564e+01</td>\n",
              "      <td>1.967436e+01</td>\n",
              "      <td>1.0</td>\n",
              "      <td>31.0</td>\n",
              "      <td>44.0</td>\n",
              "      <td>5.700000e+01</td>\n",
              "      <td>132.0</td>\n",
              "    </tr>\n",
              "    <tr>\n",
              "      <th>num_procedures</th>\n",
              "      <td>101766.0</td>\n",
              "      <td>1.339730e+00</td>\n",
              "      <td>1.705807e+00</td>\n",
              "      <td>0.0</td>\n",
              "      <td>0.0</td>\n",
              "      <td>1.0</td>\n",
              "      <td>2.000000e+00</td>\n",
              "      <td>6.0</td>\n",
              "    </tr>\n",
              "    <tr>\n",
              "      <th>num_medications</th>\n",
              "      <td>101766.0</td>\n",
              "      <td>1.602184e+01</td>\n",
              "      <td>8.127566e+00</td>\n",
              "      <td>1.0</td>\n",
              "      <td>10.0</td>\n",
              "      <td>15.0</td>\n",
              "      <td>2.000000e+01</td>\n",
              "      <td>81.0</td>\n",
              "    </tr>\n",
              "    <tr>\n",
              "      <th>number_outpatient</th>\n",
              "      <td>101766.0</td>\n",
              "      <td>3.693572e-01</td>\n",
              "      <td>1.267265e+00</td>\n",
              "      <td>0.0</td>\n",
              "      <td>0.0</td>\n",
              "      <td>0.0</td>\n",
              "      <td>0.000000e+00</td>\n",
              "      <td>42.0</td>\n",
              "    </tr>\n",
              "    <tr>\n",
              "      <th>number_emergency</th>\n",
              "      <td>101766.0</td>\n",
              "      <td>1.978362e-01</td>\n",
              "      <td>9.304723e-01</td>\n",
              "      <td>0.0</td>\n",
              "      <td>0.0</td>\n",
              "      <td>0.0</td>\n",
              "      <td>0.000000e+00</td>\n",
              "      <td>76.0</td>\n",
              "    </tr>\n",
              "    <tr>\n",
              "      <th>number_inpatient</th>\n",
              "      <td>101766.0</td>\n",
              "      <td>6.355659e-01</td>\n",
              "      <td>1.262863e+00</td>\n",
              "      <td>0.0</td>\n",
              "      <td>0.0</td>\n",
              "      <td>0.0</td>\n",
              "      <td>1.000000e+00</td>\n",
              "      <td>21.0</td>\n",
              "    </tr>\n",
              "    <tr>\n",
              "      <th>number_diagnoses</th>\n",
              "      <td>101766.0</td>\n",
              "      <td>7.422607e+00</td>\n",
              "      <td>1.933600e+00</td>\n",
              "      <td>1.0</td>\n",
              "      <td>6.0</td>\n",
              "      <td>8.0</td>\n",
              "      <td>9.000000e+00</td>\n",
              "      <td>16.0</td>\n",
              "    </tr>\n",
              "  </tbody>\n",
              "</table>\n",
              "</div>\n",
              "    <div class=\"colab-df-buttons\">\n",
              "\n",
              "  <div class=\"colab-df-container\">\n",
              "    <button class=\"colab-df-convert\" onclick=\"convertToInteractive('df-18993f90-fd6c-4731-a40c-816671a7013b')\"\n",
              "            title=\"Convert this dataframe to an interactive table.\"\n",
              "            style=\"display:none;\">\n",
              "\n",
              "  <svg xmlns=\"http://www.w3.org/2000/svg\" height=\"24px\" viewBox=\"0 -960 960 960\">\n",
              "    <path d=\"M120-120v-720h720v720H120Zm60-500h600v-160H180v160Zm220 220h160v-160H400v160Zm0 220h160v-160H400v160ZM180-400h160v-160H180v160Zm440 0h160v-160H620v160ZM180-180h160v-160H180v160Zm440 0h160v-160H620v160Z\"/>\n",
              "  </svg>\n",
              "    </button>\n",
              "\n",
              "  <style>\n",
              "    .colab-df-container {\n",
              "      display:flex;\n",
              "      gap: 12px;\n",
              "    }\n",
              "\n",
              "    .colab-df-convert {\n",
              "      background-color: #E8F0FE;\n",
              "      border: none;\n",
              "      border-radius: 50%;\n",
              "      cursor: pointer;\n",
              "      display: none;\n",
              "      fill: #1967D2;\n",
              "      height: 32px;\n",
              "      padding: 0 0 0 0;\n",
              "      width: 32px;\n",
              "    }\n",
              "\n",
              "    .colab-df-convert:hover {\n",
              "      background-color: #E2EBFA;\n",
              "      box-shadow: 0px 1px 2px rgba(60, 64, 67, 0.3), 0px 1px 3px 1px rgba(60, 64, 67, 0.15);\n",
              "      fill: #174EA6;\n",
              "    }\n",
              "\n",
              "    .colab-df-buttons div {\n",
              "      margin-bottom: 4px;\n",
              "    }\n",
              "\n",
              "    [theme=dark] .colab-df-convert {\n",
              "      background-color: #3B4455;\n",
              "      fill: #D2E3FC;\n",
              "    }\n",
              "\n",
              "    [theme=dark] .colab-df-convert:hover {\n",
              "      background-color: #434B5C;\n",
              "      box-shadow: 0px 1px 3px 1px rgba(0, 0, 0, 0.15);\n",
              "      filter: drop-shadow(0px 1px 2px rgba(0, 0, 0, 0.3));\n",
              "      fill: #FFFFFF;\n",
              "    }\n",
              "  </style>\n",
              "\n",
              "    <script>\n",
              "      const buttonEl =\n",
              "        document.querySelector('#df-18993f90-fd6c-4731-a40c-816671a7013b button.colab-df-convert');\n",
              "      buttonEl.style.display =\n",
              "        google.colab.kernel.accessAllowed ? 'block' : 'none';\n",
              "\n",
              "      async function convertToInteractive(key) {\n",
              "        const element = document.querySelector('#df-18993f90-fd6c-4731-a40c-816671a7013b');\n",
              "        const dataTable =\n",
              "          await google.colab.kernel.invokeFunction('convertToInteractive',\n",
              "                                                    [key], {});\n",
              "        if (!dataTable) return;\n",
              "\n",
              "        const docLinkHtml = 'Like what you see? Visit the ' +\n",
              "          '<a target=\"_blank\" href=https://colab.research.google.com/notebooks/data_table.ipynb>data table notebook</a>'\n",
              "          + ' to learn more about interactive tables.';\n",
              "        element.innerHTML = '';\n",
              "        dataTable['output_type'] = 'display_data';\n",
              "        await google.colab.output.renderOutput(dataTable, element);\n",
              "        const docLink = document.createElement('div');\n",
              "        docLink.innerHTML = docLinkHtml;\n",
              "        element.appendChild(docLink);\n",
              "      }\n",
              "    </script>\n",
              "  </div>\n",
              "\n",
              "\n",
              "    <div id=\"df-4cef0df4-d818-4f60-9f58-f40b9637ce15\">\n",
              "      <button class=\"colab-df-quickchart\" onclick=\"quickchart('df-4cef0df4-d818-4f60-9f58-f40b9637ce15')\"\n",
              "                title=\"Suggest charts\"\n",
              "                style=\"display:none;\">\n",
              "\n",
              "<svg xmlns=\"http://www.w3.org/2000/svg\" height=\"24px\"viewBox=\"0 0 24 24\"\n",
              "     width=\"24px\">\n",
              "    <g>\n",
              "        <path d=\"M19 3H5c-1.1 0-2 .9-2 2v14c0 1.1.9 2 2 2h14c1.1 0 2-.9 2-2V5c0-1.1-.9-2-2-2zM9 17H7v-7h2v7zm4 0h-2V7h2v10zm4 0h-2v-4h2v4z\"/>\n",
              "    </g>\n",
              "</svg>\n",
              "      </button>\n",
              "\n",
              "<style>\n",
              "  .colab-df-quickchart {\n",
              "      --bg-color: #E8F0FE;\n",
              "      --fill-color: #1967D2;\n",
              "      --hover-bg-color: #E2EBFA;\n",
              "      --hover-fill-color: #174EA6;\n",
              "      --disabled-fill-color: #AAA;\n",
              "      --disabled-bg-color: #DDD;\n",
              "  }\n",
              "\n",
              "  [theme=dark] .colab-df-quickchart {\n",
              "      --bg-color: #3B4455;\n",
              "      --fill-color: #D2E3FC;\n",
              "      --hover-bg-color: #434B5C;\n",
              "      --hover-fill-color: #FFFFFF;\n",
              "      --disabled-bg-color: #3B4455;\n",
              "      --disabled-fill-color: #666;\n",
              "  }\n",
              "\n",
              "  .colab-df-quickchart {\n",
              "    background-color: var(--bg-color);\n",
              "    border: none;\n",
              "    border-radius: 50%;\n",
              "    cursor: pointer;\n",
              "    display: none;\n",
              "    fill: var(--fill-color);\n",
              "    height: 32px;\n",
              "    padding: 0;\n",
              "    width: 32px;\n",
              "  }\n",
              "\n",
              "  .colab-df-quickchart:hover {\n",
              "    background-color: var(--hover-bg-color);\n",
              "    box-shadow: 0 1px 2px rgba(60, 64, 67, 0.3), 0 1px 3px 1px rgba(60, 64, 67, 0.15);\n",
              "    fill: var(--button-hover-fill-color);\n",
              "  }\n",
              "\n",
              "  .colab-df-quickchart-complete:disabled,\n",
              "  .colab-df-quickchart-complete:disabled:hover {\n",
              "    background-color: var(--disabled-bg-color);\n",
              "    fill: var(--disabled-fill-color);\n",
              "    box-shadow: none;\n",
              "  }\n",
              "\n",
              "  .colab-df-spinner {\n",
              "    border: 2px solid var(--fill-color);\n",
              "    border-color: transparent;\n",
              "    border-bottom-color: var(--fill-color);\n",
              "    animation:\n",
              "      spin 1s steps(1) infinite;\n",
              "  }\n",
              "\n",
              "  @keyframes spin {\n",
              "    0% {\n",
              "      border-color: transparent;\n",
              "      border-bottom-color: var(--fill-color);\n",
              "      border-left-color: var(--fill-color);\n",
              "    }\n",
              "    20% {\n",
              "      border-color: transparent;\n",
              "      border-left-color: var(--fill-color);\n",
              "      border-top-color: var(--fill-color);\n",
              "    }\n",
              "    30% {\n",
              "      border-color: transparent;\n",
              "      border-left-color: var(--fill-color);\n",
              "      border-top-color: var(--fill-color);\n",
              "      border-right-color: var(--fill-color);\n",
              "    }\n",
              "    40% {\n",
              "      border-color: transparent;\n",
              "      border-right-color: var(--fill-color);\n",
              "      border-top-color: var(--fill-color);\n",
              "    }\n",
              "    60% {\n",
              "      border-color: transparent;\n",
              "      border-right-color: var(--fill-color);\n",
              "    }\n",
              "    80% {\n",
              "      border-color: transparent;\n",
              "      border-right-color: var(--fill-color);\n",
              "      border-bottom-color: var(--fill-color);\n",
              "    }\n",
              "    90% {\n",
              "      border-color: transparent;\n",
              "      border-bottom-color: var(--fill-color);\n",
              "    }\n",
              "  }\n",
              "</style>\n",
              "\n",
              "      <script>\n",
              "        async function quickchart(key) {\n",
              "          const quickchartButtonEl =\n",
              "            document.querySelector('#' + key + ' button');\n",
              "          quickchartButtonEl.disabled = true;  // To prevent multiple clicks.\n",
              "          quickchartButtonEl.classList.add('colab-df-spinner');\n",
              "          try {\n",
              "            const charts = await google.colab.kernel.invokeFunction(\n",
              "                'suggestCharts', [key], {});\n",
              "          } catch (error) {\n",
              "            console.error('Error during call to suggestCharts:', error);\n",
              "          }\n",
              "          quickchartButtonEl.classList.remove('colab-df-spinner');\n",
              "          quickchartButtonEl.classList.add('colab-df-quickchart-complete');\n",
              "        }\n",
              "        (() => {\n",
              "          let quickchartButtonEl =\n",
              "            document.querySelector('#df-4cef0df4-d818-4f60-9f58-f40b9637ce15 button');\n",
              "          quickchartButtonEl.style.display =\n",
              "            google.colab.kernel.accessAllowed ? 'block' : 'none';\n",
              "        })();\n",
              "      </script>\n",
              "    </div>\n",
              "\n",
              "    </div>\n",
              "  </div>\n"
            ],
            "application/vnd.google.colaboratory.intrinsic+json": {
              "type": "dataframe",
              "summary": "{\n  \"name\": \"df\",\n  \"rows\": 13,\n  \"fields\": [\n    {\n      \"column\": \"count\",\n      \"properties\": {\n        \"dtype\": \"number\",\n        \"std\": 0.0,\n        \"min\": 101766.0,\n        \"max\": 101766.0,\n        \"num_unique_values\": 1,\n        \"samples\": [\n          101766.0\n        ],\n        \"semantic_type\": \"\",\n        \"description\": \"\"\n      }\n    },\n    {\n      \"column\": \"mean\",\n      \"properties\": {\n        \"dtype\": \"number\",\n        \"std\": 47024920.65464633,\n        \"min\": 0.19783621248747127,\n        \"max\": 165201645.6229782,\n        \"num_unique_values\": 13,\n        \"samples\": [\n          0.635565906098304\n        ],\n        \"semantic_type\": \"\",\n        \"description\": \"\"\n      }\n    },\n    {\n      \"column\": \"std\",\n      \"properties\": {\n        \"dtype\": \"number\",\n        \"std\": 29574508.00702206,\n        \"min\": 0.9304722684223071,\n        \"max\": 102640295.98345767,\n        \"num_unique_values\": 13,\n        \"samples\": [\n          1.2628632900971597\n        ],\n        \"semantic_type\": \"\",\n        \"description\": \"\"\n      }\n    },\n    {\n      \"column\": \"min\",\n      \"properties\": {\n        \"dtype\": \"number\",\n        \"std\": 3469.894711326601,\n        \"min\": 0.0,\n        \"max\": 12522.0,\n        \"num_unique_values\": 4,\n        \"samples\": [\n          135.0\n        ],\n        \"semantic_type\": \"\",\n        \"description\": \"\"\n      }\n    },\n    {\n      \"column\": \"25%\",\n      \"properties\": {\n        \"dtype\": \"number\",\n        \"std\": 23914988.21252148,\n        \"min\": 0.0,\n        \"max\": 84961194.0,\n        \"num_unique_values\": 8,\n        \"samples\": [\n          23413221.0\n        ],\n        \"semantic_type\": \"\",\n        \"description\": \"\"\n      }\n    },\n    {\n      \"column\": \"50%\",\n      \"properties\": {\n        \"dtype\": \"number\",\n        \"std\": 43089684.30830121,\n        \"min\": 0.0,\n        \"max\": 152388987.0,\n        \"num_unique_values\": 9,\n        \"samples\": [\n          0.0\n        ],\n        \"semantic_type\": \"\",\n        \"description\": \"\"\n      }\n    },\n    {\n      \"column\": \"75%\",\n      \"properties\": {\n        \"dtype\": \"number\",\n        \"std\": 66407302.99447726,\n        \"min\": 0.0,\n        \"max\": 230270887.5,\n        \"num_unique_values\": 12,\n        \"samples\": [\n          1.0\n        ],\n        \"semantic_type\": \"\",\n        \"description\": \"\"\n      }\n    },\n    {\n      \"column\": \"max\",\n      \"properties\": {\n        \"dtype\": \"number\",\n        \"std\": 129766152.33698443,\n        \"min\": 6.0,\n        \"max\": 443867222.0,\n        \"num_unique_values\": 13,\n        \"samples\": [\n          21.0\n        ],\n        \"semantic_type\": \"\",\n        \"description\": \"\"\n      }\n    }\n  ]\n}"
            }
          },
          "metadata": {},
          "execution_count": 936
        }
      ]
    },
    {
      "cell_type": "code",
      "source": [
        "df.info()"
      ],
      "metadata": {
        "colab": {
          "base_uri": "https://localhost:8080/"
        },
        "id": "gDjKoFuIsb-1",
        "outputId": "bf571525-84c5-4de8-f8bd-524ddcef1b9e"
      },
      "id": "gDjKoFuIsb-1",
      "execution_count": 937,
      "outputs": [
        {
          "output_type": "stream",
          "name": "stdout",
          "text": [
            "<class 'pandas.core.frame.DataFrame'>\n",
            "RangeIndex: 101766 entries, 0 to 101765\n",
            "Data columns (total 53 columns):\n",
            " #   Column                    Non-Null Count   Dtype \n",
            "---  ------                    --------------   ----- \n",
            " 0   encounter_id              101766 non-null  int64 \n",
            " 1   patient_nbr               101766 non-null  int64 \n",
            " 2   race                      101766 non-null  object\n",
            " 3   gender                    101766 non-null  object\n",
            " 4   age                       101766 non-null  object\n",
            " 5   weight                    101766 non-null  object\n",
            " 6   admission_type_id         101766 non-null  int64 \n",
            " 7   discharge_disposition_id  101766 non-null  int64 \n",
            " 8   admission_source_id       101766 non-null  int64 \n",
            " 9   time_in_hospital          101766 non-null  int64 \n",
            " 10  payer_code                101766 non-null  object\n",
            " 11  medical_specialty         101766 non-null  object\n",
            " 12  num_lab_procedures        101766 non-null  int64 \n",
            " 13  num_procedures            101766 non-null  int64 \n",
            " 14  num_medications           101766 non-null  int64 \n",
            " 15  number_outpatient         101766 non-null  int64 \n",
            " 16  number_emergency          101766 non-null  int64 \n",
            " 17  number_inpatient          101766 non-null  int64 \n",
            " 18  diag_1                    101766 non-null  object\n",
            " 19  diag_2                    101766 non-null  object\n",
            " 20  diag_3                    101766 non-null  object\n",
            " 21  number_diagnoses          101766 non-null  int64 \n",
            " 22  max_glu_serum             5346 non-null    object\n",
            " 23  A1Cresult                 17018 non-null   object\n",
            " 24  metformin                 101766 non-null  object\n",
            " 25  repaglinide               101766 non-null  object\n",
            " 26  nateglinide               101766 non-null  object\n",
            " 27  chlorpropamide            101766 non-null  object\n",
            " 28  glimepiride               101766 non-null  object\n",
            " 29  acetohexamide             101766 non-null  object\n",
            " 30  glipizide                 101766 non-null  object\n",
            " 31  glyburide                 101766 non-null  object\n",
            " 32  tolbutamide               101766 non-null  object\n",
            " 33  pioglitazone              101766 non-null  object\n",
            " 34  rosiglitazone             101766 non-null  object\n",
            " 35  acarbose                  101766 non-null  object\n",
            " 36  miglitol                  101766 non-null  object\n",
            " 37  troglitazone              101766 non-null  object\n",
            " 38  tolazamide                101766 non-null  object\n",
            " 39  examide                   101766 non-null  object\n",
            " 40  citoglipton               101766 non-null  object\n",
            " 41  insulin                   101766 non-null  object\n",
            " 42  glyburide-metformin       101766 non-null  object\n",
            " 43  glipizide-metformin       101766 non-null  object\n",
            " 44  glimepiride-pioglitazone  101766 non-null  object\n",
            " 45  metformin-rosiglitazone   101766 non-null  object\n",
            " 46  metformin-pioglitazone    101766 non-null  object\n",
            " 47  change                    101766 non-null  object\n",
            " 48  diabetesMed               101766 non-null  object\n",
            " 49  readmitted                101766 non-null  object\n",
            " 50  admission_type_desc       96475 non-null   object\n",
            " 51  discharge_desc            98075 non-null   object\n",
            " 52  admission_source_desc     94985 non-null   object\n",
            "dtypes: int64(13), object(40)\n",
            "memory usage: 41.2+ MB\n"
          ]
        }
      ]
    },
    {
      "cell_type": "markdown",
      "metadata": {
        "id": "9x3jdrEir9qg"
      },
      "source": [
        "## Data Pre-processing (cleaning, transformation, handling missing values, etc.)"
      ],
      "id": "9x3jdrEir9qg"
    },
    {
      "cell_type": "markdown",
      "source": [
        "We can see that there are 53 columns in the original dataframe.\n",
        "\n",
        "To make our job easier while performing analysis, let us break it down into separate (dummy) dataframes based on the column types."
      ],
      "metadata": {
        "id": "I7g5iZy8CXO8"
      },
      "id": "I7g5iZy8CXO8"
    },
    {
      "cell_type": "markdown",
      "source": [
        "##### Numerical Columns"
      ],
      "metadata": {
        "id": "aL81CGQqD2tQ"
      },
      "id": "aL81CGQqD2tQ"
    },
    {
      "cell_type": "code",
      "source": [
        "numeric_df = df.select_dtypes(include='number')"
      ],
      "metadata": {
        "id": "b6_3pbh0B12T"
      },
      "id": "b6_3pbh0B12T",
      "execution_count": 938,
      "outputs": []
    },
    {
      "cell_type": "code",
      "source": [
        "numeric_df.info()"
      ],
      "metadata": {
        "colab": {
          "base_uri": "https://localhost:8080/"
        },
        "id": "33MjF-4uB9oq",
        "outputId": "0c2403b0-9746-4dc3-f2e6-949ad82cea06"
      },
      "id": "33MjF-4uB9oq",
      "execution_count": 939,
      "outputs": [
        {
          "output_type": "stream",
          "name": "stdout",
          "text": [
            "<class 'pandas.core.frame.DataFrame'>\n",
            "RangeIndex: 101766 entries, 0 to 101765\n",
            "Data columns (total 13 columns):\n",
            " #   Column                    Non-Null Count   Dtype\n",
            "---  ------                    --------------   -----\n",
            " 0   encounter_id              101766 non-null  int64\n",
            " 1   patient_nbr               101766 non-null  int64\n",
            " 2   admission_type_id         101766 non-null  int64\n",
            " 3   discharge_disposition_id  101766 non-null  int64\n",
            " 4   admission_source_id       101766 non-null  int64\n",
            " 5   time_in_hospital          101766 non-null  int64\n",
            " 6   num_lab_procedures        101766 non-null  int64\n",
            " 7   num_procedures            101766 non-null  int64\n",
            " 8   num_medications           101766 non-null  int64\n",
            " 9   number_outpatient         101766 non-null  int64\n",
            " 10  number_emergency          101766 non-null  int64\n",
            " 11  number_inpatient          101766 non-null  int64\n",
            " 12  number_diagnoses          101766 non-null  int64\n",
            "dtypes: int64(13)\n",
            "memory usage: 10.1 MB\n"
          ]
        }
      ]
    },
    {
      "cell_type": "code",
      "source": [
        "for col in numeric_df.columns:\n",
        "    print(col, \"has\", numeric_df[col].duplicated().sum(), \"duplicate values\")"
      ],
      "metadata": {
        "colab": {
          "base_uri": "https://localhost:8080/"
        },
        "id": "X5ImpKZ2C707",
        "outputId": "5414a8d1-1f4d-43e6-f64f-4f224ac8031e"
      },
      "id": "X5ImpKZ2C707",
      "execution_count": 940,
      "outputs": [
        {
          "output_type": "stream",
          "name": "stdout",
          "text": [
            "encounter_id has 0 duplicate values\n",
            "patient_nbr has 30248 duplicate values\n",
            "admission_type_id has 101758 duplicate values\n",
            "discharge_disposition_id has 101740 duplicate values\n",
            "admission_source_id has 101749 duplicate values\n",
            "time_in_hospital has 101752 duplicate values\n",
            "num_lab_procedures has 101648 duplicate values\n",
            "num_procedures has 101759 duplicate values\n",
            "num_medications has 101691 duplicate values\n",
            "number_outpatient has 101727 duplicate values\n",
            "number_emergency has 101733 duplicate values\n",
            "number_inpatient has 101745 duplicate values\n",
            "number_diagnoses has 101750 duplicate values\n"
          ]
        }
      ]
    },
    {
      "cell_type": "markdown",
      "source": [
        "Since `encounter_id` has all unique values, it would not contribute towards identifying any relationship.\n",
        "\n",
        "Hence, we can drop it from the original dataframe."
      ],
      "metadata": {
        "id": "uz4wxxGgDtAe"
      },
      "id": "uz4wxxGgDtAe"
    },
    {
      "cell_type": "markdown",
      "source": [
        "**NOTE**: We use the `numeric_df` only for analysis. Any operation we perform (like dropping a column) is performed on the ***orginal dataframe*** itself. Only for maintaining consistency and to avoid confusion later, we perform the same operation on the the dummy `numeric_df` also. The same would apply to other dummy dataframes that we create later too."
      ],
      "metadata": {
        "id": "Cbw5mm0RLcC1"
      },
      "id": "Cbw5mm0RLcC1"
    },
    {
      "cell_type": "code",
      "source": [
        "df.drop(columns=['encounter_id'], inplace=True)\n",
        "# Doing the same on the dummy dataframe for consistency purpose\n",
        "numeric_df.drop(columns=['encounter_id'], inplace=True)"
      ],
      "metadata": {
        "id": "kvKWBdAoC7y0"
      },
      "id": "kvKWBdAoC7y0",
      "execution_count": 941,
      "outputs": []
    },
    {
      "cell_type": "code",
      "source": [
        "numeric_df.info()"
      ],
      "metadata": {
        "colab": {
          "base_uri": "https://localhost:8080/"
        },
        "id": "HlTQUaRkC7wc",
        "outputId": "b58b5034-0b00-4394-d82d-0d90445169a2"
      },
      "id": "HlTQUaRkC7wc",
      "execution_count": 942,
      "outputs": [
        {
          "output_type": "stream",
          "name": "stdout",
          "text": [
            "<class 'pandas.core.frame.DataFrame'>\n",
            "RangeIndex: 101766 entries, 0 to 101765\n",
            "Data columns (total 12 columns):\n",
            " #   Column                    Non-Null Count   Dtype\n",
            "---  ------                    --------------   -----\n",
            " 0   patient_nbr               101766 non-null  int64\n",
            " 1   admission_type_id         101766 non-null  int64\n",
            " 2   discharge_disposition_id  101766 non-null  int64\n",
            " 3   admission_source_id       101766 non-null  int64\n",
            " 4   time_in_hospital          101766 non-null  int64\n",
            " 5   num_lab_procedures        101766 non-null  int64\n",
            " 6   num_procedures            101766 non-null  int64\n",
            " 7   num_medications           101766 non-null  int64\n",
            " 8   number_outpatient         101766 non-null  int64\n",
            " 9   number_emergency          101766 non-null  int64\n",
            " 10  number_inpatient          101766 non-null  int64\n",
            " 11  number_diagnoses          101766 non-null  int64\n",
            "dtypes: int64(12)\n",
            "memory usage: 9.3 MB\n"
          ]
        }
      ]
    },
    {
      "cell_type": "markdown",
      "source": [
        "Let us check if any of our numerical columns has '?'"
      ],
      "metadata": {
        "id": "CA3qbmDOF6xX"
      },
      "id": "CA3qbmDOF6xX"
    },
    {
      "cell_type": "code",
      "source": [
        "(numeric_df == '?').sum()"
      ],
      "metadata": {
        "colab": {
          "base_uri": "https://localhost:8080/",
          "height": 460
        },
        "id": "kdHEIzKxC7ts",
        "outputId": "8e1f7e84-0e88-4788-c118-f2af1429cd31"
      },
      "id": "kdHEIzKxC7ts",
      "execution_count": 943,
      "outputs": [
        {
          "output_type": "execute_result",
          "data": {
            "text/plain": [
              "patient_nbr                 0\n",
              "admission_type_id           0\n",
              "discharge_disposition_id    0\n",
              "admission_source_id         0\n",
              "time_in_hospital            0\n",
              "num_lab_procedures          0\n",
              "num_procedures              0\n",
              "num_medications             0\n",
              "number_outpatient           0\n",
              "number_emergency            0\n",
              "number_inpatient            0\n",
              "number_diagnoses            0\n",
              "dtype: int64"
            ],
            "text/html": [
              "<div>\n",
              "<style scoped>\n",
              "    .dataframe tbody tr th:only-of-type {\n",
              "        vertical-align: middle;\n",
              "    }\n",
              "\n",
              "    .dataframe tbody tr th {\n",
              "        vertical-align: top;\n",
              "    }\n",
              "\n",
              "    .dataframe thead th {\n",
              "        text-align: right;\n",
              "    }\n",
              "</style>\n",
              "<table border=\"1\" class=\"dataframe\">\n",
              "  <thead>\n",
              "    <tr style=\"text-align: right;\">\n",
              "      <th></th>\n",
              "      <th>0</th>\n",
              "    </tr>\n",
              "  </thead>\n",
              "  <tbody>\n",
              "    <tr>\n",
              "      <th>patient_nbr</th>\n",
              "      <td>0</td>\n",
              "    </tr>\n",
              "    <tr>\n",
              "      <th>admission_type_id</th>\n",
              "      <td>0</td>\n",
              "    </tr>\n",
              "    <tr>\n",
              "      <th>discharge_disposition_id</th>\n",
              "      <td>0</td>\n",
              "    </tr>\n",
              "    <tr>\n",
              "      <th>admission_source_id</th>\n",
              "      <td>0</td>\n",
              "    </tr>\n",
              "    <tr>\n",
              "      <th>time_in_hospital</th>\n",
              "      <td>0</td>\n",
              "    </tr>\n",
              "    <tr>\n",
              "      <th>num_lab_procedures</th>\n",
              "      <td>0</td>\n",
              "    </tr>\n",
              "    <tr>\n",
              "      <th>num_procedures</th>\n",
              "      <td>0</td>\n",
              "    </tr>\n",
              "    <tr>\n",
              "      <th>num_medications</th>\n",
              "      <td>0</td>\n",
              "    </tr>\n",
              "    <tr>\n",
              "      <th>number_outpatient</th>\n",
              "      <td>0</td>\n",
              "    </tr>\n",
              "    <tr>\n",
              "      <th>number_emergency</th>\n",
              "      <td>0</td>\n",
              "    </tr>\n",
              "    <tr>\n",
              "      <th>number_inpatient</th>\n",
              "      <td>0</td>\n",
              "    </tr>\n",
              "    <tr>\n",
              "      <th>number_diagnoses</th>\n",
              "      <td>0</td>\n",
              "    </tr>\n",
              "  </tbody>\n",
              "</table>\n",
              "</div><br><label><b>dtype:</b> int64</label>"
            ]
          },
          "metadata": {},
          "execution_count": 943
        }
      ]
    },
    {
      "cell_type": "markdown",
      "source": [
        "Let us do a high-level analysis of the remaining columns in numeric_df."
      ],
      "metadata": {
        "id": "iF90EFcRk7Oz"
      },
      "id": "iF90EFcRk7Oz"
    },
    {
      "cell_type": "code",
      "source": [
        "for col in numeric_df.columns:\n",
        "    print('================================================')\n",
        "    print('\\033[1m'+col+'\\033[0m')\n",
        "    print('Number of unique values:',numeric_df[col].nunique(),\"\\n\")\n",
        "    print('Unique Values:',numeric_df[col].unique(),\"\\n\\n\")\n"
      ],
      "metadata": {
        "colab": {
          "base_uri": "https://localhost:8080/"
        },
        "collapsed": true,
        "id": "ja_X2QhcWyqY",
        "outputId": "ad030c60-4e28-4051-e087-57eebfa30092"
      },
      "id": "ja_X2QhcWyqY",
      "execution_count": 944,
      "outputs": [
        {
          "output_type": "stream",
          "name": "stdout",
          "text": [
            "================================================\n",
            "\u001b[1mpatient_nbr\u001b[0m\n",
            "Number of unique values: 71518 \n",
            "\n",
            "Unique Values: [  8222157  55629189  86047875 ... 140199494 120975314 175429310] \n",
            "\n",
            "\n",
            "================================================\n",
            "\u001b[1madmission_type_id\u001b[0m\n",
            "Number of unique values: 8 \n",
            "\n",
            "Unique Values: [6 1 2 3 4 5 8 7] \n",
            "\n",
            "\n",
            "================================================\n",
            "\u001b[1mdischarge_disposition_id\u001b[0m\n",
            "Number of unique values: 26 \n",
            "\n",
            "Unique Values: [25  1  3  6  2  5 11  7 10  4 14 18  8 13 12 16 17 22 23  9 20 15 24 28\n",
            " 19 27] \n",
            "\n",
            "\n",
            "================================================\n",
            "\u001b[1madmission_source_id\u001b[0m\n",
            "Number of unique values: 17 \n",
            "\n",
            "Unique Values: [ 1  7  2  4  5  6 20  3 17  8  9 14 10 22 11 25 13] \n",
            "\n",
            "\n",
            "================================================\n",
            "\u001b[1mtime_in_hospital\u001b[0m\n",
            "Number of unique values: 14 \n",
            "\n",
            "Unique Values: [ 1  3  2  4  5 13 12  9  7 10  6 11  8 14] \n",
            "\n",
            "\n",
            "================================================\n",
            "\u001b[1mnum_lab_procedures\u001b[0m\n",
            "Number of unique values: 118 \n",
            "\n",
            "Unique Values: [ 41  59  11  44  51  31  70  73  68  33  47  62  60  55  49  75  45  29\n",
            "  35  42  66  36  19  64  25  53  52  87  27  37  46  28  48  72  10   2\n",
            "  65  67  40  54  58  57  43  32  83  34  39  69  38  56  22  96  78  61\n",
            "  88  50   1  18  82   9  63  24  71  77  81  76  90  93   3 103  13  80\n",
            "  85  16  15  12  30  23  17  21  79  26   5  95  97  84  14  74 105  86\n",
            "  98  20   6  94   8 102 100   7  89  91  92   4 101  99 114 113 111 129\n",
            " 107 108 106 104 109 120 132 121 126 118] \n",
            "\n",
            "\n",
            "================================================\n",
            "\u001b[1mnum_procedures\u001b[0m\n",
            "Number of unique values: 7 \n",
            "\n",
            "Unique Values: [0 5 1 6 2 3 4] \n",
            "\n",
            "\n",
            "================================================\n",
            "\u001b[1mnum_medications\u001b[0m\n",
            "Number of unique values: 75 \n",
            "\n",
            "Unique Values: [ 1 18 13 16  8 21 12 28 17 11 15 31  2 23 19  7 20 14 10 22  9 27 25  4\n",
            " 32  6 30 26 24 33  5 39  3 29 61 40 46 41 36 34 35 50 43 42 37 51 38 45\n",
            " 54 52 49 62 55 47 44 53 48 57 59 56 60 63 58 70 67 64 69 65 68 66 81 79\n",
            " 75 72 74] \n",
            "\n",
            "\n",
            "================================================\n",
            "\u001b[1mnumber_outpatient\u001b[0m\n",
            "Number of unique values: 39 \n",
            "\n",
            "Unique Values: [ 0  2  1  5  7  9  3  8  4 12 11  6 20 15 10 13 14 16 21 35 17 29 36 18\n",
            " 19 27 22 24 42 39 34 26 33 25 23 28 37 38 40] \n",
            "\n",
            "\n",
            "================================================\n",
            "\u001b[1mnumber_emergency\u001b[0m\n",
            "Number of unique values: 33 \n",
            "\n",
            "Unique Values: [ 0  1  2  4  3  9  5  7  6  8 22 25 10 13 42 16 11 28 15 14 18 12 21 20\n",
            " 19 46 76 37 64 63 54 24 29] \n",
            "\n",
            "\n",
            "================================================\n",
            "\u001b[1mnumber_inpatient\u001b[0m\n",
            "Number of unique values: 21 \n",
            "\n",
            "Unique Values: [ 0  1  2  3  6  5  4  7  8  9 15 10 11 14 12 13 17 16 21 18 19] \n",
            "\n",
            "\n",
            "================================================\n",
            "\u001b[1mnumber_diagnoses\u001b[0m\n",
            "Number of unique values: 16 \n",
            "\n",
            "Unique Values: [ 1  9  6  7  5  8  3  4  2 16 12 13 15 10 11 14] \n",
            "\n",
            "\n"
          ]
        }
      ]
    },
    {
      "cell_type": "markdown",
      "source": [
        "Some of these columns can benefit from binning - but let us look at it once we come to univariate analysis.\n",
        "Other than that, from a data cleaning point-of-view, we are done with the numercial columns."
      ],
      "metadata": {
        "id": "ZSmVXADrwNu7"
      },
      "id": "ZSmVXADrwNu7"
    },
    {
      "cell_type": "markdown",
      "source": [
        "We will come back to the numerical columns later, if needed."
      ],
      "metadata": {
        "id": "9KomYyeCGrFU"
      },
      "id": "9KomYyeCGrFU"
    },
    {
      "cell_type": "markdown",
      "source": [
        "##### Object Type Columns"
      ],
      "metadata": {
        "id": "uUbBAARYFAIU"
      },
      "id": "uUbBAARYFAIU"
    },
    {
      "cell_type": "code",
      "source": [
        "object_df = df.select_dtypes(include='object')"
      ],
      "metadata": {
        "id": "ejSSEqRxB9ii"
      },
      "id": "ejSSEqRxB9ii",
      "execution_count": 945,
      "outputs": []
    },
    {
      "cell_type": "code",
      "source": [
        "object_df.info()"
      ],
      "metadata": {
        "colab": {
          "base_uri": "https://localhost:8080/"
        },
        "id": "AQA2zZp0CHUj",
        "outputId": "d2be7124-2961-465e-aa13-a2be8d226f51"
      },
      "id": "AQA2zZp0CHUj",
      "execution_count": 946,
      "outputs": [
        {
          "output_type": "stream",
          "name": "stdout",
          "text": [
            "<class 'pandas.core.frame.DataFrame'>\n",
            "RangeIndex: 101766 entries, 0 to 101765\n",
            "Data columns (total 40 columns):\n",
            " #   Column                    Non-Null Count   Dtype \n",
            "---  ------                    --------------   ----- \n",
            " 0   race                      101766 non-null  object\n",
            " 1   gender                    101766 non-null  object\n",
            " 2   age                       101766 non-null  object\n",
            " 3   weight                    101766 non-null  object\n",
            " 4   payer_code                101766 non-null  object\n",
            " 5   medical_specialty         101766 non-null  object\n",
            " 6   diag_1                    101766 non-null  object\n",
            " 7   diag_2                    101766 non-null  object\n",
            " 8   diag_3                    101766 non-null  object\n",
            " 9   max_glu_serum             5346 non-null    object\n",
            " 10  A1Cresult                 17018 non-null   object\n",
            " 11  metformin                 101766 non-null  object\n",
            " 12  repaglinide               101766 non-null  object\n",
            " 13  nateglinide               101766 non-null  object\n",
            " 14  chlorpropamide            101766 non-null  object\n",
            " 15  glimepiride               101766 non-null  object\n",
            " 16  acetohexamide             101766 non-null  object\n",
            " 17  glipizide                 101766 non-null  object\n",
            " 18  glyburide                 101766 non-null  object\n",
            " 19  tolbutamide               101766 non-null  object\n",
            " 20  pioglitazone              101766 non-null  object\n",
            " 21  rosiglitazone             101766 non-null  object\n",
            " 22  acarbose                  101766 non-null  object\n",
            " 23  miglitol                  101766 non-null  object\n",
            " 24  troglitazone              101766 non-null  object\n",
            " 25  tolazamide                101766 non-null  object\n",
            " 26  examide                   101766 non-null  object\n",
            " 27  citoglipton               101766 non-null  object\n",
            " 28  insulin                   101766 non-null  object\n",
            " 29  glyburide-metformin       101766 non-null  object\n",
            " 30  glipizide-metformin       101766 non-null  object\n",
            " 31  glimepiride-pioglitazone  101766 non-null  object\n",
            " 32  metformin-rosiglitazone   101766 non-null  object\n",
            " 33  metformin-pioglitazone    101766 non-null  object\n",
            " 34  change                    101766 non-null  object\n",
            " 35  diabetesMed               101766 non-null  object\n",
            " 36  readmitted                101766 non-null  object\n",
            " 37  admission_type_desc       96475 non-null   object\n",
            " 38  discharge_desc            98075 non-null   object\n",
            " 39  admission_source_desc     94985 non-null   object\n",
            "dtypes: object(40)\n",
            "memory usage: 31.1+ MB\n"
          ]
        }
      ]
    },
    {
      "cell_type": "markdown",
      "source": [
        "We still have 40 columns as object data type.\n",
        "\n",
        "So let us try to split them further."
      ],
      "metadata": {
        "id": "SUhQEjPlHGBT"
      },
      "id": "SUhQEjPlHGBT"
    },
    {
      "cell_type": "code",
      "source": [
        "object_df.columns"
      ],
      "metadata": {
        "colab": {
          "base_uri": "https://localhost:8080/"
        },
        "id": "AkqEAFwaILI7",
        "outputId": "05a3cfa4-11be-4f0a-e4e6-43f6c6bfb0cf"
      },
      "id": "AkqEAFwaILI7",
      "execution_count": 947,
      "outputs": [
        {
          "output_type": "execute_result",
          "data": {
            "text/plain": [
              "Index(['race', 'gender', 'age', 'weight', 'payer_code', 'medical_specialty',\n",
              "       'diag_1', 'diag_2', 'diag_3', 'max_glu_serum', 'A1Cresult', 'metformin',\n",
              "       'repaglinide', 'nateglinide', 'chlorpropamide', 'glimepiride',\n",
              "       'acetohexamide', 'glipizide', 'glyburide', 'tolbutamide',\n",
              "       'pioglitazone', 'rosiglitazone', 'acarbose', 'miglitol', 'troglitazone',\n",
              "       'tolazamide', 'examide', 'citoglipton', 'insulin',\n",
              "       'glyburide-metformin', 'glipizide-metformin',\n",
              "       'glimepiride-pioglitazone', 'metformin-rosiglitazone',\n",
              "       'metformin-pioglitazone', 'change', 'diabetesMed', 'readmitted',\n",
              "       'admission_type_desc', 'discharge_desc', 'admission_source_desc'],\n",
              "      dtype='object')"
            ]
          },
          "metadata": {},
          "execution_count": 947
        }
      ]
    },
    {
      "cell_type": "code",
      "source": [
        "drug_columns = ['metformin',\n",
        "       'repaglinide', 'nateglinide', 'chlorpropamide', 'glimepiride',\n",
        "       'acetohexamide', 'glipizide', 'glyburide', 'tolbutamide',\n",
        "       'pioglitazone', 'rosiglitazone', 'acarbose', 'miglitol', 'troglitazone',\n",
        "       'tolazamide', 'examide', 'citoglipton', 'insulin',\n",
        "       'glyburide-metformin', 'glipizide-metformin',\n",
        "       'glimepiride-pioglitazone', 'metformin-rosiglitazone',\n",
        "       'metformin-pioglitazone']"
      ],
      "metadata": {
        "id": "3aIuJAWkHFyk"
      },
      "id": "3aIuJAWkHFyk",
      "execution_count": 948,
      "outputs": []
    },
    {
      "cell_type": "code",
      "source": [
        "non_drug_columns = ['race', 'gender', 'age', 'weight', 'payer_code', 'medical_specialty',\n",
        "       'diag_1', 'diag_2', 'diag_3', 'max_glu_serum', 'A1Cresult','change', 'diabetesMed', 'readmitted',\n",
        "       'admission_type_desc', 'discharge_desc', 'admission_source_desc']"
      ],
      "metadata": {
        "id": "t1WHsJy2KCqr"
      },
      "id": "t1WHsJy2KCqr",
      "execution_count": 949,
      "outputs": []
    },
    {
      "cell_type": "code",
      "source": [
        "drug_df = object_df[drug_columns]\n",
        "drug_df.columns.nunique()"
      ],
      "metadata": {
        "id": "ILCU5XKtHFtL",
        "colab": {
          "base_uri": "https://localhost:8080/"
        },
        "outputId": "b2279d4a-9b92-4e75-985c-1f72bdc5ad2c"
      },
      "id": "ILCU5XKtHFtL",
      "execution_count": 950,
      "outputs": [
        {
          "output_type": "execute_result",
          "data": {
            "text/plain": [
              "23"
            ]
          },
          "metadata": {},
          "execution_count": 950
        }
      ]
    },
    {
      "cell_type": "code",
      "source": [
        "non_drug_df = object_df[non_drug_columns]\n",
        "non_drug_df.columns.nunique()"
      ],
      "metadata": {
        "colab": {
          "base_uri": "https://localhost:8080/"
        },
        "id": "WAdziD0OKLTe",
        "outputId": "086b66c1-28da-42a3-86e0-9ef3c942da3f"
      },
      "id": "WAdziD0OKLTe",
      "execution_count": 951,
      "outputs": [
        {
          "output_type": "execute_result",
          "data": {
            "text/plain": [
              "17"
            ]
          },
          "metadata": {},
          "execution_count": 951
        }
      ]
    },
    {
      "cell_type": "markdown",
      "source": [
        "###### Let us start with the drug columns."
      ],
      "metadata": {
        "id": "y85DHqqvsjp1"
      },
      "id": "y85DHqqvsjp1"
    },
    {
      "cell_type": "code",
      "source": [
        "df.shape"
      ],
      "metadata": {
        "id": "Yif7kKh_sz-u",
        "outputId": "08381903-0e8b-4a6d-c327-bfb858683ed5",
        "colab": {
          "base_uri": "https://localhost:8080/"
        }
      },
      "id": "Yif7kKh_sz-u",
      "execution_count": 952,
      "outputs": [
        {
          "output_type": "execute_result",
          "data": {
            "text/plain": [
              "(101766, 52)"
            ]
          },
          "metadata": {},
          "execution_count": 952
        }
      ]
    },
    {
      "cell_type": "code",
      "source": [
        "for col in drug_df.columns:\n",
        "    print(col, \"has\", drug_df[col].nunique(), \"unique values\")"
      ],
      "metadata": {
        "id": "Fb51_zZ3sqDl",
        "outputId": "78d7380b-802a-4f4f-ccac-e775e742b5f4",
        "colab": {
          "base_uri": "https://localhost:8080/"
        }
      },
      "id": "Fb51_zZ3sqDl",
      "execution_count": 953,
      "outputs": [
        {
          "output_type": "stream",
          "name": "stdout",
          "text": [
            "metformin has 4 unique values\n",
            "repaglinide has 4 unique values\n",
            "nateglinide has 4 unique values\n",
            "chlorpropamide has 4 unique values\n",
            "glimepiride has 4 unique values\n",
            "acetohexamide has 2 unique values\n",
            "glipizide has 4 unique values\n",
            "glyburide has 4 unique values\n",
            "tolbutamide has 2 unique values\n",
            "pioglitazone has 4 unique values\n",
            "rosiglitazone has 4 unique values\n",
            "acarbose has 4 unique values\n",
            "miglitol has 4 unique values\n",
            "troglitazone has 2 unique values\n",
            "tolazamide has 3 unique values\n",
            "examide has 1 unique values\n",
            "citoglipton has 1 unique values\n",
            "insulin has 4 unique values\n",
            "glyburide-metformin has 4 unique values\n",
            "glipizide-metformin has 2 unique values\n",
            "glimepiride-pioglitazone has 2 unique values\n",
            "metformin-rosiglitazone has 2 unique values\n",
            "metformin-pioglitazone has 2 unique values\n"
          ]
        }
      ]
    },
    {
      "cell_type": "markdown",
      "source": [
        "We can see that `examide` and `citoglipton` have only one unique value. So we can drop them from the original dataframe."
      ],
      "metadata": {
        "id": "LNtbLkFDtZ_G"
      },
      "id": "LNtbLkFDtZ_G"
    },
    {
      "cell_type": "code",
      "source": [
        "df.drop(columns=['examide', 'citoglipton'], inplace=True)\n",
        "# Doing the same on the dummy dataframe for consistency purpose\n",
        "drug_df.drop(columns=['examide', 'citoglipton'], inplace=True)"
      ],
      "metadata": {
        "id": "6Ki3uRfQtUUl",
        "outputId": "6fd72f9e-0cb5-4b55-e2d3-d4eabce94d15",
        "colab": {
          "base_uri": "https://localhost:8080/"
        }
      },
      "id": "6Ki3uRfQtUUl",
      "execution_count": 954,
      "outputs": [
        {
          "output_type": "stream",
          "name": "stderr",
          "text": [
            "/tmp/ipython-input-3699290549.py:3: SettingWithCopyWarning: \n",
            "A value is trying to be set on a copy of a slice from a DataFrame\n",
            "\n",
            "See the caveats in the documentation: https://pandas.pydata.org/pandas-docs/stable/user_guide/indexing.html#returning-a-view-versus-a-copy\n",
            "  drug_df.drop(columns=['examide', 'citoglipton'], inplace=True)\n"
          ]
        }
      ]
    },
    {
      "cell_type": "code",
      "source": [
        "drug_df.isnull().sum()"
      ],
      "metadata": {
        "id": "iXCQJQ1Dsp5u",
        "outputId": "906bef64-dfea-4efc-fe0a-0d89892a371b",
        "colab": {
          "base_uri": "https://localhost:8080/",
          "height": 742
        }
      },
      "id": "iXCQJQ1Dsp5u",
      "execution_count": 955,
      "outputs": [
        {
          "output_type": "execute_result",
          "data": {
            "text/plain": [
              "metformin                   0\n",
              "repaglinide                 0\n",
              "nateglinide                 0\n",
              "chlorpropamide              0\n",
              "glimepiride                 0\n",
              "acetohexamide               0\n",
              "glipizide                   0\n",
              "glyburide                   0\n",
              "tolbutamide                 0\n",
              "pioglitazone                0\n",
              "rosiglitazone               0\n",
              "acarbose                    0\n",
              "miglitol                    0\n",
              "troglitazone                0\n",
              "tolazamide                  0\n",
              "insulin                     0\n",
              "glyburide-metformin         0\n",
              "glipizide-metformin         0\n",
              "glimepiride-pioglitazone    0\n",
              "metformin-rosiglitazone     0\n",
              "metformin-pioglitazone      0\n",
              "dtype: int64"
            ],
            "text/html": [
              "<div>\n",
              "<style scoped>\n",
              "    .dataframe tbody tr th:only-of-type {\n",
              "        vertical-align: middle;\n",
              "    }\n",
              "\n",
              "    .dataframe tbody tr th {\n",
              "        vertical-align: top;\n",
              "    }\n",
              "\n",
              "    .dataframe thead th {\n",
              "        text-align: right;\n",
              "    }\n",
              "</style>\n",
              "<table border=\"1\" class=\"dataframe\">\n",
              "  <thead>\n",
              "    <tr style=\"text-align: right;\">\n",
              "      <th></th>\n",
              "      <th>0</th>\n",
              "    </tr>\n",
              "  </thead>\n",
              "  <tbody>\n",
              "    <tr>\n",
              "      <th>metformin</th>\n",
              "      <td>0</td>\n",
              "    </tr>\n",
              "    <tr>\n",
              "      <th>repaglinide</th>\n",
              "      <td>0</td>\n",
              "    </tr>\n",
              "    <tr>\n",
              "      <th>nateglinide</th>\n",
              "      <td>0</td>\n",
              "    </tr>\n",
              "    <tr>\n",
              "      <th>chlorpropamide</th>\n",
              "      <td>0</td>\n",
              "    </tr>\n",
              "    <tr>\n",
              "      <th>glimepiride</th>\n",
              "      <td>0</td>\n",
              "    </tr>\n",
              "    <tr>\n",
              "      <th>acetohexamide</th>\n",
              "      <td>0</td>\n",
              "    </tr>\n",
              "    <tr>\n",
              "      <th>glipizide</th>\n",
              "      <td>0</td>\n",
              "    </tr>\n",
              "    <tr>\n",
              "      <th>glyburide</th>\n",
              "      <td>0</td>\n",
              "    </tr>\n",
              "    <tr>\n",
              "      <th>tolbutamide</th>\n",
              "      <td>0</td>\n",
              "    </tr>\n",
              "    <tr>\n",
              "      <th>pioglitazone</th>\n",
              "      <td>0</td>\n",
              "    </tr>\n",
              "    <tr>\n",
              "      <th>rosiglitazone</th>\n",
              "      <td>0</td>\n",
              "    </tr>\n",
              "    <tr>\n",
              "      <th>acarbose</th>\n",
              "      <td>0</td>\n",
              "    </tr>\n",
              "    <tr>\n",
              "      <th>miglitol</th>\n",
              "      <td>0</td>\n",
              "    </tr>\n",
              "    <tr>\n",
              "      <th>troglitazone</th>\n",
              "      <td>0</td>\n",
              "    </tr>\n",
              "    <tr>\n",
              "      <th>tolazamide</th>\n",
              "      <td>0</td>\n",
              "    </tr>\n",
              "    <tr>\n",
              "      <th>insulin</th>\n",
              "      <td>0</td>\n",
              "    </tr>\n",
              "    <tr>\n",
              "      <th>glyburide-metformin</th>\n",
              "      <td>0</td>\n",
              "    </tr>\n",
              "    <tr>\n",
              "      <th>glipizide-metformin</th>\n",
              "      <td>0</td>\n",
              "    </tr>\n",
              "    <tr>\n",
              "      <th>glimepiride-pioglitazone</th>\n",
              "      <td>0</td>\n",
              "    </tr>\n",
              "    <tr>\n",
              "      <th>metformin-rosiglitazone</th>\n",
              "      <td>0</td>\n",
              "    </tr>\n",
              "    <tr>\n",
              "      <th>metformin-pioglitazone</th>\n",
              "      <td>0</td>\n",
              "    </tr>\n",
              "  </tbody>\n",
              "</table>\n",
              "</div><br><label><b>dtype:</b> int64</label>"
            ]
          },
          "metadata": {},
          "execution_count": 955
        }
      ]
    },
    {
      "cell_type": "code",
      "source": [
        "(drug_df == '?').sum()"
      ],
      "metadata": {
        "id": "RwN4VU69sp-1",
        "outputId": "5c975f98-3d45-42b2-f821-6a5f75d52ed6",
        "colab": {
          "base_uri": "https://localhost:8080/",
          "height": 742
        }
      },
      "id": "RwN4VU69sp-1",
      "execution_count": 956,
      "outputs": [
        {
          "output_type": "execute_result",
          "data": {
            "text/plain": [
              "metformin                   0\n",
              "repaglinide                 0\n",
              "nateglinide                 0\n",
              "chlorpropamide              0\n",
              "glimepiride                 0\n",
              "acetohexamide               0\n",
              "glipizide                   0\n",
              "glyburide                   0\n",
              "tolbutamide                 0\n",
              "pioglitazone                0\n",
              "rosiglitazone               0\n",
              "acarbose                    0\n",
              "miglitol                    0\n",
              "troglitazone                0\n",
              "tolazamide                  0\n",
              "insulin                     0\n",
              "glyburide-metformin         0\n",
              "glipizide-metformin         0\n",
              "glimepiride-pioglitazone    0\n",
              "metformin-rosiglitazone     0\n",
              "metformin-pioglitazone      0\n",
              "dtype: int64"
            ],
            "text/html": [
              "<div>\n",
              "<style scoped>\n",
              "    .dataframe tbody tr th:only-of-type {\n",
              "        vertical-align: middle;\n",
              "    }\n",
              "\n",
              "    .dataframe tbody tr th {\n",
              "        vertical-align: top;\n",
              "    }\n",
              "\n",
              "    .dataframe thead th {\n",
              "        text-align: right;\n",
              "    }\n",
              "</style>\n",
              "<table border=\"1\" class=\"dataframe\">\n",
              "  <thead>\n",
              "    <tr style=\"text-align: right;\">\n",
              "      <th></th>\n",
              "      <th>0</th>\n",
              "    </tr>\n",
              "  </thead>\n",
              "  <tbody>\n",
              "    <tr>\n",
              "      <th>metformin</th>\n",
              "      <td>0</td>\n",
              "    </tr>\n",
              "    <tr>\n",
              "      <th>repaglinide</th>\n",
              "      <td>0</td>\n",
              "    </tr>\n",
              "    <tr>\n",
              "      <th>nateglinide</th>\n",
              "      <td>0</td>\n",
              "    </tr>\n",
              "    <tr>\n",
              "      <th>chlorpropamide</th>\n",
              "      <td>0</td>\n",
              "    </tr>\n",
              "    <tr>\n",
              "      <th>glimepiride</th>\n",
              "      <td>0</td>\n",
              "    </tr>\n",
              "    <tr>\n",
              "      <th>acetohexamide</th>\n",
              "      <td>0</td>\n",
              "    </tr>\n",
              "    <tr>\n",
              "      <th>glipizide</th>\n",
              "      <td>0</td>\n",
              "    </tr>\n",
              "    <tr>\n",
              "      <th>glyburide</th>\n",
              "      <td>0</td>\n",
              "    </tr>\n",
              "    <tr>\n",
              "      <th>tolbutamide</th>\n",
              "      <td>0</td>\n",
              "    </tr>\n",
              "    <tr>\n",
              "      <th>pioglitazone</th>\n",
              "      <td>0</td>\n",
              "    </tr>\n",
              "    <tr>\n",
              "      <th>rosiglitazone</th>\n",
              "      <td>0</td>\n",
              "    </tr>\n",
              "    <tr>\n",
              "      <th>acarbose</th>\n",
              "      <td>0</td>\n",
              "    </tr>\n",
              "    <tr>\n",
              "      <th>miglitol</th>\n",
              "      <td>0</td>\n",
              "    </tr>\n",
              "    <tr>\n",
              "      <th>troglitazone</th>\n",
              "      <td>0</td>\n",
              "    </tr>\n",
              "    <tr>\n",
              "      <th>tolazamide</th>\n",
              "      <td>0</td>\n",
              "    </tr>\n",
              "    <tr>\n",
              "      <th>insulin</th>\n",
              "      <td>0</td>\n",
              "    </tr>\n",
              "    <tr>\n",
              "      <th>glyburide-metformin</th>\n",
              "      <td>0</td>\n",
              "    </tr>\n",
              "    <tr>\n",
              "      <th>glipizide-metformin</th>\n",
              "      <td>0</td>\n",
              "    </tr>\n",
              "    <tr>\n",
              "      <th>glimepiride-pioglitazone</th>\n",
              "      <td>0</td>\n",
              "    </tr>\n",
              "    <tr>\n",
              "      <th>metformin-rosiglitazone</th>\n",
              "      <td>0</td>\n",
              "    </tr>\n",
              "    <tr>\n",
              "      <th>metformin-pioglitazone</th>\n",
              "      <td>0</td>\n",
              "    </tr>\n",
              "  </tbody>\n",
              "</table>\n",
              "</div><br><label><b>dtype:</b> int64</label>"
            ]
          },
          "metadata": {},
          "execution_count": 956
        }
      ]
    },
    {
      "cell_type": "code",
      "source": [
        "for col in drug_df.columns:\n",
        "    print('================================================')\n",
        "    print('\\033[1m'+col+'\\033[0m')\n",
        "    print('Number of unique values:',drug_df[col].nunique(),\"\\n\")\n",
        "    print('Unique Values:',drug_df[col].unique(),\"\\n\")\n",
        "    print('Number of null values:',drug_df[col].isnull().sum(),\"\\n\\n\")"
      ],
      "metadata": {
        "id": "fnvTZ2-Zspxu",
        "outputId": "fe9faf31-47f1-4492-e376-a12d5ae87d2b",
        "colab": {
          "base_uri": "https://localhost:8080/"
        }
      },
      "id": "fnvTZ2-Zspxu",
      "execution_count": 957,
      "outputs": [
        {
          "output_type": "stream",
          "name": "stdout",
          "text": [
            "================================================\n",
            "\u001b[1mmetformin\u001b[0m\n",
            "Number of unique values: 4 \n",
            "\n",
            "Unique Values: ['No' 'Steady' 'Up' 'Down'] \n",
            "\n",
            "Number of null values: 0 \n",
            "\n",
            "\n",
            "================================================\n",
            "\u001b[1mrepaglinide\u001b[0m\n",
            "Number of unique values: 4 \n",
            "\n",
            "Unique Values: ['No' 'Up' 'Steady' 'Down'] \n",
            "\n",
            "Number of null values: 0 \n",
            "\n",
            "\n",
            "================================================\n",
            "\u001b[1mnateglinide\u001b[0m\n",
            "Number of unique values: 4 \n",
            "\n",
            "Unique Values: ['No' 'Steady' 'Down' 'Up'] \n",
            "\n",
            "Number of null values: 0 \n",
            "\n",
            "\n",
            "================================================\n",
            "\u001b[1mchlorpropamide\u001b[0m\n",
            "Number of unique values: 4 \n",
            "\n",
            "Unique Values: ['No' 'Steady' 'Down' 'Up'] \n",
            "\n",
            "Number of null values: 0 \n",
            "\n",
            "\n",
            "================================================\n",
            "\u001b[1mglimepiride\u001b[0m\n",
            "Number of unique values: 4 \n",
            "\n",
            "Unique Values: ['No' 'Steady' 'Down' 'Up'] \n",
            "\n",
            "Number of null values: 0 \n",
            "\n",
            "\n",
            "================================================\n",
            "\u001b[1macetohexamide\u001b[0m\n",
            "Number of unique values: 2 \n",
            "\n",
            "Unique Values: ['No' 'Steady'] \n",
            "\n",
            "Number of null values: 0 \n",
            "\n",
            "\n",
            "================================================\n",
            "\u001b[1mglipizide\u001b[0m\n",
            "Number of unique values: 4 \n",
            "\n",
            "Unique Values: ['No' 'Steady' 'Up' 'Down'] \n",
            "\n",
            "Number of null values: 0 \n",
            "\n",
            "\n",
            "================================================\n",
            "\u001b[1mglyburide\u001b[0m\n",
            "Number of unique values: 4 \n",
            "\n",
            "Unique Values: ['No' 'Steady' 'Up' 'Down'] \n",
            "\n",
            "Number of null values: 0 \n",
            "\n",
            "\n",
            "================================================\n",
            "\u001b[1mtolbutamide\u001b[0m\n",
            "Number of unique values: 2 \n",
            "\n",
            "Unique Values: ['No' 'Steady'] \n",
            "\n",
            "Number of null values: 0 \n",
            "\n",
            "\n",
            "================================================\n",
            "\u001b[1mpioglitazone\u001b[0m\n",
            "Number of unique values: 4 \n",
            "\n",
            "Unique Values: ['No' 'Steady' 'Up' 'Down'] \n",
            "\n",
            "Number of null values: 0 \n",
            "\n",
            "\n",
            "================================================\n",
            "\u001b[1mrosiglitazone\u001b[0m\n",
            "Number of unique values: 4 \n",
            "\n",
            "Unique Values: ['No' 'Steady' 'Up' 'Down'] \n",
            "\n",
            "Number of null values: 0 \n",
            "\n",
            "\n",
            "================================================\n",
            "\u001b[1macarbose\u001b[0m\n",
            "Number of unique values: 4 \n",
            "\n",
            "Unique Values: ['No' 'Steady' 'Up' 'Down'] \n",
            "\n",
            "Number of null values: 0 \n",
            "\n",
            "\n",
            "================================================\n",
            "\u001b[1mmiglitol\u001b[0m\n",
            "Number of unique values: 4 \n",
            "\n",
            "Unique Values: ['No' 'Steady' 'Down' 'Up'] \n",
            "\n",
            "Number of null values: 0 \n",
            "\n",
            "\n",
            "================================================\n",
            "\u001b[1mtroglitazone\u001b[0m\n",
            "Number of unique values: 2 \n",
            "\n",
            "Unique Values: ['No' 'Steady'] \n",
            "\n",
            "Number of null values: 0 \n",
            "\n",
            "\n",
            "================================================\n",
            "\u001b[1mtolazamide\u001b[0m\n",
            "Number of unique values: 3 \n",
            "\n",
            "Unique Values: ['No' 'Steady' 'Up'] \n",
            "\n",
            "Number of null values: 0 \n",
            "\n",
            "\n",
            "================================================\n",
            "\u001b[1minsulin\u001b[0m\n",
            "Number of unique values: 4 \n",
            "\n",
            "Unique Values: ['No' 'Up' 'Steady' 'Down'] \n",
            "\n",
            "Number of null values: 0 \n",
            "\n",
            "\n",
            "================================================\n",
            "\u001b[1mglyburide-metformin\u001b[0m\n",
            "Number of unique values: 4 \n",
            "\n",
            "Unique Values: ['No' 'Steady' 'Down' 'Up'] \n",
            "\n",
            "Number of null values: 0 \n",
            "\n",
            "\n",
            "================================================\n",
            "\u001b[1mglipizide-metformin\u001b[0m\n",
            "Number of unique values: 2 \n",
            "\n",
            "Unique Values: ['No' 'Steady'] \n",
            "\n",
            "Number of null values: 0 \n",
            "\n",
            "\n",
            "================================================\n",
            "\u001b[1mglimepiride-pioglitazone\u001b[0m\n",
            "Number of unique values: 2 \n",
            "\n",
            "Unique Values: ['No' 'Steady'] \n",
            "\n",
            "Number of null values: 0 \n",
            "\n",
            "\n",
            "================================================\n",
            "\u001b[1mmetformin-rosiglitazone\u001b[0m\n",
            "Number of unique values: 2 \n",
            "\n",
            "Unique Values: ['No' 'Steady'] \n",
            "\n",
            "Number of null values: 0 \n",
            "\n",
            "\n",
            "================================================\n",
            "\u001b[1mmetformin-pioglitazone\u001b[0m\n",
            "Number of unique values: 2 \n",
            "\n",
            "Unique Values: ['No' 'Steady'] \n",
            "\n",
            "Number of null values: 0 \n",
            "\n",
            "\n"
          ]
        }
      ]
    },
    {
      "cell_type": "markdown",
      "source": [
        "From data cleaning, point-of-view, these columns look fine. None of them have any null values, and all of them have between two to four categorical values."
      ],
      "metadata": {
        "id": "BwLXnYdluoCd"
      },
      "id": "BwLXnYdluoCd"
    },
    {
      "cell_type": "markdown",
      "source": [
        "###### Let us continue with the non-drug columns."
      ],
      "metadata": {
        "id": "omjliABDMrYt"
      },
      "id": "omjliABDMrYt"
    },
    {
      "cell_type": "code",
      "source": [
        "for col in non_drug_df.columns:\n",
        "    print(col, \"has\", non_drug_df[col].duplicated().sum(), \"duplicate values\")"
      ],
      "metadata": {
        "id": "IHQrKSHDG7sz",
        "outputId": "ebe256fb-5273-4c2d-d98d-43d6477ef1d8",
        "colab": {
          "base_uri": "https://localhost:8080/"
        }
      },
      "id": "IHQrKSHDG7sz",
      "execution_count": 958,
      "outputs": [
        {
          "output_type": "stream",
          "name": "stdout",
          "text": [
            "race has 101760 duplicate values\n",
            "gender has 101763 duplicate values\n",
            "age has 101756 duplicate values\n",
            "weight has 101756 duplicate values\n",
            "payer_code has 101748 duplicate values\n",
            "medical_specialty has 101693 duplicate values\n",
            "diag_1 has 101049 duplicate values\n",
            "diag_2 has 101017 duplicate values\n",
            "diag_3 has 100976 duplicate values\n",
            "max_glu_serum has 101762 duplicate values\n",
            "A1Cresult has 101762 duplicate values\n",
            "change has 101764 duplicate values\n",
            "diabetesMed has 101764 duplicate values\n",
            "readmitted has 101763 duplicate values\n",
            "admission_type_desc has 101758 duplicate values\n",
            "discharge_desc has 101740 duplicate values\n",
            "admission_source_desc has 101749 duplicate values\n"
          ]
        }
      ]
    },
    {
      "cell_type": "code",
      "source": [
        "(non_drug_df == '?').sum()"
      ],
      "metadata": {
        "colab": {
          "base_uri": "https://localhost:8080/",
          "height": 617
        },
        "id": "1ggdyex2Pr0Z",
        "outputId": "b14417a3-20e1-43e3-d8f4-b9ec5f47803b"
      },
      "id": "1ggdyex2Pr0Z",
      "execution_count": 959,
      "outputs": [
        {
          "output_type": "execute_result",
          "data": {
            "text/plain": [
              "race                      2273\n",
              "gender                       0\n",
              "age                          0\n",
              "weight                   98569\n",
              "payer_code               40256\n",
              "medical_specialty        49949\n",
              "diag_1                      21\n",
              "diag_2                     358\n",
              "diag_3                    1423\n",
              "max_glu_serum                0\n",
              "A1Cresult                    0\n",
              "change                       0\n",
              "diabetesMed                  0\n",
              "readmitted                   0\n",
              "admission_type_desc          0\n",
              "discharge_desc               0\n",
              "admission_source_desc        0\n",
              "dtype: int64"
            ],
            "text/html": [
              "<div>\n",
              "<style scoped>\n",
              "    .dataframe tbody tr th:only-of-type {\n",
              "        vertical-align: middle;\n",
              "    }\n",
              "\n",
              "    .dataframe tbody tr th {\n",
              "        vertical-align: top;\n",
              "    }\n",
              "\n",
              "    .dataframe thead th {\n",
              "        text-align: right;\n",
              "    }\n",
              "</style>\n",
              "<table border=\"1\" class=\"dataframe\">\n",
              "  <thead>\n",
              "    <tr style=\"text-align: right;\">\n",
              "      <th></th>\n",
              "      <th>0</th>\n",
              "    </tr>\n",
              "  </thead>\n",
              "  <tbody>\n",
              "    <tr>\n",
              "      <th>race</th>\n",
              "      <td>2273</td>\n",
              "    </tr>\n",
              "    <tr>\n",
              "      <th>gender</th>\n",
              "      <td>0</td>\n",
              "    </tr>\n",
              "    <tr>\n",
              "      <th>age</th>\n",
              "      <td>0</td>\n",
              "    </tr>\n",
              "    <tr>\n",
              "      <th>weight</th>\n",
              "      <td>98569</td>\n",
              "    </tr>\n",
              "    <tr>\n",
              "      <th>payer_code</th>\n",
              "      <td>40256</td>\n",
              "    </tr>\n",
              "    <tr>\n",
              "      <th>medical_specialty</th>\n",
              "      <td>49949</td>\n",
              "    </tr>\n",
              "    <tr>\n",
              "      <th>diag_1</th>\n",
              "      <td>21</td>\n",
              "    </tr>\n",
              "    <tr>\n",
              "      <th>diag_2</th>\n",
              "      <td>358</td>\n",
              "    </tr>\n",
              "    <tr>\n",
              "      <th>diag_3</th>\n",
              "      <td>1423</td>\n",
              "    </tr>\n",
              "    <tr>\n",
              "      <th>max_glu_serum</th>\n",
              "      <td>0</td>\n",
              "    </tr>\n",
              "    <tr>\n",
              "      <th>A1Cresult</th>\n",
              "      <td>0</td>\n",
              "    </tr>\n",
              "    <tr>\n",
              "      <th>change</th>\n",
              "      <td>0</td>\n",
              "    </tr>\n",
              "    <tr>\n",
              "      <th>diabetesMed</th>\n",
              "      <td>0</td>\n",
              "    </tr>\n",
              "    <tr>\n",
              "      <th>readmitted</th>\n",
              "      <td>0</td>\n",
              "    </tr>\n",
              "    <tr>\n",
              "      <th>admission_type_desc</th>\n",
              "      <td>0</td>\n",
              "    </tr>\n",
              "    <tr>\n",
              "      <th>discharge_desc</th>\n",
              "      <td>0</td>\n",
              "    </tr>\n",
              "    <tr>\n",
              "      <th>admission_source_desc</th>\n",
              "      <td>0</td>\n",
              "    </tr>\n",
              "  </tbody>\n",
              "</table>\n",
              "</div><br><label><b>dtype:</b> int64</label>"
            ]
          },
          "metadata": {},
          "execution_count": 959
        }
      ]
    },
    {
      "cell_type": "markdown",
      "source": [
        "Replacing all '?' with null values."
      ],
      "metadata": {
        "id": "2XdsNdlfxYgV"
      },
      "id": "2XdsNdlfxYgV"
    },
    {
      "cell_type": "code",
      "source": [
        "df.replace(\"?\", np.nan, inplace=True)\n",
        "# Doing the same on the dummy dataframe for consistency purpose\n",
        "non_drug_df.replace(\"?\", np.nan, inplace=True)"
      ],
      "metadata": {
        "colab": {
          "base_uri": "https://localhost:8080/"
        },
        "id": "PTTnJguLM36I",
        "outputId": "a8f411e5-f39d-41ff-f0ac-24f3c4b131de"
      },
      "id": "PTTnJguLM36I",
      "execution_count": 960,
      "outputs": [
        {
          "output_type": "stream",
          "name": "stderr",
          "text": [
            "/tmp/ipython-input-876314273.py:3: SettingWithCopyWarning: \n",
            "A value is trying to be set on a copy of a slice from a DataFrame\n",
            "\n",
            "See the caveats in the documentation: https://pandas.pydata.org/pandas-docs/stable/user_guide/indexing.html#returning-a-view-versus-a-copy\n",
            "  non_drug_df.replace(\"?\", np.nan, inplace=True)\n"
          ]
        }
      ]
    },
    {
      "cell_type": "code",
      "source": [
        "non_drug_df.isnull().sum()"
      ],
      "metadata": {
        "colab": {
          "base_uri": "https://localhost:8080/",
          "height": 617
        },
        "id": "5i8npq2_P4FI",
        "outputId": "dc85264e-820e-42ca-b676-e3b74d92a5ad"
      },
      "id": "5i8npq2_P4FI",
      "execution_count": 961,
      "outputs": [
        {
          "output_type": "execute_result",
          "data": {
            "text/plain": [
              "race                      2273\n",
              "gender                       0\n",
              "age                          0\n",
              "weight                   98569\n",
              "payer_code               40256\n",
              "medical_specialty        49949\n",
              "diag_1                      21\n",
              "diag_2                     358\n",
              "diag_3                    1423\n",
              "max_glu_serum            96420\n",
              "A1Cresult                84748\n",
              "change                       0\n",
              "diabetesMed                  0\n",
              "readmitted                   0\n",
              "admission_type_desc       5291\n",
              "discharge_desc            3691\n",
              "admission_source_desc     6781\n",
              "dtype: int64"
            ],
            "text/html": [
              "<div>\n",
              "<style scoped>\n",
              "    .dataframe tbody tr th:only-of-type {\n",
              "        vertical-align: middle;\n",
              "    }\n",
              "\n",
              "    .dataframe tbody tr th {\n",
              "        vertical-align: top;\n",
              "    }\n",
              "\n",
              "    .dataframe thead th {\n",
              "        text-align: right;\n",
              "    }\n",
              "</style>\n",
              "<table border=\"1\" class=\"dataframe\">\n",
              "  <thead>\n",
              "    <tr style=\"text-align: right;\">\n",
              "      <th></th>\n",
              "      <th>0</th>\n",
              "    </tr>\n",
              "  </thead>\n",
              "  <tbody>\n",
              "    <tr>\n",
              "      <th>race</th>\n",
              "      <td>2273</td>\n",
              "    </tr>\n",
              "    <tr>\n",
              "      <th>gender</th>\n",
              "      <td>0</td>\n",
              "    </tr>\n",
              "    <tr>\n",
              "      <th>age</th>\n",
              "      <td>0</td>\n",
              "    </tr>\n",
              "    <tr>\n",
              "      <th>weight</th>\n",
              "      <td>98569</td>\n",
              "    </tr>\n",
              "    <tr>\n",
              "      <th>payer_code</th>\n",
              "      <td>40256</td>\n",
              "    </tr>\n",
              "    <tr>\n",
              "      <th>medical_specialty</th>\n",
              "      <td>49949</td>\n",
              "    </tr>\n",
              "    <tr>\n",
              "      <th>diag_1</th>\n",
              "      <td>21</td>\n",
              "    </tr>\n",
              "    <tr>\n",
              "      <th>diag_2</th>\n",
              "      <td>358</td>\n",
              "    </tr>\n",
              "    <tr>\n",
              "      <th>diag_3</th>\n",
              "      <td>1423</td>\n",
              "    </tr>\n",
              "    <tr>\n",
              "      <th>max_glu_serum</th>\n",
              "      <td>96420</td>\n",
              "    </tr>\n",
              "    <tr>\n",
              "      <th>A1Cresult</th>\n",
              "      <td>84748</td>\n",
              "    </tr>\n",
              "    <tr>\n",
              "      <th>change</th>\n",
              "      <td>0</td>\n",
              "    </tr>\n",
              "    <tr>\n",
              "      <th>diabetesMed</th>\n",
              "      <td>0</td>\n",
              "    </tr>\n",
              "    <tr>\n",
              "      <th>readmitted</th>\n",
              "      <td>0</td>\n",
              "    </tr>\n",
              "    <tr>\n",
              "      <th>admission_type_desc</th>\n",
              "      <td>5291</td>\n",
              "    </tr>\n",
              "    <tr>\n",
              "      <th>discharge_desc</th>\n",
              "      <td>3691</td>\n",
              "    </tr>\n",
              "    <tr>\n",
              "      <th>admission_source_desc</th>\n",
              "      <td>6781</td>\n",
              "    </tr>\n",
              "  </tbody>\n",
              "</table>\n",
              "</div><br><label><b>dtype:</b> int64</label>"
            ]
          },
          "metadata": {},
          "execution_count": 961
        }
      ]
    },
    {
      "cell_type": "code",
      "execution_count": 962,
      "metadata": {
        "id": "BUkjUVWjr9qh",
        "colab": {
          "base_uri": "https://localhost:8080/",
          "height": 617
        },
        "outputId": "97d64f47-18c4-49c9-83d5-ebf39917b094"
      },
      "outputs": [
        {
          "output_type": "execute_result",
          "data": {
            "text/plain": [
              "weight                   96.858479\n",
              "max_glu_serum            94.746772\n",
              "A1Cresult                83.277322\n",
              "medical_specialty        49.082208\n",
              "payer_code               39.557416\n",
              "admission_source_desc     6.663326\n",
              "admission_type_desc       5.199182\n",
              "discharge_desc            3.626948\n",
              "race                      2.233555\n",
              "diag_3                    1.398306\n",
              "diag_2                    0.351787\n",
              "diag_1                    0.020636\n",
              "gender                    0.000000\n",
              "age                       0.000000\n",
              "change                    0.000000\n",
              "diabetesMed               0.000000\n",
              "readmitted                0.000000\n",
              "dtype: float64"
            ],
            "text/html": [
              "<div>\n",
              "<style scoped>\n",
              "    .dataframe tbody tr th:only-of-type {\n",
              "        vertical-align: middle;\n",
              "    }\n",
              "\n",
              "    .dataframe tbody tr th {\n",
              "        vertical-align: top;\n",
              "    }\n",
              "\n",
              "    .dataframe thead th {\n",
              "        text-align: right;\n",
              "    }\n",
              "</style>\n",
              "<table border=\"1\" class=\"dataframe\">\n",
              "  <thead>\n",
              "    <tr style=\"text-align: right;\">\n",
              "      <th></th>\n",
              "      <th>0</th>\n",
              "    </tr>\n",
              "  </thead>\n",
              "  <tbody>\n",
              "    <tr>\n",
              "      <th>weight</th>\n",
              "      <td>96.858479</td>\n",
              "    </tr>\n",
              "    <tr>\n",
              "      <th>max_glu_serum</th>\n",
              "      <td>94.746772</td>\n",
              "    </tr>\n",
              "    <tr>\n",
              "      <th>A1Cresult</th>\n",
              "      <td>83.277322</td>\n",
              "    </tr>\n",
              "    <tr>\n",
              "      <th>medical_specialty</th>\n",
              "      <td>49.082208</td>\n",
              "    </tr>\n",
              "    <tr>\n",
              "      <th>payer_code</th>\n",
              "      <td>39.557416</td>\n",
              "    </tr>\n",
              "    <tr>\n",
              "      <th>admission_source_desc</th>\n",
              "      <td>6.663326</td>\n",
              "    </tr>\n",
              "    <tr>\n",
              "      <th>admission_type_desc</th>\n",
              "      <td>5.199182</td>\n",
              "    </tr>\n",
              "    <tr>\n",
              "      <th>discharge_desc</th>\n",
              "      <td>3.626948</td>\n",
              "    </tr>\n",
              "    <tr>\n",
              "      <th>race</th>\n",
              "      <td>2.233555</td>\n",
              "    </tr>\n",
              "    <tr>\n",
              "      <th>diag_3</th>\n",
              "      <td>1.398306</td>\n",
              "    </tr>\n",
              "    <tr>\n",
              "      <th>diag_2</th>\n",
              "      <td>0.351787</td>\n",
              "    </tr>\n",
              "    <tr>\n",
              "      <th>diag_1</th>\n",
              "      <td>0.020636</td>\n",
              "    </tr>\n",
              "    <tr>\n",
              "      <th>gender</th>\n",
              "      <td>0.000000</td>\n",
              "    </tr>\n",
              "    <tr>\n",
              "      <th>age</th>\n",
              "      <td>0.000000</td>\n",
              "    </tr>\n",
              "    <tr>\n",
              "      <th>change</th>\n",
              "      <td>0.000000</td>\n",
              "    </tr>\n",
              "    <tr>\n",
              "      <th>diabetesMed</th>\n",
              "      <td>0.000000</td>\n",
              "    </tr>\n",
              "    <tr>\n",
              "      <th>readmitted</th>\n",
              "      <td>0.000000</td>\n",
              "    </tr>\n",
              "  </tbody>\n",
              "</table>\n",
              "</div><br><label><b>dtype:</b> float64</label>"
            ]
          },
          "metadata": {},
          "execution_count": 962
        }
      ],
      "source": [
        "percent_missing = non_drug_df.isnull().sum()*100/len(df)\n",
        "percent_missing_sorted = percent_missing.sort_values(ascending=False)\n",
        "percent_missing_sorted"
      ],
      "id": "BUkjUVWjr9qh"
    },
    {
      "cell_type": "markdown",
      "source": [
        "Columns `weight`, `max_glu_serum`, `A1Cresult` have very high null value percentages, so we can drop them from the original dataframe."
      ],
      "metadata": {
        "id": "LJzG39N8RTBW"
      },
      "id": "LJzG39N8RTBW"
    },
    {
      "cell_type": "code",
      "source": [
        "df.drop(columns=['weight', 'max_glu_serum', 'A1Cresult'], inplace=True)\n",
        "# Doing the same on the dummy dataframe for consistency purpose\n",
        "non_drug_df.drop(columns=['weight', 'max_glu_serum', 'A1Cresult'], inplace=True)"
      ],
      "metadata": {
        "id": "LI91FFTln0eq",
        "colab": {
          "base_uri": "https://localhost:8080/"
        },
        "outputId": "f12aa290-4263-481e-8d82-963f887cbb34"
      },
      "id": "LI91FFTln0eq",
      "execution_count": 963,
      "outputs": [
        {
          "output_type": "stream",
          "name": "stderr",
          "text": [
            "/tmp/ipython-input-2845509147.py:3: SettingWithCopyWarning: \n",
            "A value is trying to be set on a copy of a slice from a DataFrame\n",
            "\n",
            "See the caveats in the documentation: https://pandas.pydata.org/pandas-docs/stable/user_guide/indexing.html#returning-a-view-versus-a-copy\n",
            "  non_drug_df.drop(columns=['weight', 'max_glu_serum', 'A1Cresult'], inplace=True)\n"
          ]
        }
      ]
    },
    {
      "cell_type": "markdown",
      "source": [
        "Columns `medical_specialty` and `payer_code` also have a significant percentage of null values, but let us analyze them a bit more."
      ],
      "metadata": {
        "id": "oj-iAWl1RmAS"
      },
      "id": "oj-iAWl1RmAS"
    },
    {
      "cell_type": "markdown",
      "source": [
        "`medical_specialty`"
      ],
      "metadata": {
        "id": "ab1FChV8S5Nf"
      },
      "id": "ab1FChV8S5Nf"
    },
    {
      "cell_type": "code",
      "source": [
        "non_drug_df['medical_specialty'].unique()"
      ],
      "metadata": {
        "colab": {
          "base_uri": "https://localhost:8080/"
        },
        "id": "JhWjFjJ9QL3J",
        "outputId": "32022c38-0f97-47e4-8bd4-e69ab17d9ada"
      },
      "id": "JhWjFjJ9QL3J",
      "execution_count": 964,
      "outputs": [
        {
          "output_type": "execute_result",
          "data": {
            "text/plain": [
              "array(['Pediatrics-Endocrinology', nan, 'InternalMedicine',\n",
              "       'Family/GeneralPractice', 'Cardiology', 'Surgery-General',\n",
              "       'Orthopedics', 'Gastroenterology',\n",
              "       'Surgery-Cardiovascular/Thoracic', 'Nephrology',\n",
              "       'Orthopedics-Reconstructive', 'Psychiatry', 'Emergency/Trauma',\n",
              "       'Pulmonology', 'Surgery-Neuro',\n",
              "       'Obsterics&Gynecology-GynecologicOnco', 'ObstetricsandGynecology',\n",
              "       'Pediatrics', 'Hematology/Oncology', 'Otolaryngology',\n",
              "       'Surgery-Colon&Rectal', 'Pediatrics-CriticalCare', 'Endocrinology',\n",
              "       'Urology', 'Psychiatry-Child/Adolescent', 'Pediatrics-Pulmonology',\n",
              "       'Neurology', 'Anesthesiology-Pediatric', 'Radiology',\n",
              "       'Pediatrics-Hematology-Oncology', 'Psychology', 'Podiatry',\n",
              "       'Gynecology', 'Oncology', 'Pediatrics-Neurology',\n",
              "       'Surgery-Plastic', 'Surgery-Thoracic',\n",
              "       'Surgery-PlasticwithinHeadandNeck', 'Ophthalmology',\n",
              "       'Surgery-Pediatric', 'Pediatrics-EmergencyMedicine',\n",
              "       'PhysicalMedicineandRehabilitation', 'InfectiousDiseases',\n",
              "       'Anesthesiology', 'Rheumatology', 'AllergyandImmunology',\n",
              "       'Surgery-Maxillofacial', 'Pediatrics-InfectiousDiseases',\n",
              "       'Pediatrics-AllergyandImmunology', 'Dentistry', 'Surgeon',\n",
              "       'Surgery-Vascular', 'Osteopath', 'Psychiatry-Addictive',\n",
              "       'Surgery-Cardiovascular', 'PhysicianNotFound', 'Hematology',\n",
              "       'Proctology', 'Obstetrics', 'SurgicalSpecialty', 'Radiologist',\n",
              "       'Pathology', 'Dermatology', 'SportsMedicine', 'Speech',\n",
              "       'Hospitalist', 'OutreachServices', 'Cardiology-Pediatric',\n",
              "       'Perinatology', 'Neurophysiology', 'Endocrinology-Metabolism',\n",
              "       'DCPTEAM', 'Resident'], dtype=object)"
            ]
          },
          "metadata": {},
          "execution_count": 964
        }
      ]
    },
    {
      "cell_type": "markdown",
      "source": [
        "Let us keep `medical_specialty` for now, and impute the missing values as a new value 'Unknown'."
      ],
      "metadata": {
        "id": "htB9GWRCSTHR"
      },
      "id": "htB9GWRCSTHR"
    },
    {
      "cell_type": "code",
      "source": [
        "df['medical_specialty'] = df['medical_specialty'].fillna('Unknown')\n",
        "# Doing the same on the dummy dataframe for consistency purpose\n",
        "non_drug_df['medical_specialty'] = non_drug_df['medical_specialty'].fillna('Unknown')"
      ],
      "metadata": {
        "colab": {
          "base_uri": "https://localhost:8080/"
        },
        "id": "NDn21v-RSS53",
        "outputId": "f0869b3e-f651-47a4-ceb0-5b201241ed94"
      },
      "id": "NDn21v-RSS53",
      "execution_count": 965,
      "outputs": [
        {
          "output_type": "stream",
          "name": "stderr",
          "text": [
            "/tmp/ipython-input-2342112168.py:3: SettingWithCopyWarning: \n",
            "A value is trying to be set on a copy of a slice from a DataFrame.\n",
            "Try using .loc[row_indexer,col_indexer] = value instead\n",
            "\n",
            "See the caveats in the documentation: https://pandas.pydata.org/pandas-docs/stable/user_guide/indexing.html#returning-a-view-versus-a-copy\n",
            "  non_drug_df['medical_specialty'] = non_drug_df['medical_specialty'].fillna('Unknown')\n"
          ]
        }
      ]
    },
    {
      "cell_type": "markdown",
      "source": [
        "`payer_code`"
      ],
      "metadata": {
        "id": "y2U8_Q2US24_"
      },
      "id": "y2U8_Q2US24_"
    },
    {
      "cell_type": "code",
      "source": [
        "df['payer_code'].unique()"
      ],
      "metadata": {
        "colab": {
          "base_uri": "https://localhost:8080/"
        },
        "id": "mTiG3Q15QGbb",
        "outputId": "2245ca0a-3118-41e2-fe5a-cc3618d7a568"
      },
      "id": "mTiG3Q15QGbb",
      "execution_count": 966,
      "outputs": [
        {
          "output_type": "execute_result",
          "data": {
            "text/plain": [
              "array([nan, 'MC', 'MD', 'HM', 'UN', 'BC', 'SP', 'CP', 'SI', 'DM', 'CM',\n",
              "       'CH', 'PO', 'WC', 'OT', 'OG', 'MP', 'FR'], dtype=object)"
            ]
          },
          "metadata": {},
          "execution_count": 966
        }
      ]
    },
    {
      "cell_type": "markdown",
      "source": [
        "Let us remove `payer_code`, as anyway it should not contribute to readmission, along wiht having a large percentage of null values.  "
      ],
      "metadata": {
        "id": "SPckkbvMR2-d"
      },
      "id": "SPckkbvMR2-d"
    },
    {
      "cell_type": "code",
      "source": [
        "df.drop(columns=['payer_code'], inplace=True)\n",
        "# Doing the same on the dummy dataframe for consistency purpose\n",
        "non_drug_df.drop(columns=['payer_code'], inplace=True)"
      ],
      "metadata": {
        "colab": {
          "base_uri": "https://localhost:8080/"
        },
        "id": "N25g4dldQGZD",
        "outputId": "af3e45fa-63c4-4319-bdc9-7e2c63d50d82"
      },
      "id": "N25g4dldQGZD",
      "execution_count": 967,
      "outputs": [
        {
          "output_type": "stream",
          "name": "stderr",
          "text": [
            "/tmp/ipython-input-1142169840.py:3: SettingWithCopyWarning: \n",
            "A value is trying to be set on a copy of a slice from a DataFrame\n",
            "\n",
            "See the caveats in the documentation: https://pandas.pydata.org/pandas-docs/stable/user_guide/indexing.html#returning-a-view-versus-a-copy\n",
            "  non_drug_df.drop(columns=['payer_code'], inplace=True)\n"
          ]
        }
      ]
    },
    {
      "cell_type": "markdown",
      "source": [
        "Let us do a high-level analysis of the remaining columns in non_drug_df."
      ],
      "metadata": {
        "id": "JV6TCX-QkyW8"
      },
      "id": "JV6TCX-QkyW8"
    },
    {
      "cell_type": "code",
      "source": [
        "for col in non_drug_df.columns:\n",
        "    print('================================================')\n",
        "    print('\\033[1m'+col+'\\033[0m')\n",
        "    print('Number of unique values:',non_drug_df[col].nunique(),\"\\n\")\n",
        "    print('Unique Values:',non_drug_df[col].unique(),\"\\n\")\n",
        "    print('Number of null values:',non_drug_df[col].isnull().sum(),\"\\n\\n\")"
      ],
      "metadata": {
        "colab": {
          "base_uri": "https://localhost:8080/"
        },
        "id": "D0SpMkhtQGUT",
        "outputId": "191460f6-8f19-46e5-f5fc-763815bb4871"
      },
      "id": "D0SpMkhtQGUT",
      "execution_count": 968,
      "outputs": [
        {
          "output_type": "stream",
          "name": "stdout",
          "text": [
            "================================================\n",
            "\u001b[1mrace\u001b[0m\n",
            "Number of unique values: 5 \n",
            "\n",
            "Unique Values: ['Caucasian' 'AfricanAmerican' nan 'Other' 'Asian' 'Hispanic'] \n",
            "\n",
            "Number of null values: 2273 \n",
            "\n",
            "\n",
            "================================================\n",
            "\u001b[1mgender\u001b[0m\n",
            "Number of unique values: 3 \n",
            "\n",
            "Unique Values: ['Female' 'Male' 'Unknown/Invalid'] \n",
            "\n",
            "Number of null values: 0 \n",
            "\n",
            "\n",
            "================================================\n",
            "\u001b[1mage\u001b[0m\n",
            "Number of unique values: 10 \n",
            "\n",
            "Unique Values: ['[0-10)' '[10-20)' '[20-30)' '[30-40)' '[40-50)' '[50-60)' '[60-70)'\n",
            " '[70-80)' '[80-90)' '[90-100)'] \n",
            "\n",
            "Number of null values: 0 \n",
            "\n",
            "\n",
            "================================================\n",
            "\u001b[1mmedical_specialty\u001b[0m\n",
            "Number of unique values: 73 \n",
            "\n",
            "Unique Values: ['Pediatrics-Endocrinology' 'Unknown' 'InternalMedicine'\n",
            " 'Family/GeneralPractice' 'Cardiology' 'Surgery-General' 'Orthopedics'\n",
            " 'Gastroenterology' 'Surgery-Cardiovascular/Thoracic' 'Nephrology'\n",
            " 'Orthopedics-Reconstructive' 'Psychiatry' 'Emergency/Trauma'\n",
            " 'Pulmonology' 'Surgery-Neuro' 'Obsterics&Gynecology-GynecologicOnco'\n",
            " 'ObstetricsandGynecology' 'Pediatrics' 'Hematology/Oncology'\n",
            " 'Otolaryngology' 'Surgery-Colon&Rectal' 'Pediatrics-CriticalCare'\n",
            " 'Endocrinology' 'Urology' 'Psychiatry-Child/Adolescent'\n",
            " 'Pediatrics-Pulmonology' 'Neurology' 'Anesthesiology-Pediatric'\n",
            " 'Radiology' 'Pediatrics-Hematology-Oncology' 'Psychology' 'Podiatry'\n",
            " 'Gynecology' 'Oncology' 'Pediatrics-Neurology' 'Surgery-Plastic'\n",
            " 'Surgery-Thoracic' 'Surgery-PlasticwithinHeadandNeck' 'Ophthalmology'\n",
            " 'Surgery-Pediatric' 'Pediatrics-EmergencyMedicine'\n",
            " 'PhysicalMedicineandRehabilitation' 'InfectiousDiseases' 'Anesthesiology'\n",
            " 'Rheumatology' 'AllergyandImmunology' 'Surgery-Maxillofacial'\n",
            " 'Pediatrics-InfectiousDiseases' 'Pediatrics-AllergyandImmunology'\n",
            " 'Dentistry' 'Surgeon' 'Surgery-Vascular' 'Osteopath'\n",
            " 'Psychiatry-Addictive' 'Surgery-Cardiovascular' 'PhysicianNotFound'\n",
            " 'Hematology' 'Proctology' 'Obstetrics' 'SurgicalSpecialty' 'Radiologist'\n",
            " 'Pathology' 'Dermatology' 'SportsMedicine' 'Speech' 'Hospitalist'\n",
            " 'OutreachServices' 'Cardiology-Pediatric' 'Perinatology'\n",
            " 'Neurophysiology' 'Endocrinology-Metabolism' 'DCPTEAM' 'Resident'] \n",
            "\n",
            "Number of null values: 0 \n",
            "\n",
            "\n",
            "================================================\n",
            "\u001b[1mdiag_1\u001b[0m\n",
            "Number of unique values: 716 \n",
            "\n",
            "Unique Values: ['250.83' '276' '648' '8' '197' '414' '428' '398' '434' '250.7' '157'\n",
            " '518' '999' '410' '682' '402' '737' '572' 'V57' '189' '786' '427' '996'\n",
            " '277' '584' '462' '473' '411' '174' '486' '998' '511' '432' '626' '295'\n",
            " '196' '250.6' '618' '182' '845' '423' '808' '250.4' '722' '403' '250.11'\n",
            " '784' '707' '440' '151' '715' '997' '198' '564' '812' '38' '590' '556'\n",
            " '578' '250.32' '433' 'V58' '569' '185' '536' '255' '250.13' '599' '558'\n",
            " '574' '491' '560' '244' '250.03' '577' '730' '188' '824' '250.8' '332'\n",
            " '562' '291' '296' '510' '401' '263' '438' '70' '250.02' '493' '642' '625'\n",
            " '571' '738' '593' '250.42' '807' '456' '446' '575' '250.41' '820' '515'\n",
            " '780' '250.22' '995' '235' '250.82' '721' '787' '162' '724' '282' '514'\n",
            " 'V55' '281' '250.33' '530' '466' '435' '250.12' 'V53' '789' '566' '822'\n",
            " '191' '557' '733' '455' '711' '482' '202' '280' '553' '225' '154' '441'\n",
            " '250.81' '349' nan '962' '592' '507' '386' '156' '200' '728' '348' '459'\n",
            " '426' '388' '607' '337' '82' '531' '596' '288' '656' '573' '492' '220'\n",
            " '516' '210' '922' '286' '885' '958' '661' '969' '250.93' '227' '112'\n",
            " '404' '823' '532' '416' '346' '535' '453' '250' '595' '211' '303'\n",
            " '250.01' '852' '218' '782' '540' '457' '285' '431' '340' '550' '54' '351'\n",
            " '601' '723' '555' '153' '443' '380' '204' '424' '241' '358' '694' '331'\n",
            " '345' '681' '447' '290' '158' '579' '436' '335' '309' '654' '805' '799'\n",
            " '292' '183' '78' '851' '458' '586' '311' '892' '305' '293' '415' '591'\n",
            " '794' '803' '79' '655' '429' '278' '658' '598' '729' '585' '444' '604'\n",
            " '727' '214' '552' '284' '680' '708' '41' '644' '481' '821' '413' '437'\n",
            " '968' '756' '632' '359' '275' '512' '781' '420' '368' '522' '294' '825'\n",
            " '135' '304' '320' '250.31' '669' '868' '496' '250.43' '826' '567' '3'\n",
            " '203' '53' '251' '565' '161' '495' '49' '250.1' '297' '663' '576' '355'\n",
            " '850' '287' '250.2' '611' '840' '350' '726' '537' '620' '180' '366' '783'\n",
            " '11' '751' '716' '250.3' '199' '464' '580' '836' '664' '283' '813' '966'\n",
            " '289' '965' '184' '480' '608' '333' '972' '212' '117' '788' '924' '959'\n",
            " '621' '238' '785' '714' '942' '250.23' '710' '47' '933' '508' '478' '844'\n",
            " '7' '736' '233' '42' '250.5' '397' '395' '201' '421' '253' '250.92' '600'\n",
            " '494' '977' '39' '659' '312' '614' '647' '652' '646' '274' '861' '425'\n",
            " '527' '451' '485' '217' '250.53' '442' '970' '193' '160' '322' '581'\n",
            " '475' '623' '374' '582' '568' '465' '801' '237' '376' '150' '461' '913'\n",
            " '226' '617' '987' '641' '298' '790' '336' '362' '228' '513' '383' '746'\n",
            " '353' '911' '506' '873' '155' '860' '534' '802' '141' 'V45' '396' '310'\n",
            " '341' '242' '719' '239' '533' '616' '519' '301' 'V66' '5' '989' '230'\n",
            " '385' '300' '853' '871' '570' '848' '463' '9' '934' '250.21' '236' '361'\n",
            " '594' '501' '810' '643' '430' '528' '205' '791' '983' '992' '490' '172'\n",
            " '171' '622' '306' '863' '864' '474' '660' '759' '356' '634' '967' '551'\n",
            " '695' '187' '732' '747' '323' '308' '370' '252' '152' '846' '164' '365'\n",
            " '718' '48' '266' '720' '94' '344' '797' '170' '878' '904' 'V56' '882'\n",
            " '843' '709' '973' '454' '686' '939' '487' '229' '991' '483' '357' '692'\n",
            " '796' '693' '935' '936' '800' '920' 'V26' '261' '307' '262' '250.9' '831'\n",
            " '145' '223' 'V71' '839' '685' 'V54' '35' '34' '179' '964' '136' '324'\n",
            " '389' '815' '334' '143' '526' '588' '192' 'V67' '394' '917' '88' '219'\n",
            " '325' '792' '717' '994' '990' '793' '207' '637' '195' '373' '847' '827'\n",
            " '31' '891' '814' 'V60' '703' '865' '352' '627' '378' '342' '886' '369'\n",
            " '745' '705' '816' '541' '986' '610' '633' '640' '753' '173' '835' '379'\n",
            " '445' '272' '382' '945' '619' '881' '250.52' '866' '405' '916' '215'\n",
            " '893' '75' '671' '928' '906' '897' '725' '867' '115' '890' '734' '521'\n",
            " '674' '470' '834' '146' '696' '524' '980' '691' '384' '142' '879'\n",
            " '250.51' '246' '208' '448' '955' '653' '149' '245' '735' '883' '854'\n",
            " '952' '838' '194' 'V43' '163' '216' '147' '354' '27' '477' '318' '880'\n",
            " '921' '377' '471' '683' '175' '602' '250.91' '982' '706' '375' '417'\n",
            " '131' '347' '870' '148' '862' '61' '817' '914' '360' '684' '314' 'V63'\n",
            " '36' '57' '240' '915' '971' '795' '988' '452' '963' '327' '731' '842'\n",
            " 'V25' '645' '665' '110' '944' '603' '923' '412' '363' '957' '976' '698'\n",
            " '299' '700' '273' '974' '97' '529' '66' '98' '605' '941' '52' '806' '84'\n",
            " '271' '837' '657' '895' '338' '523' '542' '114' '543' '372' 'V70' 'E909'\n",
            " '583' 'V07' '422' '615' '279' '500' '903' '919' '875' '381' '804' '704'\n",
            " '23' '58' '649' '832' '133' '975' '833' '391' '690' '10' 'V51'] \n",
            "\n",
            "Number of null values: 21 \n",
            "\n",
            "\n",
            "================================================\n",
            "\u001b[1mdiag_2\u001b[0m\n",
            "Number of unique values: 748 \n",
            "\n",
            "Unique Values: [nan '250.01' '250' '250.43' '157' '411' '492' '427' '198' '403' '288'\n",
            " '998' '507' '174' '425' '456' '401' '715' '496' '428' '585' '250.02'\n",
            " '410' '999' '996' '135' '244' '41' '571' '276' '997' '599' '424' '491'\n",
            " '553' '707' '286' '440' '493' '242' '70' 'V45' '250.03' '357' '511' '196'\n",
            " '396' '197' '414' '250.52' '577' '535' '413' '285' '53' '780' '518' '150'\n",
            " '566' '250.6' '867' '486' 'V15' '8' '788' '340' '574' '581' '228' '530'\n",
            " '250.82' '786' '294' '567' '785' '512' '305' '729' '250.51' '280' '648'\n",
            " '560' '618' '444' '38' 'V10' '578' '277' '781' '250.42' '278' '426' '584'\n",
            " '462' '402' '153' '272' '733' '34' '881' '203' '250.41' '250.13' '293'\n",
            " '245' '250.12' '558' '787' '342' '573' '626' '303' '250.53' '458' '710'\n",
            " '415' 'V42' '284' '569' '759' '682' '112' '292' '435' '290' '250.93'\n",
            " '642' '536' '398' '319' '711' 'E878' '446' '255' 'V44' '250.7' '784'\n",
            " '300' '562' '162' '287' '447' '789' '790' '591' '200' '154' '304' '117'\n",
            " '847' '852' '250.83' '250.11' '816' '575' '416' '412' '441' '515' '372'\n",
            " '482' '382' 'V65' '572' '283' '78' '250.81' '576' '432' '595' '295' 'V12'\n",
            " '204' '466' '721' '434' '590' '271' '813' '368' '227' '783' '250.5' '258'\n",
            " '253' '309' '250.91' '519' '333' '459' '250.92' '250.4' '179' '420' '345'\n",
            " '433' '661' '537' '205' '722' '405' '437' '714' '211' 'E812' '263' '202'\n",
            " '397' '250.23' 'E932' '201' '301' '723' '614' '568' '861' 'V57' '724'\n",
            " '189' '297' '453' 'E888' '730' '354' '451' '738' 'E939' '805' 'V43' '155'\n",
            " '910' '218' '358' '220' 'E937' '583' '958' '794' '564' '436' '250.22'\n",
            " '620' '621' '331' '617' '596' '314' '378' '250.8' '625' '478' '731' '172'\n",
            " '404' '681' '470' '279' '281' '531' '443' '799' '337' '311' '719' 'E944'\n",
            " '423' 'E870' '465' 'E849' '782' '481' '480' 'V23' '199' '79' '438' '348'\n",
            " '42' 'E950' '473' '627' '726' '54' '490' '317' '332' '508' '369' '600'\n",
            " '349' '485' '208' '922' '431' '296' 'E934' '753' 'E935' '386' '728' '607'\n",
            " 'E915' '344' '716' '289' '191' '873' '850' '611' '377' '352' '616' 'V17'\n",
            " '136' '455' '933' 'E885' '860' '513' '603' '484' '223' 'V72' '291' '151'\n",
            " 'V58' '550' '510' '891' '185' '592' '791' '138' '598' '336' '362' '217'\n",
            " '825' '298' '821' 'E880' '343' '429' 'E879' '579' '225' '250.9' 'V49'\n",
            " '696' '233' '658' '969' '275' '250.1' '601' '704' '808' 'E890' 'V18'\n",
            " '920' '380' '570' 'E817' '359' '812' '274' 'V14' '324' '758' 'V66' '911'\n",
            " 'E931' 'E924' '593' '792' '727' 'V46' '394' '532' 'V64' '557' '864' '718'\n",
            " 'E942' '807' '604' '924' '820' '580' '273' '241' '282' '824' 'V61' '646'\n",
            " '701' '736' '565' '383' '250.2' 'E947' '452' '872' '905' 'E930' '921'\n",
            " '131' '448' '389' '421' '214' '705' '494' '752' '623' '9' '299' '959'\n",
            " '365' '967' 'E858' '40' '691' '909' '5' '814' '746' '250.31' '556' '680'\n",
            " '745' '351' '306' '110' '695' '552' '346' '918' '882' '947' '520' '188'\n",
            " '31' '356' '737' 'V08' '322' '182' '517' '974' 'E929' 'V53' '912' '252'\n",
            " '608' '516' 'E933' '94' '702' '923' '594' '647' '111' '934' '430' '487'\n",
            " '709' '796' '156' '977' '915' '756' '840' '341' '259' '693' '725' 'V62'\n",
            " '528' '683' '953' '457' '501' 'E900' 'V09' '522' '919' '461' '506' '193'\n",
            " '483' 'E936' '717' '802' '335' 'V54' '320' '945' '906' '239' '454' '826'\n",
            " '823' 'E941' '226' '795' '684' '844' '250.33' '308' '615' '588' '712'\n",
            " '663' '706' '833' '741' '713' '533' 'E884' '586' '555' '755' 'E928' '742'\n",
            " '869' '962' 'V11' '543' '373' '870' '913' '152' '810' '965' '907' '908'\n",
            " '995' '845' '474' '442' '751' '323' '472' '464' '686' '250.32' '540'\n",
            " '251' '811' '652' '659' '851' '422' '815' '307' '325' '463' '992' '692'\n",
            " '521' '917' 'E965' '524' '916' 'E813' '173' '238' '137' '514' '312' '837'\n",
            " '355' '980' '622' '475' '500' '754' '261' '801' '868' '968' '381' '11'\n",
            " '250.21' '694' '610' '734' 'E814' '310' '130' '246' '892' '846' '634'\n",
            " '75' 'E927' 'E905' '183' '379' 'E917' '163' 'E868' '495' '747' '989'\n",
            " 'E854' '240' '832' '605' '602' '644' 'V16' '35' 'V70' '376' '266' 'E918'\n",
            " '619' '477' '656' '46' '883' '171' 'V13' '698' '842' 'E850' '800' '269'\n",
            " '664' 'E887' '952' '164' 'E881' '527' '685' '366' '836' '27' 'V63' '865'\n",
            " '793' '232' '990' '52' '831' '327' '542' '806' '972' '862' 'E829' 'E919'\n",
            " '944' 'E916' '963' '316' '645' '347' 'V85' '374' 'V02' '748' '256' '186'\n",
            " '866' '975' '96' '395' '262' 'E819' '654' '994' '318' 'E826' '879' '674'\n",
            " '641' '822' '145' '797' '353' 'E938' 'E816' '948' '987' '99' '192'\n",
            " '250.3' 'E906' '534' '115' 'E818' 'E980' '360' '338' '529' '871' '750'\n",
            " '212' '302' '955' '141' '88' 'V25' '215' '350' 'V50' 'V03' 'E853' 'E968'\n",
            " 'E882' '140' '703' '991' '893' 'E821' '235' 'V69' '670' '195' 'V55' '388'\n",
            " '268' '894' '114' '260' '853' '7' '880' 'V86' '180' 'E945' '523' '863'\n",
            " '649' '270' '665' '460' '942' '364' '66' 'E883' '123' '884' 'V60' '843'\n",
            " '927'] \n",
            "\n",
            "Number of null values: 358 \n",
            "\n",
            "\n",
            "================================================\n",
            "\u001b[1mdiag_3\u001b[0m\n",
            "Number of unique values: 789 \n",
            "\n",
            "Unique Values: [nan '255' 'V27' '403' '250' 'V45' '38' '486' '996' '197' '250.6' '427'\n",
            " '627' '414' '416' '714' '428' '582' 'V43' '250.01' '263' '250.42' '276'\n",
            " '482' '401' '250.41' '585' '781' '278' '998' '568' '682' '618' '250.02'\n",
            " '305' '707' '496' '599' '715' '424' '518' '553' '794' '411' 'V42' '531'\n",
            " '511' '490' '562' '250.8' '250.7' '250.52' '784' '491' '581' '420' '8'\n",
            " '724' '730' '789' '131' '250.82' '999' '41' '493' '250.03' '753' '786'\n",
            " '529' 'E888' '425' '595' '303' '560' '711' '492' '332' '296' '438' '362'\n",
            " '250.4' '654' '244' 'V70' '737' '625' '681' '250.51' '404' 'V10' '810'\n",
            " '280' '440' '785' '588' '569' '272' '997' '250.43' '918' '584' '54' '788'\n",
            " '426' '722' '250.92' '196' '461' '535' '787' '891' '284' '458' '648'\n",
            " '780' '182' '285' '593' '413' '664' '564' '201' '356' 'V15' '292' '782'\n",
            " '473' '455' 'E932' '357' '348' '294' '250.23' '459' 'E878' '437' '733'\n",
            " '507' '525' '250.53' '397' '572' '805' '453' '331' '736' '402' '591'\n",
            " '576' '465' '533' '703' '349' '315' '658' '608' '578' '716' '382' '300'\n",
            " '282' '571' '536' '596' '287' '644' 'V11' '558' 'E885' '162' '198' '218'\n",
            " '412' '396' 'V14' '570' '433' 'E934' '882' '288' '577' '443' '729' '836'\n",
            " '295' '799' '281' '304' '153' '410' '616' '250.83' '601' '291' '75' '512'\n",
            " '660' '250.5' '598' '337' '574' '653' 'V58' '311' '415' '386' '602' '790'\n",
            " '112' '873' '620' '436' '70' '155' '138' '663' '530' '710' '42' '342'\n",
            " '250.91' 'E884' '515' '307' '704' '728' '731' '583' '238' '441' '293'\n",
            " '573' '532' '290' '594' '319' '250.13' '250.12' '519' '346' '380' '135'\n",
            " '642' '698' '924' '905' 'E933' '555' '309' 'E879' '286' '565' '752' '580'\n",
            " '446' '444' '344' '252' '35' '813' '394' '301' '575' '258' 'V17' '802'\n",
            " '435' '746' 'V12' '709' '881' 'E935' '139' '250.81' '718' '365' '202'\n",
            " '334' '185' '398' 'V44' '517' 'E849' '614' '466' '626' '250.9' '368'\n",
            " '605' '883' '289' '478' '617' '429' '442' 'V25' '866' '610' '557' '959'\n",
            " 'E942' '94' '920' '345' '313' '379' '79' '516' '586' '821' '600' '242'\n",
            " '373' '592' 'V64' '487' '253' '706' 'E947' '117' '340' 'E950' '656'\n",
            " 'E949' '590' 'V09' '250.22' '934' '694' '203' '250.93' '995' '726' '923'\n",
            " '958' '275' 'E929' '211' 'V18' 'V66' '199' '665' '53' '279' '522' '791'\n",
            " '890' '456' 'E938' 'E816' '122' '721' 'V65' '136' '480' '423' 'E920'\n",
            " '793' '647' '537' '351' '845' '336' '274' '719' '945' '434' '494' '227'\n",
            " '157' '208' '174' 'V57' '812' '734' '150' 'V23' '447' '692' '228' 'V16'\n",
            " '756' '405' 'E928' '823' '552' '528' '389' '240' '454' '792' '366' 'E939'\n",
            " '907' '270' '310' '266' '387' 'E931' '783' '245' '607' '355' 'E930' '705'\n",
            " '372' '369' '611' '283' 'V46' '110' '867' 'E956' '251' '250.2' '820'\n",
            " '712' '695' '567' '343' '723' 'V08' '273' '623' '807' '451' '495' '701'\n",
            " '34' 'V53' '314' '472' 'E945' '11' '189' '534' '354' '333' 'V54' '277'\n",
            " '659' '708' '452' '655' '816' '670' '621' '246' '953' '865' 'E817' '646'\n",
            " '151' '378' '78' '298' '840' '641' '521' '745' '619' '912' '506' 'E904'\n",
            " '259' 'E870' 'E980' '383' '204' '696' '566' '727' '47' 'E943' '358' '191'\n",
            " '965' '921' '432' '27' 'E861' '758' '477' '524' '751' '652' '556' '188'\n",
            " '825' '919' '732' '908' '951' '962' '685' 'E850' 'E944' '527' '341' '693'\n",
            " '250.1' 'V49' '860' '323' 'V55' '579' '508' '969' '205' '462' 'E880'\n",
            " '680' '697' '826' '200' '457' '717' '738' '742' '735' '235' '308' '725'\n",
            " '241' '824' '464' '260' '917' '239' '661' '892' '261' 'E883' '943' '744'\n",
            " 'E936' '796' '318' '967' '350' '854' 'E905' '9' '741' 'E941' '170' '643'\n",
            " '317' '759' '909' 'V22' '831' '713' '180' '801' '360' '359' '501' '335'\n",
            " '250.11' '306' '811' '690' 'V02' '271' '214' '847' '543' 'V63' '906'\n",
            " '842' '686' '445' '808' '861' 'E852' '220' 'E887' 'E858' '915' '970'\n",
            " '256' '747' '395' '243' '815' '481' '5' 'E927' '297' '299' '851' '864'\n",
            " '922' '384' 'E876' '225' '158' 'E937' '871' '88' '966' 'E917' 'E812'\n",
            " 'V62' 'E924' '604' '233' 'E916' '377' '797' 'V72' '172' '7' '421' '852'\n",
            " 'E819' '972' '916' '956' '3' 'E965' '173' '193' '154' '347' '862' '250.3'\n",
            " '987' '470' '262' 'E855' '161' '115' '179' '910' '312' '17' '460' '265'\n",
            " '66' '163' 'V60' '870' 'E906' '514' '944' '844' '417' '152' '183' '991'\n",
            " '216' '385' '164' '935' '510' '814' '485' '850' '250.21' 'E919' '872'\n",
            " '195' '431' '597' '933' '171' '884' '156' '868' '483' 'E815' '542' 'V61'\n",
            " '853' '374' 'E881' 'E882' 'E822' '192' '754' '327' '523' '500' 'V85'\n",
            " '992' '657' '684' '603' 'E826' '550' '913' '376' '755' '361' '186' '720'\n",
            " '250.31' '674' '911' 'E813' '226' '365.44' 'E818' '146' '955' 'E894'\n",
            " '475' 'V13' '880' '930' 'E915' '381' '132' '353' '795' '893' 'V01' 'E853'\n",
            " '863' '540' 'E828' '430' '800' 'E865' '148' 'E946' '822' '879' '848'\n",
            " 'V86' 'V03' '338' '989' '388' 'E966' '111' 'E922' '123' '757' 'E901'\n",
            " '141' '268' 'E892' '649' '702' '948' '223' '484' 'E886' '838' '928' '236'\n",
            " '624' '837' 'E987' 'V07' '841' '622' 'E912' 'E955' '463' 'V06' 'E864'\n",
            " '217' '877' '391' 'E825' '952' '669' '875' 'E900' '215' '538' '980' '834'\n",
            " '448' '175' '49' '876' '230' '57' 'E854' '942' '14' '750' '370' '671'\n",
            " '971'] \n",
            "\n",
            "Number of null values: 1423 \n",
            "\n",
            "\n",
            "================================================\n",
            "\u001b[1mchange\u001b[0m\n",
            "Number of unique values: 2 \n",
            "\n",
            "Unique Values: ['No' 'Ch'] \n",
            "\n",
            "Number of null values: 0 \n",
            "\n",
            "\n",
            "================================================\n",
            "\u001b[1mdiabetesMed\u001b[0m\n",
            "Number of unique values: 2 \n",
            "\n",
            "Unique Values: ['No' 'Yes'] \n",
            "\n",
            "Number of null values: 0 \n",
            "\n",
            "\n",
            "================================================\n",
            "\u001b[1mreadmitted\u001b[0m\n",
            "Number of unique values: 3 \n",
            "\n",
            "Unique Values: ['NO' '>30' '<30'] \n",
            "\n",
            "Number of null values: 0 \n",
            "\n",
            "\n",
            "================================================\n",
            "\u001b[1madmission_type_desc\u001b[0m\n",
            "Number of unique values: 7 \n",
            "\n",
            "Unique Values: [nan 'Emergency' 'Urgent' 'Elective' 'Newborn' 'Not Available'\n",
            " 'Not Mapped' 'Trauma Center'] \n",
            "\n",
            "Number of null values: 5291 \n",
            "\n",
            "\n",
            "================================================\n",
            "\u001b[1mdischarge_desc\u001b[0m\n",
            "Number of unique values: 25 \n",
            "\n",
            "Unique Values: ['Not Mapped' 'Discharged to home' 'Discharged/transferred to SNF'\n",
            " 'Discharged/transferred to home with home health service'\n",
            " 'Discharged/transferred to another short term hospital'\n",
            " 'Discharged/transferred to another type of inpatient care institution'\n",
            " 'Expired' 'Left AMA'\n",
            " 'Neonate discharged to another hospital for neonatal aftercare'\n",
            " 'Discharged/transferred to ICF' 'Hospice / medical facility' nan\n",
            " 'Discharged/transferred to home under care of Home IV provider'\n",
            " 'Hospice / home'\n",
            " 'Still patient or expected to return for outpatient services'\n",
            " 'Discharged/transferred/referred another institution for outpatient services'\n",
            " 'Discharged/transferred/referred to this institution for outpatient services'\n",
            " 'Discharged/transferred to another rehab fac including rehab units of a hospital .'\n",
            " 'Discharged/transferred to a long term care hospital.'\n",
            " 'Admitted as an inpatient to this hospital'\n",
            " 'Expired in a medical facility. Medicaid only, hospice.'\n",
            " 'Discharged/transferred within this institution to Medicare approved swing bed'\n",
            " 'Discharged/transferred to a nursing facility certified under Medicaid but not certified under Medicare.'\n",
            " 'Discharged/transferred/referred to a psychiatric hospital of psychiatric distinct part unit of a hospital'\n",
            " 'Expired at home. Medicaid only, hospice.'\n",
            " 'Discharged/transferred to a federal health care facility.'] \n",
            "\n",
            "Number of null values: 3691 \n",
            "\n",
            "\n",
            "================================================\n",
            "\u001b[1madmission_source_desc\u001b[0m\n",
            "Number of unique values: 16 \n",
            "\n",
            "Unique Values: [' Physician Referral' ' Emergency Room' 'Clinic Referral'\n",
            " 'Transfer from a hospital'\n",
            " ' Transfer from a Skilled Nursing Facility (SNF)'\n",
            " ' Transfer from another health care facility' ' Not Mapped'\n",
            " 'HMO Referral' nan ' Court/Law Enforcement' ' Not Available'\n",
            " ' Extramural Birth' ' Transfer from critial access hospital'\n",
            " ' Transfer from hospital inpt/same fac reslt in a sep claim'\n",
            " 'Normal Delivery' ' Transfer from Ambulatory Surgery Center' ' Sick Baby'] \n",
            "\n",
            "Number of null values: 6781 \n",
            "\n",
            "\n"
          ]
        }
      ]
    },
    {
      "cell_type": "markdown",
      "source": [
        "Let us pick these up one by one."
      ],
      "metadata": {
        "id": "y7T7i1n7yPks"
      },
      "id": "y7T7i1n7yPks"
    },
    {
      "cell_type": "markdown",
      "source": [
        "`race`"
      ],
      "metadata": {
        "id": "z2b_Kl8EyPeq"
      },
      "id": "z2b_Kl8EyPeq"
    },
    {
      "cell_type": "markdown",
      "source": [
        "Imputing all null values with the value 'Unknown'"
      ],
      "metadata": {
        "id": "qIvVt0DnycxL"
      },
      "id": "qIvVt0DnycxL"
    },
    {
      "cell_type": "code",
      "source": [
        "print(df['race'].isnull().sum())"
      ],
      "metadata": {
        "colab": {
          "base_uri": "https://localhost:8080/"
        },
        "id": "BR_m7dWCiYQ1",
        "outputId": "25009a14-711e-48aa-969d-bc3aad666761"
      },
      "id": "BR_m7dWCiYQ1",
      "execution_count": 969,
      "outputs": [
        {
          "output_type": "stream",
          "name": "stdout",
          "text": [
            "2273\n"
          ]
        }
      ]
    },
    {
      "cell_type": "code",
      "source": [
        "df['race'] = df['race'].fillna('Unknown')\n",
        "# Doing the same on the dummy dataframe for consistency purpose\n",
        "non_drug_df['race'] = non_drug_df['race'].fillna('Unknown')"
      ],
      "metadata": {
        "colab": {
          "base_uri": "https://localhost:8080/"
        },
        "id": "K726zDAayUY_",
        "outputId": "b21a4791-df69-4e03-befe-4677dd18c2aa"
      },
      "id": "K726zDAayUY_",
      "execution_count": 970,
      "outputs": [
        {
          "output_type": "stream",
          "name": "stderr",
          "text": [
            "/tmp/ipython-input-2112190087.py:3: SettingWithCopyWarning: \n",
            "A value is trying to be set on a copy of a slice from a DataFrame.\n",
            "Try using .loc[row_indexer,col_indexer] = value instead\n",
            "\n",
            "See the caveats in the documentation: https://pandas.pydata.org/pandas-docs/stable/user_guide/indexing.html#returning-a-view-versus-a-copy\n",
            "  non_drug_df['race'] = non_drug_df['race'].fillna('Unknown')\n"
          ]
        }
      ]
    },
    {
      "cell_type": "code",
      "source": [
        "print(df['race'].isnull().sum())"
      ],
      "metadata": {
        "colab": {
          "base_uri": "https://localhost:8080/"
        },
        "id": "4fgIxRQhidPd",
        "outputId": "955c190e-1824-42ae-beed-07e1bde91903"
      },
      "id": "4fgIxRQhidPd",
      "execution_count": 971,
      "outputs": [
        {
          "output_type": "stream",
          "name": "stdout",
          "text": [
            "0\n"
          ]
        }
      ]
    },
    {
      "cell_type": "code",
      "source": [
        "df['race'].unique()"
      ],
      "metadata": {
        "colab": {
          "base_uri": "https://localhost:8080/"
        },
        "id": "9eqcaTY-y3LX",
        "outputId": "f753904d-a5dc-4e17-efea-109354601e36"
      },
      "id": "9eqcaTY-y3LX",
      "execution_count": 972,
      "outputs": [
        {
          "output_type": "execute_result",
          "data": {
            "text/plain": [
              "array(['Caucasian', 'AfricanAmerican', 'Unknown', 'Other', 'Asian',\n",
              "       'Hispanic'], dtype=object)"
            ]
          },
          "metadata": {},
          "execution_count": 972
        }
      ]
    },
    {
      "cell_type": "markdown",
      "source": [
        "`gender`"
      ],
      "metadata": {
        "id": "wdLVhIz6yPXz"
      },
      "id": "wdLVhIz6yPXz"
    },
    {
      "cell_type": "code",
      "source": [
        "non_drug_df['gender'].value_counts()"
      ],
      "metadata": {
        "colab": {
          "base_uri": "https://localhost:8080/",
          "height": 209
        },
        "id": "OcE7g04dQGRa",
        "outputId": "1c82c6d3-8e23-45fa-fea8-7441520a9fb1"
      },
      "id": "OcE7g04dQGRa",
      "execution_count": 973,
      "outputs": [
        {
          "output_type": "execute_result",
          "data": {
            "text/plain": [
              "gender\n",
              "Female             54708\n",
              "Male               47055\n",
              "Unknown/Invalid        3\n",
              "Name: count, dtype: int64"
            ],
            "text/html": [
              "<div>\n",
              "<style scoped>\n",
              "    .dataframe tbody tr th:only-of-type {\n",
              "        vertical-align: middle;\n",
              "    }\n",
              "\n",
              "    .dataframe tbody tr th {\n",
              "        vertical-align: top;\n",
              "    }\n",
              "\n",
              "    .dataframe thead th {\n",
              "        text-align: right;\n",
              "    }\n",
              "</style>\n",
              "<table border=\"1\" class=\"dataframe\">\n",
              "  <thead>\n",
              "    <tr style=\"text-align: right;\">\n",
              "      <th></th>\n",
              "      <th>count</th>\n",
              "    </tr>\n",
              "    <tr>\n",
              "      <th>gender</th>\n",
              "      <th></th>\n",
              "    </tr>\n",
              "  </thead>\n",
              "  <tbody>\n",
              "    <tr>\n",
              "      <th>Female</th>\n",
              "      <td>54708</td>\n",
              "    </tr>\n",
              "    <tr>\n",
              "      <th>Male</th>\n",
              "      <td>47055</td>\n",
              "    </tr>\n",
              "    <tr>\n",
              "      <th>Unknown/Invalid</th>\n",
              "      <td>3</td>\n",
              "    </tr>\n",
              "  </tbody>\n",
              "</table>\n",
              "</div><br><label><b>dtype:</b> int64</label>"
            ]
          },
          "metadata": {},
          "execution_count": 973
        }
      ]
    },
    {
      "cell_type": "markdown",
      "source": [
        "In 2025, it is iniquitous to disregard non-binary genders. However, since the dataset contains only 3 rows with 'Unknown/Invalid' - as compared to 101,763 rows with Female/Male - we would not be able to derive any meaningful analysis from keeping these rows. Hence, we drop these rows."
      ],
      "metadata": {
        "id": "jZB40vzdyPS8"
      },
      "id": "jZB40vzdyPS8"
    },
    {
      "cell_type": "code",
      "source": [
        "df = df.drop(df[df['gender'] == 'Unknown/Invalid'].index)\n",
        "# Doing the same on the dummy dataframe for consistency purpose\n",
        "non_drug_df = non_drug_df.drop(non_drug_df[non_drug_df['gender'] == 'Unknown/Invalid'].index)"
      ],
      "metadata": {
        "id": "oPb3lb8lQGKc"
      },
      "id": "oPb3lb8lQGKc",
      "execution_count": 974,
      "outputs": []
    },
    {
      "cell_type": "code",
      "source": [
        "df['gender'].value_counts()"
      ],
      "metadata": {
        "colab": {
          "base_uri": "https://localhost:8080/",
          "height": 178
        },
        "id": "BI9Hi6GW1r8S",
        "outputId": "0ca992b6-5f0d-4706-a4fc-832c48ed79cb"
      },
      "id": "BI9Hi6GW1r8S",
      "execution_count": 975,
      "outputs": [
        {
          "output_type": "execute_result",
          "data": {
            "text/plain": [
              "gender\n",
              "Female    54708\n",
              "Male      47055\n",
              "Name: count, dtype: int64"
            ],
            "text/html": [
              "<div>\n",
              "<style scoped>\n",
              "    .dataframe tbody tr th:only-of-type {\n",
              "        vertical-align: middle;\n",
              "    }\n",
              "\n",
              "    .dataframe tbody tr th {\n",
              "        vertical-align: top;\n",
              "    }\n",
              "\n",
              "    .dataframe thead th {\n",
              "        text-align: right;\n",
              "    }\n",
              "</style>\n",
              "<table border=\"1\" class=\"dataframe\">\n",
              "  <thead>\n",
              "    <tr style=\"text-align: right;\">\n",
              "      <th></th>\n",
              "      <th>count</th>\n",
              "    </tr>\n",
              "    <tr>\n",
              "      <th>gender</th>\n",
              "      <th></th>\n",
              "    </tr>\n",
              "  </thead>\n",
              "  <tbody>\n",
              "    <tr>\n",
              "      <th>Female</th>\n",
              "      <td>54708</td>\n",
              "    </tr>\n",
              "    <tr>\n",
              "      <th>Male</th>\n",
              "      <td>47055</td>\n",
              "    </tr>\n",
              "  </tbody>\n",
              "</table>\n",
              "</div><br><label><b>dtype:</b> int64</label>"
            ]
          },
          "metadata": {},
          "execution_count": 975
        }
      ]
    },
    {
      "cell_type": "code",
      "source": [
        "df.shape"
      ],
      "metadata": {
        "colab": {
          "base_uri": "https://localhost:8080/"
        },
        "id": "S7VPtawfVrrm",
        "outputId": "d201029d-8f6d-4b23-8da0-555deb928471"
      },
      "id": "S7VPtawfVrrm",
      "execution_count": 976,
      "outputs": [
        {
          "output_type": "execute_result",
          "data": {
            "text/plain": [
              "(101763, 46)"
            ]
          },
          "metadata": {},
          "execution_count": 976
        }
      ]
    },
    {
      "cell_type": "markdown",
      "source": [
        "`age`"
      ],
      "metadata": {
        "id": "TTOUDS5C2CRA"
      },
      "id": "TTOUDS5C2CRA"
    },
    {
      "cell_type": "code",
      "source": [
        "non_drug_df['age'].value_counts()"
      ],
      "metadata": {
        "colab": {
          "base_uri": "https://localhost:8080/",
          "height": 429
        },
        "id": "xn4GRpv_1ysO",
        "outputId": "fed63b38-0b9c-4a48-e112-30480817ca1e"
      },
      "id": "xn4GRpv_1ysO",
      "execution_count": 977,
      "outputs": [
        {
          "output_type": "execute_result",
          "data": {
            "text/plain": [
              "age\n",
              "[70-80)     26066\n",
              "[60-70)     22482\n",
              "[50-60)     17256\n",
              "[80-90)     17197\n",
              "[40-50)      9685\n",
              "[30-40)      3775\n",
              "[90-100)     2793\n",
              "[20-30)      1657\n",
              "[10-20)       691\n",
              "[0-10)        161\n",
              "Name: count, dtype: int64"
            ],
            "text/html": [
              "<div>\n",
              "<style scoped>\n",
              "    .dataframe tbody tr th:only-of-type {\n",
              "        vertical-align: middle;\n",
              "    }\n",
              "\n",
              "    .dataframe tbody tr th {\n",
              "        vertical-align: top;\n",
              "    }\n",
              "\n",
              "    .dataframe thead th {\n",
              "        text-align: right;\n",
              "    }\n",
              "</style>\n",
              "<table border=\"1\" class=\"dataframe\">\n",
              "  <thead>\n",
              "    <tr style=\"text-align: right;\">\n",
              "      <th></th>\n",
              "      <th>count</th>\n",
              "    </tr>\n",
              "    <tr>\n",
              "      <th>age</th>\n",
              "      <th></th>\n",
              "    </tr>\n",
              "  </thead>\n",
              "  <tbody>\n",
              "    <tr>\n",
              "      <th>[70-80)</th>\n",
              "      <td>26066</td>\n",
              "    </tr>\n",
              "    <tr>\n",
              "      <th>[60-70)</th>\n",
              "      <td>22482</td>\n",
              "    </tr>\n",
              "    <tr>\n",
              "      <th>[50-60)</th>\n",
              "      <td>17256</td>\n",
              "    </tr>\n",
              "    <tr>\n",
              "      <th>[80-90)</th>\n",
              "      <td>17197</td>\n",
              "    </tr>\n",
              "    <tr>\n",
              "      <th>[40-50)</th>\n",
              "      <td>9685</td>\n",
              "    </tr>\n",
              "    <tr>\n",
              "      <th>[30-40)</th>\n",
              "      <td>3775</td>\n",
              "    </tr>\n",
              "    <tr>\n",
              "      <th>[90-100)</th>\n",
              "      <td>2793</td>\n",
              "    </tr>\n",
              "    <tr>\n",
              "      <th>[20-30)</th>\n",
              "      <td>1657</td>\n",
              "    </tr>\n",
              "    <tr>\n",
              "      <th>[10-20)</th>\n",
              "      <td>691</td>\n",
              "    </tr>\n",
              "    <tr>\n",
              "      <th>[0-10)</th>\n",
              "      <td>161</td>\n",
              "    </tr>\n",
              "  </tbody>\n",
              "</table>\n",
              "</div><br><label><b>dtype:</b> int64</label>"
            ]
          },
          "metadata": {},
          "execution_count": 977
        }
      ]
    },
    {
      "cell_type": "markdown",
      "source": [
        "Seems fine, so keeping it as is."
      ],
      "metadata": {
        "id": "5N6EveKa2HZ6"
      },
      "id": "5N6EveKa2HZ6"
    },
    {
      "cell_type": "markdown",
      "source": [
        "`medical_specialty`"
      ],
      "metadata": {
        "id": "q_EQZyfS2Rla"
      },
      "id": "q_EQZyfS2Rla"
    },
    {
      "cell_type": "code",
      "source": [
        "non_drug_df['medical_specialty'].value_counts()"
      ],
      "metadata": {
        "colab": {
          "base_uri": "https://localhost:8080/",
          "height": 489
        },
        "id": "w1-azHsJ1ypq",
        "outputId": "60a12578-adc4-474c-be62-c948f966c9d1"
      },
      "id": "w1-azHsJ1ypq",
      "execution_count": 978,
      "outputs": [
        {
          "output_type": "execute_result",
          "data": {
            "text/plain": [
              "medical_specialty\n",
              "Unknown                   49947\n",
              "InternalMedicine          14635\n",
              "Emergency/Trauma           7565\n",
              "Family/GeneralPractice     7440\n",
              "Cardiology                 5351\n",
              "                          ...  \n",
              "Proctology                    1\n",
              "Speech                        1\n",
              "SportsMedicine                1\n",
              "Perinatology                  1\n",
              "Neurophysiology               1\n",
              "Name: count, Length: 73, dtype: int64"
            ],
            "text/html": [
              "<div>\n",
              "<style scoped>\n",
              "    .dataframe tbody tr th:only-of-type {\n",
              "        vertical-align: middle;\n",
              "    }\n",
              "\n",
              "    .dataframe tbody tr th {\n",
              "        vertical-align: top;\n",
              "    }\n",
              "\n",
              "    .dataframe thead th {\n",
              "        text-align: right;\n",
              "    }\n",
              "</style>\n",
              "<table border=\"1\" class=\"dataframe\">\n",
              "  <thead>\n",
              "    <tr style=\"text-align: right;\">\n",
              "      <th></th>\n",
              "      <th>count</th>\n",
              "    </tr>\n",
              "    <tr>\n",
              "      <th>medical_specialty</th>\n",
              "      <th></th>\n",
              "    </tr>\n",
              "  </thead>\n",
              "  <tbody>\n",
              "    <tr>\n",
              "      <th>Unknown</th>\n",
              "      <td>49947</td>\n",
              "    </tr>\n",
              "    <tr>\n",
              "      <th>InternalMedicine</th>\n",
              "      <td>14635</td>\n",
              "    </tr>\n",
              "    <tr>\n",
              "      <th>Emergency/Trauma</th>\n",
              "      <td>7565</td>\n",
              "    </tr>\n",
              "    <tr>\n",
              "      <th>Family/GeneralPractice</th>\n",
              "      <td>7440</td>\n",
              "    </tr>\n",
              "    <tr>\n",
              "      <th>Cardiology</th>\n",
              "      <td>5351</td>\n",
              "    </tr>\n",
              "    <tr>\n",
              "      <th>...</th>\n",
              "      <td>...</td>\n",
              "    </tr>\n",
              "    <tr>\n",
              "      <th>Proctology</th>\n",
              "      <td>1</td>\n",
              "    </tr>\n",
              "    <tr>\n",
              "      <th>Speech</th>\n",
              "      <td>1</td>\n",
              "    </tr>\n",
              "    <tr>\n",
              "      <th>SportsMedicine</th>\n",
              "      <td>1</td>\n",
              "    </tr>\n",
              "    <tr>\n",
              "      <th>Perinatology</th>\n",
              "      <td>1</td>\n",
              "    </tr>\n",
              "    <tr>\n",
              "      <th>Neurophysiology</th>\n",
              "      <td>1</td>\n",
              "    </tr>\n",
              "  </tbody>\n",
              "</table>\n",
              "<p>73 rows × 1 columns</p>\n",
              "</div><br><label><b>dtype:</b> int64</label>"
            ]
          },
          "metadata": {},
          "execution_count": 978
        }
      ]
    },
    {
      "cell_type": "markdown",
      "source": [
        "Seems fine for now, so keeping it as is."
      ],
      "metadata": {
        "id": "CY_7xHeY3KcV"
      },
      "id": "CY_7xHeY3KcV"
    },
    {
      "cell_type": "markdown",
      "source": [
        "`diag_1`, `diag_2`, `diag_3`"
      ],
      "metadata": {
        "id": "tsk3rlJqWucv"
      },
      "id": "tsk3rlJqWucv"
    },
    {
      "cell_type": "markdown",
      "source": [
        "These three columns are the primary, secondary and additional secondary diagnosis respectively, coded as first three digits of ICD9.\n",
        "\n",
        "Let us transform them into their equivalent categories."
      ],
      "metadata": {
        "id": "Lt-tXQzvW84O"
      },
      "id": "Lt-tXQzvW84O"
    },
    {
      "cell_type": "markdown",
      "source": [
        "Source: Wikipedia\n",
        "\n",
        "The following is a list of codes for International Statistical Classification of Diseases and Related Health Problems.\n",
        "\n",
        "\n",
        "\n",
        "*   List of ICD-9 codes 001-139: infectious and parasitic diseases\n",
        "*   List of ICD-9 codes 140-239: neoplasms\n",
        "*   List of ICD-9 codes 240-279: endocrine, nutritional and metabolic diseases, and immunity disorders\n",
        "*   List of ICD-9 codes 280-289: diseases of the blood and blood-forming organs\n",
        "*   List of ICD-9 codes 290-319: mental disorders\n",
        "*   List of ICD-9 codes 320-389: diseases of the nervous system and sense organs\n",
        "*   List of ICD-9 codes 390-459: diseases of the circulatory system\n",
        "*   List of ICD-9 codes 460-519: diseases of the respiratory system\n",
        "*   List of ICD-9 codes 520-579: diseases of the digestive system\n",
        "*   List of ICD-9 codes 580-629: diseases of the genitourinary system\n",
        "*   List of ICD-9 codes 630-679: complications of pregnancy, childbirth, and the puerperium\n",
        "*   List of ICD-9 codes 680-709: diseases of the skin and subcutaneous tissue\n",
        "*   List of ICD-9 codes 710-739: diseases of the musculoskeletal system and connective tissue\n",
        "*   List of ICD-9 codes 740-759: congenital anomalies\n",
        "*   List of ICD-9 codes 760-779: certain conditions originating in the perinatal period\n",
        "*   List of ICD-9 codes 780-799: symptoms, signs, and ill-defined conditions\n",
        "*   List of ICD-9 codes 800-999: injury and poisoning\n",
        "*   List of ICD-9 codes E and V codes: external causes of injury and supplemental classification"
      ],
      "metadata": {
        "id": "bbQ2OcacWJu2"
      },
      "id": "bbQ2OcacWJu2"
    },
    {
      "cell_type": "markdown",
      "source": [
        "Firstly, let us impute the missing values with '-1'."
      ],
      "metadata": {
        "id": "6l057rzcYiRo"
      },
      "id": "6l057rzcYiRo"
    },
    {
      "cell_type": "code",
      "source": [
        "for col in ['diag_1', 'diag_2', 'diag_3']:\n",
        "  print(col,non_drug_df[col].isnull().sum())"
      ],
      "metadata": {
        "colab": {
          "base_uri": "https://localhost:8080/"
        },
        "id": "8iXHdprtY953",
        "outputId": "71412b54-26b5-44cb-db7a-14da286396d0"
      },
      "id": "8iXHdprtY953",
      "execution_count": 979,
      "outputs": [
        {
          "output_type": "stream",
          "name": "stdout",
          "text": [
            "diag_1 21\n",
            "diag_2 358\n",
            "diag_3 1423\n"
          ]
        }
      ]
    },
    {
      "cell_type": "code",
      "source": [
        "for col in ['diag_1', 'diag_2', 'diag_3']:\n",
        "    df[col] = df[col].fillna('-1')\n",
        "    # Doing the same on the dummy dataframe for consistency purpose\n",
        "    non_drug_df[col] = non_drug_df[col].fillna('-1')"
      ],
      "metadata": {
        "id": "8DNfQNsn1ynT"
      },
      "id": "8DNfQNsn1ynT",
      "execution_count": 980,
      "outputs": []
    },
    {
      "cell_type": "code",
      "source": [
        "for col in ['diag_1', 'diag_2', 'diag_3']:\n",
        "  print(col,df[col].isnull().sum())"
      ],
      "metadata": {
        "colab": {
          "base_uri": "https://localhost:8080/"
        },
        "id": "ZNAgJ_1gWrrH",
        "outputId": "42c38b4e-caf4-4684-cb12-5805ac8e63dc"
      },
      "id": "ZNAgJ_1gWrrH",
      "execution_count": 981,
      "outputs": [
        {
          "output_type": "stream",
          "name": "stdout",
          "text": [
            "diag_1 0\n",
            "diag_2 0\n",
            "diag_3 0\n"
          ]
        }
      ]
    },
    {
      "cell_type": "markdown",
      "source": [
        "Now, let us transform the numbers into categories, based on the ICD-9 Code."
      ],
      "metadata": {
        "id": "FqBCHnnxZTRI"
      },
      "id": "FqBCHnnxZTRI"
    },
    {
      "cell_type": "code",
      "source": [
        "def transform_diag(icd9_code):\n",
        "    if icd9_code.lower().startswith(('e', 'v')):\n",
        "        category = 'External Causes of Injury'\n",
        "        return category\n",
        "    else:\n",
        "        value = float(icd9_code)\n",
        "\n",
        "        if value>=1 and value<=139:\n",
        "            category = 'Infectious and Parasitic Diseases'\n",
        "        elif value>=140 and value<=239:\n",
        "            category = 'Neoplasms'\n",
        "        elif value>=240 and value<=279:\n",
        "            category = 'Endocrine, Nutritional and Metabolic Diseases, and Immunity Disorders'\n",
        "        elif value>=280 and value<=289:\n",
        "            category = 'Diseases of the Blood and Blood-Forming Organs'\n",
        "        elif value>=290 and value<=319:\n",
        "            category = 'Mental Disorders'\n",
        "        elif value>=320 and value<=389:\n",
        "            category = 'Diseases of Nervous System and Sense Organs'\n",
        "        elif value>=390 and value<=459:\n",
        "            category = 'Diseases of Circulatory System'\n",
        "        elif value>=460 and value<=519:\n",
        "            category = 'Diseases of Respiratory System'\n",
        "        elif value>=520 and value<=579:\n",
        "            category = 'Diseases of Digestive System'\n",
        "        elif value>=580 and value<=629:\n",
        "            category = 'Diseases of Genitourinary System'\n",
        "        elif value>=630 and value<=679:\n",
        "            category = 'Complications of Pregnancy, Childbirth, and Puerperium'\n",
        "        elif value>=680 and value<=709:\n",
        "            category = 'Diseases of Skin and Subcutaneous Tissue'\n",
        "        elif value>=710 and value<=739:\n",
        "            category = 'Diseases of Musculoskeletal System and Connective Tissue'\n",
        "        elif value>=740 and value<=759:\n",
        "            category = 'Congenital Anomalies'\n",
        "        elif value>=760 and value<=779:\n",
        "            category = 'Diseases of Perinatal Period'\n",
        "        elif value>=780 and value<=799:\n",
        "            category = 'Symptoms, Signs, and Ill-defined Conditions'\n",
        "        elif value>=800 and value<=999:\n",
        "            category = 'Injury and Poisoning'\n",
        "        elif value == -1:\n",
        "            category = 'Unknown'\n",
        "        else: #Should not enter this as we have covered all scenarios\n",
        "            category = 'Other'\n",
        "\n",
        "        return category"
      ],
      "metadata": {
        "id": "pKnO4yq61yki"
      },
      "id": "pKnO4yq61yki",
      "execution_count": 982,
      "outputs": []
    },
    {
      "cell_type": "code",
      "source": [
        "for col in ['diag_1', 'diag_2', 'diag_3']:\n",
        "  df[col] = df[col].apply(transform_diag)\n",
        "  # Doing the same on the dummy dataframe for consistency purpose\n",
        "  non_drug_df[col] = non_drug_df[col].apply(transform_diag)"
      ],
      "metadata": {
        "id": "Z3_EAyVC1yhq"
      },
      "id": "Z3_EAyVC1yhq",
      "execution_count": 983,
      "outputs": []
    },
    {
      "cell_type": "code",
      "source": [
        "for col in ['diag_1', 'diag_2', 'diag_3']:\n",
        "    print('================================================')\n",
        "    print('\\033[1m'+col+'\\033[0m')\n",
        "    print('Number of unique values:',df[col].nunique(),\"\\n\")\n",
        "    print('Unique Values:',df[col].unique(),\"\\n\")"
      ],
      "metadata": {
        "colab": {
          "base_uri": "https://localhost:8080/"
        },
        "id": "q6Z6wv1JeZ4d",
        "outputId": "929bcb8a-e942-4fdd-96fb-c6a4a39797d5"
      },
      "id": "q6Z6wv1JeZ4d",
      "execution_count": 984,
      "outputs": [
        {
          "output_type": "stream",
          "name": "stdout",
          "text": [
            "================================================\n",
            "\u001b[1mdiag_1\u001b[0m\n",
            "Number of unique values: 18 \n",
            "\n",
            "Unique Values: ['Endocrine, Nutritional and Metabolic Diseases, and Immunity Disorders'\n",
            " 'Complications of Pregnancy, Childbirth, and Puerperium'\n",
            " 'Infectious and Parasitic Diseases' 'Neoplasms'\n",
            " 'Diseases of Circulatory System' 'Diseases of Respiratory System'\n",
            " 'Injury and Poisoning' 'Diseases of Skin and Subcutaneous Tissue'\n",
            " 'Diseases of Musculoskeletal System and Connective Tissue'\n",
            " 'Diseases of Digestive System' 'External Causes of Injury'\n",
            " 'Symptoms, Signs, and Ill-defined Conditions'\n",
            " 'Diseases of Genitourinary System' 'Mental Disorders'\n",
            " 'Diseases of Nervous System and Sense Organs'\n",
            " 'Diseases of the Blood and Blood-Forming Organs' 'Unknown'\n",
            " 'Congenital Anomalies'] \n",
            "\n",
            "================================================\n",
            "\u001b[1mdiag_2\u001b[0m\n",
            "Number of unique values: 18 \n",
            "\n",
            "Unique Values: ['Unknown'\n",
            " 'Endocrine, Nutritional and Metabolic Diseases, and Immunity Disorders'\n",
            " 'Neoplasms' 'Diseases of Circulatory System'\n",
            " 'Diseases of Respiratory System'\n",
            " 'Diseases of the Blood and Blood-Forming Organs' 'Injury and Poisoning'\n",
            " 'Diseases of Musculoskeletal System and Connective Tissue'\n",
            " 'Diseases of Genitourinary System' 'Infectious and Parasitic Diseases'\n",
            " 'Diseases of Digestive System' 'Diseases of Skin and Subcutaneous Tissue'\n",
            " 'External Causes of Injury' 'Diseases of Nervous System and Sense Organs'\n",
            " 'Symptoms, Signs, and Ill-defined Conditions' 'Mental Disorders'\n",
            " 'Complications of Pregnancy, Childbirth, and Puerperium'\n",
            " 'Congenital Anomalies'] \n",
            "\n",
            "================================================\n",
            "\u001b[1mdiag_3\u001b[0m\n",
            "Number of unique values: 18 \n",
            "\n",
            "Unique Values: ['Unknown'\n",
            " 'Endocrine, Nutritional and Metabolic Diseases, and Immunity Disorders'\n",
            " 'External Causes of Injury' 'Diseases of Circulatory System'\n",
            " 'Infectious and Parasitic Diseases' 'Diseases of Respiratory System'\n",
            " 'Injury and Poisoning' 'Neoplasms' 'Diseases of Genitourinary System'\n",
            " 'Diseases of Musculoskeletal System and Connective Tissue'\n",
            " 'Symptoms, Signs, and Ill-defined Conditions'\n",
            " 'Diseases of Digestive System' 'Diseases of Skin and Subcutaneous Tissue'\n",
            " 'Mental Disorders' 'Congenital Anomalies'\n",
            " 'Diseases of Nervous System and Sense Organs'\n",
            " 'Complications of Pregnancy, Childbirth, and Puerperium'\n",
            " 'Diseases of the Blood and Blood-Forming Organs'] \n",
            "\n"
          ]
        }
      ]
    },
    {
      "cell_type": "markdown",
      "source": [
        "`change`"
      ],
      "metadata": {
        "id": "B5bU26lug-yt"
      },
      "id": "B5bU26lug-yt"
    },
    {
      "cell_type": "markdown",
      "source": [
        "This is already a categorical column with no null values, and two unique values ('No' and 'Ch'). So keeping as is."
      ],
      "metadata": {
        "id": "7UZcE-amhCRV"
      },
      "id": "7UZcE-amhCRV"
    },
    {
      "cell_type": "markdown",
      "source": [
        "`diabetesMed`"
      ],
      "metadata": {
        "id": "qpNdLEOthN69"
      },
      "id": "qpNdLEOthN69"
    },
    {
      "cell_type": "markdown",
      "source": [
        "This is already a categorical column with no null values, and two unique values ('No' and 'Yes'). So keeping as is."
      ],
      "metadata": {
        "id": "TcWvTLGshRws"
      },
      "id": "TcWvTLGshRws"
    },
    {
      "cell_type": "markdown",
      "source": [
        "`admission_type_desc`, `discharge_desc`, `admission_source_desc`"
      ],
      "metadata": {
        "id": "MBalOBu-hYZ1"
      },
      "id": "MBalOBu-hYZ1"
    },
    {
      "cell_type": "markdown",
      "source": [
        "These are already categorical columns.\n",
        "\n",
        "First, let us impute the null values."
      ],
      "metadata": {
        "id": "zbqyygHWhfAG"
      },
      "id": "zbqyygHWhfAG"
    },
    {
      "cell_type": "markdown",
      "source": [
        "Imputing all null values with the value 'Unknown'"
      ],
      "metadata": {
        "id": "icgfTNGVhucM"
      },
      "id": "icgfTNGVhucM"
    },
    {
      "cell_type": "code",
      "source": [
        "for col in ['admission_type_desc', 'discharge_desc', 'admission_source_desc']:\n",
        "  print(col,df[col].isnull().sum())"
      ],
      "metadata": {
        "colab": {
          "base_uri": "https://localhost:8080/"
        },
        "id": "FqjawDWKiQed",
        "outputId": "3c30c8c8-bbea-4d1b-f26e-06b8002ffa1b"
      },
      "id": "FqjawDWKiQed",
      "execution_count": 985,
      "outputs": [
        {
          "output_type": "stream",
          "name": "stdout",
          "text": [
            "admission_type_desc 5291\n",
            "discharge_desc 3691\n",
            "admission_source_desc 6781\n"
          ]
        }
      ]
    },
    {
      "cell_type": "code",
      "source": [
        "for col in ['admission_type_desc', 'discharge_desc', 'admission_source_desc']:\n",
        "  df[col] = df[col].fillna('Unknown')\n",
        "  # Doing the same on the dummy dataframe for consistency purpose\n",
        "  non_drug_df[col] = non_drug_df[col].fillna('Unknown')"
      ],
      "metadata": {
        "id": "eeSLzeTIhAIP"
      },
      "id": "eeSLzeTIhAIP",
      "execution_count": 986,
      "outputs": []
    },
    {
      "cell_type": "code",
      "source": [
        "for col in ['admission_type_desc', 'discharge_desc', 'admission_source_desc']:\n",
        "  print(col,df[col].isnull().sum())"
      ],
      "metadata": {
        "colab": {
          "base_uri": "https://localhost:8080/"
        },
        "id": "KSRLNv3PiHl-",
        "outputId": "77f75518-f3f1-408d-cc6b-45bb7d7d93fc"
      },
      "id": "KSRLNv3PiHl-",
      "execution_count": 987,
      "outputs": [
        {
          "output_type": "stream",
          "name": "stdout",
          "text": [
            "admission_type_desc 0\n",
            "discharge_desc 0\n",
            "admission_source_desc 0\n"
          ]
        }
      ]
    },
    {
      "cell_type": "markdown",
      "source": [
        "Let us look at the columns of `discharge_desc` again."
      ],
      "metadata": {
        "id": "wL0jQ9eum2wT"
      },
      "id": "wL0jQ9eum2wT"
    },
    {
      "cell_type": "code",
      "source": [
        "non_drug_df['discharge_desc'].unique()"
      ],
      "metadata": {
        "colab": {
          "base_uri": "https://localhost:8080/"
        },
        "id": "x9HrWopRitaN",
        "outputId": "23ead9c5-32f3-4e09-a3c3-33022b3cc0ea"
      },
      "id": "x9HrWopRitaN",
      "execution_count": 988,
      "outputs": [
        {
          "output_type": "execute_result",
          "data": {
            "text/plain": [
              "array(['Not Mapped', 'Discharged to home',\n",
              "       'Discharged/transferred to SNF',\n",
              "       'Discharged/transferred to home with home health service',\n",
              "       'Discharged/transferred to another short term hospital',\n",
              "       'Discharged/transferred to another type of inpatient care institution',\n",
              "       'Expired', 'Left AMA',\n",
              "       'Neonate discharged to another hospital for neonatal aftercare',\n",
              "       'Discharged/transferred to ICF', 'Hospice / medical facility',\n",
              "       'Unknown',\n",
              "       'Discharged/transferred to home under care of Home IV provider',\n",
              "       'Hospice / home',\n",
              "       'Still patient or expected to return for outpatient services',\n",
              "       'Discharged/transferred/referred another institution for outpatient services',\n",
              "       'Discharged/transferred/referred to this institution for outpatient services',\n",
              "       'Discharged/transferred to another rehab fac including rehab units of a hospital .',\n",
              "       'Discharged/transferred to a long term care hospital.',\n",
              "       'Admitted as an inpatient to this hospital',\n",
              "       'Expired in a medical facility. Medicaid only, hospice.',\n",
              "       'Discharged/transferred within this institution to Medicare approved swing bed',\n",
              "       'Discharged/transferred to a nursing facility certified under Medicaid but not certified under Medicare.',\n",
              "       'Discharged/transferred/referred to a psychiatric hospital of psychiatric distinct part unit of a hospital',\n",
              "       'Expired at home. Medicaid only, hospice.',\n",
              "       'Discharged/transferred to a federal health care facility.'],\n",
              "      dtype=object)"
            ]
          },
          "metadata": {},
          "execution_count": 988
        }
      ]
    },
    {
      "cell_type": "markdown",
      "source": [
        "We have a few columns where the patients have expired.\n",
        "\n",
        "Unfortunately, they have no scope of getting re-admitted, so we drop those records.  "
      ],
      "metadata": {
        "id": "UwdZ1FZyniZp"
      },
      "id": "UwdZ1FZyniZp"
    },
    {
      "cell_type": "code",
      "source": [
        "df = df.drop(df[df['discharge_desc'].str.contains('Expired', case=False)].index)\n",
        "# Doing the same on the dummy dataframe for consistency purpose\n",
        "non_drug_df = non_drug_df.drop(non_drug_df[non_drug_df['discharge_desc'].str.contains('Expired', case=False)].index)"
      ],
      "metadata": {
        "id": "KQ5wiOTin3MF"
      },
      "id": "KQ5wiOTin3MF",
      "execution_count": 989,
      "outputs": []
    },
    {
      "cell_type": "code",
      "source": [
        "df.shape"
      ],
      "metadata": {
        "colab": {
          "base_uri": "https://localhost:8080/"
        },
        "id": "vW2peCdKo-mm",
        "outputId": "cf0cc4b2-ecf2-47f5-e3ee-233cf19e4ff9"
      },
      "id": "vW2peCdKo-mm",
      "execution_count": 990,
      "outputs": [
        {
          "output_type": "execute_result",
          "data": {
            "text/plain": [
              "(100111, 46)"
            ]
          },
          "metadata": {},
          "execution_count": 990
        }
      ]
    },
    {
      "cell_type": "markdown",
      "source": [
        "NOTE: Practically, even the patients who are advised Hospice care do not have a realistic chance at readmission.\n",
        "\n",
        "However, the humane side of me believes in mircales - so I am not dropping those patient records."
      ],
      "metadata": {
        "id": "GEoXuzpkpWn1"
      },
      "id": "GEoXuzpkpWn1"
    },
    {
      "cell_type": "markdown",
      "source": [
        "`readmitted`"
      ],
      "metadata": {
        "id": "T5p0OrTImS-c"
      },
      "id": "T5p0OrTImS-c"
    },
    {
      "cell_type": "markdown",
      "source": [
        "Finally, we come to our target variable - `readmitted`.\n",
        "\n",
        "This column is already categorial, with three unique values.\n",
        "\n",
        "However, to make things interesting, let us create another column `readmitted_binary` with just two values - 'Yes' and 'No'. We map '>30' and '<30' both to 'Yes'."
      ],
      "metadata": {
        "id": "mKVMehAIpua_"
      },
      "id": "mKVMehAIpua_"
    },
    {
      "cell_type": "code",
      "source": [
        "df['readmitted_binary'] = df['readmitted']\n",
        "df['readmitted_binary'] = df['readmitted_binary'].str.replace('>30', 'Yes')\n",
        "df['readmitted_binary'] = df['readmitted_binary'].str.replace('<30', 'Yes')\n",
        "df['readmitted_binary'] = df['readmitted_binary'].str.replace('NO', 'No')"
      ],
      "metadata": {
        "id": "jOAhOQbwivhs"
      },
      "id": "jOAhOQbwivhs",
      "execution_count": 991,
      "outputs": []
    },
    {
      "cell_type": "code",
      "source": [
        "df['readmitted_binary'].unique()"
      ],
      "metadata": {
        "colab": {
          "base_uri": "https://localhost:8080/"
        },
        "id": "SXXsCsc8ivc_",
        "outputId": "2190e13a-cf0b-43a6-f26c-e22b339ad134"
      },
      "id": "SXXsCsc8ivc_",
      "execution_count": 992,
      "outputs": [
        {
          "output_type": "execute_result",
          "data": {
            "text/plain": [
              "array(['No', 'Yes'], dtype=object)"
            ]
          },
          "metadata": {},
          "execution_count": 992
        }
      ]
    },
    {
      "cell_type": "code",
      "source": [
        "df.shape"
      ],
      "metadata": {
        "id": "MR9JoLsI1yey",
        "colab": {
          "base_uri": "https://localhost:8080/"
        },
        "outputId": "7c9e7303-2339-43ae-90e2-6f7159bee876"
      },
      "id": "MR9JoLsI1yey",
      "execution_count": 993,
      "outputs": [
        {
          "output_type": "execute_result",
          "data": {
            "text/plain": [
              "(100111, 47)"
            ]
          },
          "metadata": {},
          "execution_count": 993
        }
      ]
    },
    {
      "cell_type": "code",
      "source": [
        "df.info()"
      ],
      "metadata": {
        "colab": {
          "base_uri": "https://localhost:8080/"
        },
        "id": "Dz3hy55YrmAV",
        "outputId": "830004a3-b117-42b9-8389-feedd599f1aa"
      },
      "id": "Dz3hy55YrmAV",
      "execution_count": 994,
      "outputs": [
        {
          "output_type": "stream",
          "name": "stdout",
          "text": [
            "<class 'pandas.core.frame.DataFrame'>\n",
            "Index: 100111 entries, 0 to 101765\n",
            "Data columns (total 47 columns):\n",
            " #   Column                    Non-Null Count   Dtype \n",
            "---  ------                    --------------   ----- \n",
            " 0   patient_nbr               100111 non-null  int64 \n",
            " 1   race                      100111 non-null  object\n",
            " 2   gender                    100111 non-null  object\n",
            " 3   age                       100111 non-null  object\n",
            " 4   admission_type_id         100111 non-null  int64 \n",
            " 5   discharge_disposition_id  100111 non-null  int64 \n",
            " 6   admission_source_id       100111 non-null  int64 \n",
            " 7   time_in_hospital          100111 non-null  int64 \n",
            " 8   medical_specialty         100111 non-null  object\n",
            " 9   num_lab_procedures        100111 non-null  int64 \n",
            " 10  num_procedures            100111 non-null  int64 \n",
            " 11  num_medications           100111 non-null  int64 \n",
            " 12  number_outpatient         100111 non-null  int64 \n",
            " 13  number_emergency          100111 non-null  int64 \n",
            " 14  number_inpatient          100111 non-null  int64 \n",
            " 15  diag_1                    100111 non-null  object\n",
            " 16  diag_2                    100111 non-null  object\n",
            " 17  diag_3                    100111 non-null  object\n",
            " 18  number_diagnoses          100111 non-null  int64 \n",
            " 19  metformin                 100111 non-null  object\n",
            " 20  repaglinide               100111 non-null  object\n",
            " 21  nateglinide               100111 non-null  object\n",
            " 22  chlorpropamide            100111 non-null  object\n",
            " 23  glimepiride               100111 non-null  object\n",
            " 24  acetohexamide             100111 non-null  object\n",
            " 25  glipizide                 100111 non-null  object\n",
            " 26  glyburide                 100111 non-null  object\n",
            " 27  tolbutamide               100111 non-null  object\n",
            " 28  pioglitazone              100111 non-null  object\n",
            " 29  rosiglitazone             100111 non-null  object\n",
            " 30  acarbose                  100111 non-null  object\n",
            " 31  miglitol                  100111 non-null  object\n",
            " 32  troglitazone              100111 non-null  object\n",
            " 33  tolazamide                100111 non-null  object\n",
            " 34  insulin                   100111 non-null  object\n",
            " 35  glyburide-metformin       100111 non-null  object\n",
            " 36  glipizide-metformin       100111 non-null  object\n",
            " 37  glimepiride-pioglitazone  100111 non-null  object\n",
            " 38  metformin-rosiglitazone   100111 non-null  object\n",
            " 39  metformin-pioglitazone    100111 non-null  object\n",
            " 40  change                    100111 non-null  object\n",
            " 41  diabetesMed               100111 non-null  object\n",
            " 42  readmitted                100111 non-null  object\n",
            " 43  admission_type_desc       100111 non-null  object\n",
            " 44  discharge_desc            100111 non-null  object\n",
            " 45  admission_source_desc     100111 non-null  object\n",
            " 46  readmitted_binary         100111 non-null  object\n",
            "dtypes: int64(12), object(35)\n",
            "memory usage: 36.7+ MB\n"
          ]
        }
      ]
    },
    {
      "cell_type": "code",
      "source": [],
      "metadata": {
        "id": "oaEy3rbRrl-E"
      },
      "id": "oaEy3rbRrl-E",
      "execution_count": 898,
      "outputs": []
    },
    {
      "cell_type": "code",
      "source": [],
      "metadata": {
        "id": "1eeZfo-brl7t"
      },
      "id": "1eeZfo-brl7t",
      "execution_count": 898,
      "outputs": []
    },
    {
      "cell_type": "code",
      "source": [],
      "metadata": {
        "id": "xa9ZHgborl3N"
      },
      "id": "xa9ZHgborl3N",
      "execution_count": 898,
      "outputs": []
    },
    {
      "cell_type": "code",
      "source": [],
      "metadata": {
        "id": "wrZHF2pGrlzs"
      },
      "id": "wrZHF2pGrlzs",
      "execution_count": 898,
      "outputs": []
    },
    {
      "cell_type": "code",
      "source": [
        "for col in df.columns:\n",
        "    #print(col, df[col].duplicated().sum(), df[col].duplicated().sum()/(len(df)-1)*100)\n",
        "    # print number of unique values per column and sort them in ascending order\n",
        "    print(col, df[col].nunique())"
      ],
      "metadata": {
        "colab": {
          "base_uri": "https://localhost:8080/"
        },
        "id": "5HCmN4hUrMN3",
        "outputId": "5e3a354b-61b8-4c5d-ee2d-23d0997765db"
      },
      "id": "5HCmN4hUrMN3",
      "execution_count": 899,
      "outputs": [
        {
          "output_type": "stream",
          "name": "stdout",
          "text": [
            "patient_nbr 70436\n",
            "race 6\n",
            "gender 2\n",
            "age 10\n",
            "admission_type_id 8\n",
            "discharge_disposition_id 23\n",
            "admission_source_id 17\n",
            "time_in_hospital 14\n",
            "medical_specialty 73\n",
            "num_lab_procedures 118\n",
            "num_procedures 7\n",
            "num_medications 75\n",
            "number_outpatient 39\n",
            "number_emergency 33\n",
            "number_inpatient 21\n",
            "diag_1 18\n",
            "diag_2 18\n",
            "diag_3 18\n",
            "number_diagnoses 16\n",
            "metformin 4\n",
            "repaglinide 4\n",
            "nateglinide 4\n",
            "chlorpropamide 4\n",
            "glimepiride 4\n",
            "acetohexamide 2\n",
            "glipizide 4\n",
            "glyburide 4\n",
            "tolbutamide 2\n",
            "pioglitazone 4\n",
            "rosiglitazone 4\n",
            "acarbose 4\n",
            "miglitol 4\n",
            "troglitazone 2\n",
            "tolazamide 3\n",
            "insulin 4\n",
            "glyburide-metformin 4\n",
            "glipizide-metformin 2\n",
            "glimepiride-pioglitazone 2\n",
            "metformin-rosiglitazone 2\n",
            "metformin-pioglitazone 2\n",
            "change 2\n",
            "diabetesMed 2\n",
            "readmitted 3\n",
            "admission_type_desc 8\n",
            "discharge_desc 23\n",
            "admission_source_desc 17\n",
            "readmitted_binary 2\n"
          ]
        }
      ]
    },
    {
      "cell_type": "code",
      "source": [
        "# Dropping columns having same value across all rows\n",
        "df.drop(columns=['examide', 'citoglipton'], inplace=True)"
      ],
      "metadata": {
        "id": "O1byPpGTrMIs",
        "colab": {
          "base_uri": "https://localhost:8080/",
          "height": 304
        },
        "outputId": "a27b9397-84af-498a-cd86-f5a7fb1f2971"
      },
      "id": "O1byPpGTrMIs",
      "execution_count": 900,
      "outputs": [
        {
          "output_type": "error",
          "ename": "KeyError",
          "evalue": "\"['examide', 'citoglipton'] not found in axis\"",
          "traceback": [
            "\u001b[0;31m---------------------------------------------------------------------------\u001b[0m",
            "\u001b[0;31mKeyError\u001b[0m                                  Traceback (most recent call last)",
            "\u001b[0;32m/tmp/ipython-input-2481394338.py\u001b[0m in \u001b[0;36m<cell line: 0>\u001b[0;34m()\u001b[0m\n\u001b[1;32m      1\u001b[0m \u001b[0;31m# Dropping columns having same value across all rows\u001b[0m\u001b[0;34m\u001b[0m\u001b[0;34m\u001b[0m\u001b[0m\n\u001b[0;32m----> 2\u001b[0;31m \u001b[0mdf\u001b[0m\u001b[0;34m.\u001b[0m\u001b[0mdrop\u001b[0m\u001b[0;34m(\u001b[0m\u001b[0mcolumns\u001b[0m\u001b[0;34m=\u001b[0m\u001b[0;34m[\u001b[0m\u001b[0;34m'examide'\u001b[0m\u001b[0;34m,\u001b[0m \u001b[0;34m'citoglipton'\u001b[0m\u001b[0;34m]\u001b[0m\u001b[0;34m,\u001b[0m \u001b[0minplace\u001b[0m\u001b[0;34m=\u001b[0m\u001b[0;32mTrue\u001b[0m\u001b[0;34m)\u001b[0m\u001b[0;34m\u001b[0m\u001b[0;34m\u001b[0m\u001b[0m\n\u001b[0m",
            "\u001b[0;32m/usr/local/lib/python3.12/dist-packages/pandas/core/frame.py\u001b[0m in \u001b[0;36mdrop\u001b[0;34m(self, labels, axis, index, columns, level, inplace, errors)\u001b[0m\n\u001b[1;32m   5579\u001b[0m                 \u001b[0mweight\u001b[0m  \u001b[0;36m1.0\u001b[0m     \u001b[0;36m0.8\u001b[0m\u001b[0;34m\u001b[0m\u001b[0;34m\u001b[0m\u001b[0m\n\u001b[1;32m   5580\u001b[0m         \"\"\"\n\u001b[0;32m-> 5581\u001b[0;31m         return super().drop(\n\u001b[0m\u001b[1;32m   5582\u001b[0m             \u001b[0mlabels\u001b[0m\u001b[0;34m=\u001b[0m\u001b[0mlabels\u001b[0m\u001b[0;34m,\u001b[0m\u001b[0;34m\u001b[0m\u001b[0;34m\u001b[0m\u001b[0m\n\u001b[1;32m   5583\u001b[0m             \u001b[0maxis\u001b[0m\u001b[0;34m=\u001b[0m\u001b[0maxis\u001b[0m\u001b[0;34m,\u001b[0m\u001b[0;34m\u001b[0m\u001b[0;34m\u001b[0m\u001b[0m\n",
            "\u001b[0;32m/usr/local/lib/python3.12/dist-packages/pandas/core/generic.py\u001b[0m in \u001b[0;36mdrop\u001b[0;34m(self, labels, axis, index, columns, level, inplace, errors)\u001b[0m\n\u001b[1;32m   4786\u001b[0m         \u001b[0;32mfor\u001b[0m \u001b[0maxis\u001b[0m\u001b[0;34m,\u001b[0m \u001b[0mlabels\u001b[0m \u001b[0;32min\u001b[0m \u001b[0maxes\u001b[0m\u001b[0;34m.\u001b[0m\u001b[0mitems\u001b[0m\u001b[0;34m(\u001b[0m\u001b[0;34m)\u001b[0m\u001b[0;34m:\u001b[0m\u001b[0;34m\u001b[0m\u001b[0;34m\u001b[0m\u001b[0m\n\u001b[1;32m   4787\u001b[0m             \u001b[0;32mif\u001b[0m \u001b[0mlabels\u001b[0m \u001b[0;32mis\u001b[0m \u001b[0;32mnot\u001b[0m \u001b[0;32mNone\u001b[0m\u001b[0;34m:\u001b[0m\u001b[0;34m\u001b[0m\u001b[0;34m\u001b[0m\u001b[0m\n\u001b[0;32m-> 4788\u001b[0;31m                 \u001b[0mobj\u001b[0m \u001b[0;34m=\u001b[0m \u001b[0mobj\u001b[0m\u001b[0;34m.\u001b[0m\u001b[0m_drop_axis\u001b[0m\u001b[0;34m(\u001b[0m\u001b[0mlabels\u001b[0m\u001b[0;34m,\u001b[0m \u001b[0maxis\u001b[0m\u001b[0;34m,\u001b[0m \u001b[0mlevel\u001b[0m\u001b[0;34m=\u001b[0m\u001b[0mlevel\u001b[0m\u001b[0;34m,\u001b[0m \u001b[0merrors\u001b[0m\u001b[0;34m=\u001b[0m\u001b[0merrors\u001b[0m\u001b[0;34m)\u001b[0m\u001b[0;34m\u001b[0m\u001b[0;34m\u001b[0m\u001b[0m\n\u001b[0m\u001b[1;32m   4789\u001b[0m \u001b[0;34m\u001b[0m\u001b[0m\n\u001b[1;32m   4790\u001b[0m         \u001b[0;32mif\u001b[0m \u001b[0minplace\u001b[0m\u001b[0;34m:\u001b[0m\u001b[0;34m\u001b[0m\u001b[0;34m\u001b[0m\u001b[0m\n",
            "\u001b[0;32m/usr/local/lib/python3.12/dist-packages/pandas/core/generic.py\u001b[0m in \u001b[0;36m_drop_axis\u001b[0;34m(self, labels, axis, level, errors, only_slice)\u001b[0m\n\u001b[1;32m   4828\u001b[0m                 \u001b[0mnew_axis\u001b[0m \u001b[0;34m=\u001b[0m \u001b[0maxis\u001b[0m\u001b[0;34m.\u001b[0m\u001b[0mdrop\u001b[0m\u001b[0;34m(\u001b[0m\u001b[0mlabels\u001b[0m\u001b[0;34m,\u001b[0m \u001b[0mlevel\u001b[0m\u001b[0;34m=\u001b[0m\u001b[0mlevel\u001b[0m\u001b[0;34m,\u001b[0m \u001b[0merrors\u001b[0m\u001b[0;34m=\u001b[0m\u001b[0merrors\u001b[0m\u001b[0;34m)\u001b[0m\u001b[0;34m\u001b[0m\u001b[0;34m\u001b[0m\u001b[0m\n\u001b[1;32m   4829\u001b[0m             \u001b[0;32melse\u001b[0m\u001b[0;34m:\u001b[0m\u001b[0;34m\u001b[0m\u001b[0;34m\u001b[0m\u001b[0m\n\u001b[0;32m-> 4830\u001b[0;31m                 \u001b[0mnew_axis\u001b[0m \u001b[0;34m=\u001b[0m \u001b[0maxis\u001b[0m\u001b[0;34m.\u001b[0m\u001b[0mdrop\u001b[0m\u001b[0;34m(\u001b[0m\u001b[0mlabels\u001b[0m\u001b[0;34m,\u001b[0m \u001b[0merrors\u001b[0m\u001b[0;34m=\u001b[0m\u001b[0merrors\u001b[0m\u001b[0;34m)\u001b[0m\u001b[0;34m\u001b[0m\u001b[0;34m\u001b[0m\u001b[0m\n\u001b[0m\u001b[1;32m   4831\u001b[0m             \u001b[0mindexer\u001b[0m \u001b[0;34m=\u001b[0m \u001b[0maxis\u001b[0m\u001b[0;34m.\u001b[0m\u001b[0mget_indexer\u001b[0m\u001b[0;34m(\u001b[0m\u001b[0mnew_axis\u001b[0m\u001b[0;34m)\u001b[0m\u001b[0;34m\u001b[0m\u001b[0;34m\u001b[0m\u001b[0m\n\u001b[1;32m   4832\u001b[0m \u001b[0;34m\u001b[0m\u001b[0m\n",
            "\u001b[0;32m/usr/local/lib/python3.12/dist-packages/pandas/core/indexes/base.py\u001b[0m in \u001b[0;36mdrop\u001b[0;34m(self, labels, errors)\u001b[0m\n\u001b[1;32m   7068\u001b[0m         \u001b[0;32mif\u001b[0m \u001b[0mmask\u001b[0m\u001b[0;34m.\u001b[0m\u001b[0many\u001b[0m\u001b[0;34m(\u001b[0m\u001b[0;34m)\u001b[0m\u001b[0;34m:\u001b[0m\u001b[0;34m\u001b[0m\u001b[0;34m\u001b[0m\u001b[0m\n\u001b[1;32m   7069\u001b[0m             \u001b[0;32mif\u001b[0m \u001b[0merrors\u001b[0m \u001b[0;34m!=\u001b[0m \u001b[0;34m\"ignore\"\u001b[0m\u001b[0;34m:\u001b[0m\u001b[0;34m\u001b[0m\u001b[0;34m\u001b[0m\u001b[0m\n\u001b[0;32m-> 7070\u001b[0;31m                 \u001b[0;32mraise\u001b[0m \u001b[0mKeyError\u001b[0m\u001b[0;34m(\u001b[0m\u001b[0;34mf\"{labels[mask].tolist()} not found in axis\"\u001b[0m\u001b[0;34m)\u001b[0m\u001b[0;34m\u001b[0m\u001b[0;34m\u001b[0m\u001b[0m\n\u001b[0m\u001b[1;32m   7071\u001b[0m             \u001b[0mindexer\u001b[0m \u001b[0;34m=\u001b[0m \u001b[0mindexer\u001b[0m\u001b[0;34m[\u001b[0m\u001b[0;34m~\u001b[0m\u001b[0mmask\u001b[0m\u001b[0;34m]\u001b[0m\u001b[0;34m\u001b[0m\u001b[0;34m\u001b[0m\u001b[0m\n\u001b[1;32m   7072\u001b[0m         \u001b[0;32mreturn\u001b[0m \u001b[0mself\u001b[0m\u001b[0;34m.\u001b[0m\u001b[0mdelete\u001b[0m\u001b[0;34m(\u001b[0m\u001b[0mindexer\u001b[0m\u001b[0;34m)\u001b[0m\u001b[0;34m\u001b[0m\u001b[0;34m\u001b[0m\u001b[0m\n",
            "\u001b[0;31mKeyError\u001b[0m: \"['examide', 'citoglipton'] not found in axis\""
          ]
        }
      ]
    },
    {
      "cell_type": "code",
      "source": [
        "df.shape"
      ],
      "metadata": {
        "id": "lecr6VURrMCL"
      },
      "id": "lecr6VURrMCL",
      "execution_count": null,
      "outputs": []
    },
    {
      "cell_type": "code",
      "source": [
        "# distinct values in readmitted column\n",
        "df['readmitted'].value_counts()"
      ],
      "metadata": {
        "id": "P49Isy6ATSv2"
      },
      "id": "P49Isy6ATSv2",
      "execution_count": null,
      "outputs": []
    },
    {
      "cell_type": "code",
      "source": [
        "df['readmitted_label'] = df['readmitted'].map({'NO':0, '>30':1, '<30':2})"
      ],
      "metadata": {
        "id": "bsieUn8sV6tz"
      },
      "id": "bsieUn8sV6tz",
      "execution_count": null,
      "outputs": []
    },
    {
      "cell_type": "code",
      "source": [
        "df['readmitted_label'].unique()"
      ],
      "metadata": {
        "id": "FnCqzn1XYe_6"
      },
      "id": "FnCqzn1XYe_6",
      "execution_count": null,
      "outputs": []
    },
    {
      "cell_type": "code",
      "source": [
        "df.head()"
      ],
      "metadata": {
        "id": "bGOvus-2TSrG"
      },
      "id": "bGOvus-2TSrG",
      "execution_count": null,
      "outputs": []
    },
    {
      "cell_type": "code",
      "source": [
        "percent_missing = df.isnull().sum()*100/len(df)\n",
        "percent_missing_sorted = percent_missing.sort_values(ascending=False)\n",
        "percent_missing_sorted"
      ],
      "metadata": {
        "id": "erR3mxnen0hb"
      },
      "id": "erR3mxnen0hb",
      "execution_count": null,
      "outputs": []
    },
    {
      "cell_type": "code",
      "source": [
        "# plot on readmitted label -\n",
        "sns.countplot(data=df, x='readmitted_label') # frequency - count"
      ],
      "metadata": {
        "id": "FSMJyoYNTSoP"
      },
      "id": "FSMJyoYNTSoP",
      "execution_count": null,
      "outputs": []
    },
    {
      "cell_type": "code",
      "source": [],
      "metadata": {
        "id": "6OsnyrMPTSlq"
      },
      "id": "6OsnyrMPTSlq",
      "execution_count": null,
      "outputs": []
    },
    {
      "cell_type": "code",
      "source": [
        "df.isnull().sum()"
      ],
      "metadata": {
        "id": "QkHG_YpvTSjK"
      },
      "id": "QkHG_YpvTSjK",
      "execution_count": null,
      "outputs": []
    },
    {
      "cell_type": "code",
      "source": [
        "df.duplicated().sum()"
      ],
      "metadata": {
        "id": "91sv6rdTTSgp"
      },
      "id": "91sv6rdTTSgp",
      "execution_count": null,
      "outputs": []
    },
    {
      "cell_type": "code",
      "source": [],
      "metadata": {
        "id": "vV6MP3DcTSeV"
      },
      "id": "vV6MP3DcTSeV",
      "execution_count": null,
      "outputs": []
    },
    {
      "cell_type": "code",
      "source": [
        "# boxplot of age with readmitted\n",
        "sns.boxplot(x=df['readmitted'],y=df['age'])"
      ],
      "metadata": {
        "id": "6DE2NC8aTSb8"
      },
      "id": "6DE2NC8aTSb8",
      "execution_count": null,
      "outputs": []
    },
    {
      "cell_type": "code",
      "source": [
        "# countplot of Age group\n",
        "sns.countplot(data=df, x='age')"
      ],
      "metadata": {
        "id": "_pVW_gDtZESj"
      },
      "id": "_pVW_gDtZESj",
      "execution_count": null,
      "outputs": []
    },
    {
      "cell_type": "code",
      "source": [
        "pd.crosstab(df['age'], df['readmitted'], margins=True)  # cross tabulation of Age_group and survived columns"
      ],
      "metadata": {
        "id": "b6R-ycDCZbnF"
      },
      "id": "b6R-ycDCZbnF",
      "execution_count": null,
      "outputs": []
    },
    {
      "cell_type": "code",
      "source": [
        "pd.crosstab(df['age'], df['readmitted_label'], margins=True)  # cross tabulation of Age_group and survived columns"
      ],
      "metadata": {
        "id": "6qke8AJ3Zbk6"
      },
      "id": "6qke8AJ3Zbk6",
      "execution_count": null,
      "outputs": []
    },
    {
      "cell_type": "code",
      "source": [],
      "metadata": {
        "id": "6EhBNIQoZbix"
      },
      "id": "6EhBNIQoZbix",
      "execution_count": null,
      "outputs": []
    },
    {
      "cell_type": "code",
      "source": [],
      "metadata": {
        "id": "9zfSdS28ZbgU"
      },
      "id": "9zfSdS28ZbgU",
      "execution_count": null,
      "outputs": []
    },
    {
      "cell_type": "code",
      "source": [],
      "metadata": {
        "id": "tJJkkNm7Zbd4"
      },
      "id": "tJJkkNm7Zbd4",
      "execution_count": null,
      "outputs": []
    },
    {
      "cell_type": "code",
      "source": [],
      "metadata": {
        "id": "7-8Xw5zlZbW5"
      },
      "id": "7-8Xw5zlZbW5",
      "execution_count": null,
      "outputs": []
    },
    {
      "cell_type": "code",
      "source": [
        "# boxplot of gender with readmitted\n",
        "sns.boxplot(x=df['readmitted'],y=df['gender'])"
      ],
      "metadata": {
        "id": "ImKiM3byTSZa"
      },
      "id": "ImKiM3byTSZa",
      "execution_count": null,
      "outputs": []
    },
    {
      "cell_type": "code",
      "source": [
        "# countplot for gender with readmitted\n",
        "sns.countplot(data=df, x = 'gender', hue='readmitted')"
      ],
      "metadata": {
        "id": "LfB2qZtDTSW7"
      },
      "id": "LfB2qZtDTSW7",
      "execution_count": null,
      "outputs": []
    },
    {
      "cell_type": "code",
      "source": [
        "pd.crosstab(df['gender'], df['readmitted_label'], margins=True)  # cross tabulation of Age_group and survived columns"
      ],
      "metadata": {
        "id": "06-Te9JwTST7"
      },
      "id": "06-Te9JwTST7",
      "execution_count": null,
      "outputs": []
    },
    {
      "cell_type": "code",
      "source": [
        "# compute readmitted by gender - group by gender\n",
        "readmitted_by_gender = df.groupby('gender')['readmitted_label'].mean()\n",
        "readmitted_by_gender\n",
        "\n",
        "##NOTE: Does not make sense!"
      ],
      "metadata": {
        "id": "KkmIz_eITSNK"
      },
      "id": "KkmIz_eITSNK",
      "execution_count": null,
      "outputs": []
    },
    {
      "cell_type": "code",
      "source": [],
      "metadata": {
        "id": "ZyQtEEL7hnRA"
      },
      "id": "ZyQtEEL7hnRA",
      "execution_count": null,
      "outputs": []
    },
    {
      "cell_type": "code",
      "source": [
        "sns.boxplot(df, x='race', y='age', palette='rainbow')"
      ],
      "metadata": {
        "id": "cVRFKHt7hnOx"
      },
      "id": "cVRFKHt7hnOx",
      "execution_count": null,
      "outputs": []
    },
    {
      "cell_type": "code",
      "source": [
        "df['admission_type_desc'].unique()"
      ],
      "metadata": {
        "id": "xTYasFCWhnMj"
      },
      "id": "xTYasFCWhnMj",
      "execution_count": null,
      "outputs": []
    },
    {
      "cell_type": "code",
      "source": [
        "df['discharge_desc'].unique()"
      ],
      "metadata": {
        "id": "10Yj4GrShnKB"
      },
      "id": "10Yj4GrShnKB",
      "execution_count": null,
      "outputs": []
    },
    {
      "cell_type": "code",
      "source": [
        "df['admission_source_desc'].unique()"
      ],
      "metadata": {
        "id": "LUrXhxUdhnHe"
      },
      "id": "LUrXhxUdhnHe",
      "execution_count": null,
      "outputs": []
    },
    {
      "cell_type": "code",
      "source": [],
      "metadata": {
        "id": "eZAYmiQ4hnE3"
      },
      "id": "eZAYmiQ4hnE3",
      "execution_count": null,
      "outputs": []
    },
    {
      "cell_type": "code",
      "source": [],
      "metadata": {
        "id": "4X3cBJ9XhnCJ"
      },
      "id": "4X3cBJ9XhnCJ",
      "execution_count": null,
      "outputs": []
    },
    {
      "cell_type": "code",
      "source": [],
      "metadata": {
        "id": "G6PfJklCsdQN"
      },
      "id": "G6PfJklCsdQN",
      "execution_count": null,
      "outputs": []
    },
    {
      "cell_type": "markdown",
      "metadata": {
        "id": "YLORRoU8r9qh"
      },
      "source": [
        "## Univariate Analysis"
      ],
      "id": "YLORRoU8r9qh"
    },
    {
      "cell_type": "code",
      "execution_count": null,
      "metadata": {
        "id": "B5LcM2j5r9qh"
      },
      "outputs": [],
      "source": [],
      "id": "B5LcM2j5r9qh"
    },
    {
      "cell_type": "code",
      "execution_count": null,
      "metadata": {
        "id": "YxaAo7B3r9qh"
      },
      "outputs": [],
      "source": [],
      "id": "YxaAo7B3r9qh"
    },
    {
      "cell_type": "markdown",
      "metadata": {
        "id": "O_sB4prur9qh"
      },
      "source": [
        "## Bivariate Analysis"
      ],
      "id": "O_sB4prur9qh"
    },
    {
      "cell_type": "code",
      "execution_count": null,
      "metadata": {
        "id": "-lVkGY2_r9qh"
      },
      "outputs": [],
      "source": [],
      "id": "-lVkGY2_r9qh"
    },
    {
      "cell_type": "code",
      "execution_count": null,
      "metadata": {
        "id": "YZGLkFVVr9qh"
      },
      "outputs": [],
      "source": [],
      "id": "YZGLkFVVr9qh"
    },
    {
      "cell_type": "code",
      "execution_count": null,
      "metadata": {
        "id": "zOPyRAqRr9qh"
      },
      "outputs": [],
      "source": [],
      "id": "zOPyRAqRr9qh"
    },
    {
      "cell_type": "markdown",
      "metadata": {
        "id": "CrWga23-r9qh"
      },
      "source": [
        "## Multivariate Analysis"
      ],
      "id": "CrWga23-r9qh"
    },
    {
      "cell_type": "code",
      "execution_count": null,
      "metadata": {
        "id": "eVaiGngur9qh"
      },
      "outputs": [],
      "source": [],
      "id": "eVaiGngur9qh"
    },
    {
      "cell_type": "code",
      "execution_count": null,
      "metadata": {
        "id": "NB2X8uYMr9qh"
      },
      "outputs": [],
      "source": [],
      "id": "NB2X8uYMr9qh"
    },
    {
      "cell_type": "code",
      "execution_count": null,
      "metadata": {
        "id": "n-dAyl-hr9qh"
      },
      "outputs": [],
      "source": [],
      "id": "n-dAyl-hr9qh"
    },
    {
      "cell_type": "markdown",
      "metadata": {
        "id": "w-YaQQeSr9qh"
      },
      "source": [
        "## Summarize insights"
      ],
      "id": "w-YaQQeSr9qh"
    },
    {
      "cell_type": "markdown",
      "metadata": {
        "id": "4M58v96Zr9qh"
      },
      "source": [],
      "id": "4M58v96Zr9qh"
    }
  ],
  "metadata": {
    "kernelspec": {
      "display_name": "Python 3",
      "language": "python",
      "name": "python3"
    },
    "language_info": {
      "codemirror_mode": {
        "name": "ipython",
        "version": 3
      },
      "file_extension": ".py",
      "mimetype": "text/x-python",
      "name": "python",
      "nbconvert_exporter": "python",
      "pygments_lexer": "ipython3",
      "version": "3.7.4"
    },
    "colab": {
      "provenance": [],
      "include_colab_link": true
    }
  },
  "nbformat": 4,
  "nbformat_minor": 5
}